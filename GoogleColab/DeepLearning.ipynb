{
  "nbformat": 4,
  "nbformat_minor": 0,
  "metadata": {
    "colab": {
      "name": "DeepLearning.ipynb",
      "provenance": [],
      "collapsed_sections": [
        "0QvsiCM_LqZJ"
      ],
      "toc_visible": true
    },
    "kernelspec": {
      "name": "python3",
      "display_name": "Python 3"
    }
  },
  "cells": [
    {
      "cell_type": "markdown",
      "metadata": {
        "id": "xVb_A1ec5WOO",
        "colab_type": "text"
      },
      "source": [
        "# <center> Курсовая работа </center>\n",
        "# <center>Анализ данных из социальных сетей</center>\n",
        "# <center>Соловьев Илья</center>\n",
        "# <center>Высшая Школа Экономики</center>\n",
        "# <center>Нижний Новгород 2020</center>"
      ]
    },
    {
      "cell_type": "markdown",
      "metadata": {
        "id": "8jDqPPHs524A",
        "colab_type": "text"
      },
      "source": [
        "Основная задачи данной курсовой \n",
        "- изучить методы анализа данных \n",
        "- изучить регрессионные модели\n",
        "- изучить виды нейронных сетей и подходы к их проектированию\n",
        "- применить полученные знания и навыки на практике, а именно в анализе данных с сайта Auto.Ru, построить модель, предсказывающую цену автомобиля по его признакам"
      ]
    },
    {
      "cell_type": "code",
      "metadata": {
        "id": "PmLr4UT7AKQN",
        "colab_type": "code",
        "outputId": "6a52cb1a-362b-4438-d363-e5917f173e73",
        "colab": {
          "base_uri": "https://localhost:8080/",
          "height": 735
        }
      },
      "source": [
        "!git clone https://github.com/keras-team/keras-tuner/\n",
        "%cd keras-tuner\n",
        "!pip install ."
      ],
      "execution_count": 33,
      "outputs": [
        {
          "output_type": "stream",
          "text": [
            "Cloning into 'keras-tuner'...\n",
            "remote: Enumerating objects: 14, done.\n",
            "remote: Counting objects: 100% (14/14), done.\n",
            "remote: Compressing objects: 100% (14/14), done.\n",
            "remote: Total 6416 (delta 1), reused 1 (delta 0), pack-reused 6402\n",
            "Receiving objects: 100% (6416/6416), 1.99 MiB | 19.83 MiB/s, done.\n",
            "Resolving deltas: 100% (4482/4482), done.\n",
            "/content/keras-tuner/keras-tuner\n",
            "Processing /content/keras-tuner/keras-tuner\n",
            "Requirement already satisfied: packaging in /usr/local/lib/python3.6/dist-packages (from keras-tuner==1.0.0) (20.4)\n",
            "Requirement already satisfied: future in /usr/local/lib/python3.6/dist-packages (from keras-tuner==1.0.0) (0.16.0)\n",
            "Requirement already satisfied: numpy in /usr/local/lib/python3.6/dist-packages (from keras-tuner==1.0.0) (1.18.4)\n",
            "Requirement already satisfied: tabulate in /usr/local/lib/python3.6/dist-packages (from keras-tuner==1.0.0) (0.8.7)\n",
            "Requirement already satisfied: terminaltables in /usr/local/lib/python3.6/dist-packages (from keras-tuner==1.0.0) (3.1.0)\n",
            "Requirement already satisfied: colorama in /usr/local/lib/python3.6/dist-packages (from keras-tuner==1.0.0) (0.4.3)\n",
            "Requirement already satisfied: tqdm in /usr/local/lib/python3.6/dist-packages (from keras-tuner==1.0.0) (4.41.1)\n",
            "Requirement already satisfied: requests in /usr/local/lib/python3.6/dist-packages (from keras-tuner==1.0.0) (2.23.0)\n",
            "Requirement already satisfied: scipy in /usr/local/lib/python3.6/dist-packages (from keras-tuner==1.0.0) (1.4.1)\n",
            "Requirement already satisfied: scikit-learn in /usr/local/lib/python3.6/dist-packages (from keras-tuner==1.0.0) (0.22.2.post1)\n",
            "Requirement already satisfied: pyparsing>=2.0.2 in /usr/local/lib/python3.6/dist-packages (from packaging->keras-tuner==1.0.0) (2.4.7)\n",
            "Requirement already satisfied: six in /usr/local/lib/python3.6/dist-packages (from packaging->keras-tuner==1.0.0) (1.12.0)\n",
            "Requirement already satisfied: certifi>=2017.4.17 in /usr/local/lib/python3.6/dist-packages (from requests->keras-tuner==1.0.0) (2020.4.5.1)\n",
            "Requirement already satisfied: chardet<4,>=3.0.2 in /usr/local/lib/python3.6/dist-packages (from requests->keras-tuner==1.0.0) (3.0.4)\n",
            "Requirement already satisfied: urllib3!=1.25.0,!=1.25.1,<1.26,>=1.21.1 in /usr/local/lib/python3.6/dist-packages (from requests->keras-tuner==1.0.0) (1.24.3)\n",
            "Requirement already satisfied: idna<3,>=2.5 in /usr/local/lib/python3.6/dist-packages (from requests->keras-tuner==1.0.0) (2.9)\n",
            "Requirement already satisfied: joblib>=0.11 in /usr/local/lib/python3.6/dist-packages (from scikit-learn->keras-tuner==1.0.0) (0.15.1)\n",
            "Building wheels for collected packages: keras-tuner\n",
            "  Building wheel for keras-tuner (setup.py) ... \u001b[?25l\u001b[?25hdone\n",
            "  Created wheel for keras-tuner: filename=keras_tuner-1.0.0-cp36-none-any.whl size=88850 sha256=cfc53b55e13be467f858901e332bc6349b1638cec635e0fc761f619b4aebf863\n",
            "  Stored in directory: /root/.cache/pip/wheels/e8/c5/73/527fcfcee016e043af93334d84312eabb127595efdff6f7b11\n",
            "Successfully built keras-tuner\n",
            "Installing collected packages: keras-tuner\n",
            "  Found existing installation: keras-tuner 1.0.0\n",
            "    Uninstalling keras-tuner-1.0.0:\n",
            "      Successfully uninstalled keras-tuner-1.0.0\n",
            "Successfully installed keras-tuner-1.0.0\n"
          ],
          "name": "stdout"
        },
        {
          "output_type": "display_data",
          "data": {
            "application/vnd.colab-display-data+json": {
              "pip_warning": {
                "packages": [
                  "kerastuner"
                ]
              }
            }
          },
          "metadata": {
            "tags": []
          }
        }
      ]
    },
    {
      "cell_type": "code",
      "metadata": {
        "id": "OaK_vPVTN4dy",
        "colab_type": "code",
        "colab": {}
      },
      "source": [
        "from google.colab import files\n",
        "from kerastuner.tuners import RandomSearch, Hyperband, BayesianOptimization\n",
        "from sklearn.impute import SimpleImputer\n",
        "from sklearn.linear_model import LinearRegression, Ridge, Lasso, ElasticNet\n",
        "from sklearn.model_selection import cross_val_score, train_test_split\n",
        "from sklearn.neighbors import RadiusNeighborsRegressor, KNeighborsRegressor\n",
        "from sklearn.preprocessing import LabelEncoder, OneHotEncoder, PolynomialFeatures, StandardScaler\n",
        "from sklearn.tree import DecisionTreeRegressor\n",
        "from sklearn import metrics, preprocessing\n",
        "from statistics import mean\n",
        "from tensorflow import keras\n",
        "import matplotlib.pyplot as plt\n",
        "import numpy as np\n",
        "import pandas as pd\n",
        "import seaborn as sns"
      ],
      "execution_count": 0,
      "outputs": []
    },
    {
      "cell_type": "markdown",
      "metadata": {
        "id": "zaw_gM7tLyXR",
        "colab_type": "text"
      },
      "source": [
        "# Загрузка данных и первоначальный анализ\n",
        "\n"
      ]
    },
    {
      "cell_type": "markdown",
      "metadata": {
        "id": "qhCW4cfW7Kwt",
        "colab_type": "text"
      },
      "source": [
        "### Ифнормация о данных"
      ]
    },
    {
      "cell_type": "code",
      "metadata": {
        "id": "PWGDnn2hNQ5n",
        "colab_type": "code",
        "colab": {}
      },
      "source": [
        "df=pd.read_csv('/content/drive/My Drive/Курсач/Colab Notebooks/autoRu.csv', sep = ';')"
      ],
      "execution_count": 0,
      "outputs": []
    },
    {
      "cell_type": "code",
      "metadata": {
        "id": "BdCshf_umooV",
        "colab_type": "code",
        "outputId": "8f156e29-b539-469d-db8e-9c0a35cbfccb",
        "colab": {
          "base_uri": "https://localhost:8080/",
          "height": 456
        }
      },
      "source": [
        "df_for_test = df.copy(deep=True)\n",
        "df"
      ],
      "execution_count": 36,
      "outputs": [
        {
          "output_type": "execute_result",
          "data": {
            "text/html": [
              "<div>\n",
              "<style scoped>\n",
              "    .dataframe tbody tr th:only-of-type {\n",
              "        vertical-align: middle;\n",
              "    }\n",
              "\n",
              "    .dataframe tbody tr th {\n",
              "        vertical-align: top;\n",
              "    }\n",
              "\n",
              "    .dataframe thead th {\n",
              "        text-align: right;\n",
              "    }\n",
              "</style>\n",
              "<table border=\"1\" class=\"dataframe\">\n",
              "  <thead>\n",
              "    <tr style=\"text-align: right;\">\n",
              "      <th></th>\n",
              "      <th>Mark_info</th>\n",
              "      <th>Model_info</th>\n",
              "      <th>Year</th>\n",
              "      <th>Price_segment</th>\n",
              "      <th>Transmission</th>\n",
              "      <th>Gear_type</th>\n",
              "      <th>Fuel_rate</th>\n",
              "      <th>Vendor_country</th>\n",
              "      <th>Region</th>\n",
              "      <th>Mileage</th>\n",
              "      <th>Horse_power</th>\n",
              "      <th>Owners_number</th>\n",
              "      <th>Body_type</th>\n",
              "      <th>PTS</th>\n",
              "      <th>Color_hex</th>\n",
              "      <th>Salon</th>\n",
              "      <th>Count_doors</th>\n",
              "      <th>Auto_class</th>\n",
              "      <th>Trunk_volume_min</th>\n",
              "      <th>Price_rub</th>\n",
              "    </tr>\n",
              "  </thead>\n",
              "  <tbody>\n",
              "    <tr>\n",
              "      <th>0</th>\n",
              "      <td>Volkswagen</td>\n",
              "      <td>Polo</td>\n",
              "      <td>2011</td>\n",
              "      <td>ECONOMY</td>\n",
              "      <td>AUTOMATIC</td>\n",
              "      <td>FORWARD_CONTROL</td>\n",
              "      <td>7.0</td>\n",
              "      <td>EUROPEAN</td>\n",
              "      <td>Москва</td>\n",
              "      <td>81000</td>\n",
              "      <td>105.0</td>\n",
              "      <td>3.0</td>\n",
              "      <td>SEDAN</td>\n",
              "      <td>True</td>\n",
              "      <td>0000CC</td>\n",
              "      <td>False</td>\n",
              "      <td>4</td>\n",
              "      <td>B</td>\n",
              "      <td>460.0</td>\n",
              "      <td>279000</td>\n",
              "    </tr>\n",
              "    <tr>\n",
              "      <th>1</th>\n",
              "      <td>Lexus</td>\n",
              "      <td>LX</td>\n",
              "      <td>2015</td>\n",
              "      <td>PREMIUM</td>\n",
              "      <td>AUTOMATIC</td>\n",
              "      <td>ALL_WHEEL_DRIVE</td>\n",
              "      <td>14.4</td>\n",
              "      <td>JAPANESE</td>\n",
              "      <td>Екатеринбург</td>\n",
              "      <td>105500</td>\n",
              "      <td>367.0</td>\n",
              "      <td>2.0</td>\n",
              "      <td>ALLROAD_5_DOORS</td>\n",
              "      <td>True</td>\n",
              "      <td>040001</td>\n",
              "      <td>False</td>\n",
              "      <td>5</td>\n",
              "      <td>J</td>\n",
              "      <td>258.0</td>\n",
              "      <td>4570000</td>\n",
              "    </tr>\n",
              "    <tr>\n",
              "      <th>2</th>\n",
              "      <td>Kia</td>\n",
              "      <td>Stinger</td>\n",
              "      <td>2018</td>\n",
              "      <td>MEDIUM</td>\n",
              "      <td>AUTOMATIC</td>\n",
              "      <td>ALL_WHEEL_DRIVE</td>\n",
              "      <td>10.6</td>\n",
              "      <td>KOREAN</td>\n",
              "      <td>Воронеж</td>\n",
              "      <td>13800</td>\n",
              "      <td>370.0</td>\n",
              "      <td>1.0</td>\n",
              "      <td>LIFTBACK</td>\n",
              "      <td>True</td>\n",
              "      <td>EE1D19</td>\n",
              "      <td>False</td>\n",
              "      <td>5</td>\n",
              "      <td>D</td>\n",
              "      <td>406.0</td>\n",
              "      <td>2700000</td>\n",
              "    </tr>\n",
              "    <tr>\n",
              "      <th>3</th>\n",
              "      <td>Audi</td>\n",
              "      <td>Q7</td>\n",
              "      <td>2020</td>\n",
              "      <td>PREMIUM</td>\n",
              "      <td>AUTOMATIC</td>\n",
              "      <td>ALL_WHEEL_DRIVE</td>\n",
              "      <td>8.0</td>\n",
              "      <td>EUROPEAN</td>\n",
              "      <td>Москва</td>\n",
              "      <td>0</td>\n",
              "      <td>249.0</td>\n",
              "      <td>NaN</td>\n",
              "      <td>ALLROAD_5_DOORS</td>\n",
              "      <td>True</td>\n",
              "      <td>C49648</td>\n",
              "      <td>True</td>\n",
              "      <td>5</td>\n",
              "      <td>J</td>\n",
              "      <td>865.0</td>\n",
              "      <td>4805000</td>\n",
              "    </tr>\n",
              "    <tr>\n",
              "      <th>4</th>\n",
              "      <td>Mercedes-Benz</td>\n",
              "      <td>E-Класс</td>\n",
              "      <td>2000</td>\n",
              "      <td>PREMIUM</td>\n",
              "      <td>AUTOMATIC</td>\n",
              "      <td>REAR_DRIVE</td>\n",
              "      <td>10.2</td>\n",
              "      <td>EUROPEAN</td>\n",
              "      <td>Санкт-Петербург</td>\n",
              "      <td>405000</td>\n",
              "      <td>204.0</td>\n",
              "      <td>3.0</td>\n",
              "      <td>SEDAN</td>\n",
              "      <td>True</td>\n",
              "      <td>0000CC</td>\n",
              "      <td>False</td>\n",
              "      <td>4</td>\n",
              "      <td>E</td>\n",
              "      <td>520.0</td>\n",
              "      <td>305000</td>\n",
              "    </tr>\n",
              "    <tr>\n",
              "      <th>...</th>\n",
              "      <td>...</td>\n",
              "      <td>...</td>\n",
              "      <td>...</td>\n",
              "      <td>...</td>\n",
              "      <td>...</td>\n",
              "      <td>...</td>\n",
              "      <td>...</td>\n",
              "      <td>...</td>\n",
              "      <td>...</td>\n",
              "      <td>...</td>\n",
              "      <td>...</td>\n",
              "      <td>...</td>\n",
              "      <td>...</td>\n",
              "      <td>...</td>\n",
              "      <td>...</td>\n",
              "      <td>...</td>\n",
              "      <td>...</td>\n",
              "      <td>...</td>\n",
              "      <td>...</td>\n",
              "      <td>...</td>\n",
              "    </tr>\n",
              "    <tr>\n",
              "      <th>28116</th>\n",
              "      <td>Toyota</td>\n",
              "      <td>Avensis</td>\n",
              "      <td>2011</td>\n",
              "      <td>MEDIUM</td>\n",
              "      <td>MECHANICAL</td>\n",
              "      <td>FORWARD_CONTROL</td>\n",
              "      <td>6.5</td>\n",
              "      <td>JAPANESE</td>\n",
              "      <td>Екатеринбург</td>\n",
              "      <td>186600</td>\n",
              "      <td>147.0</td>\n",
              "      <td>2.0</td>\n",
              "      <td>SEDAN</td>\n",
              "      <td>True</td>\n",
              "      <td>EE1D19</td>\n",
              "      <td>False</td>\n",
              "      <td>4</td>\n",
              "      <td>D</td>\n",
              "      <td>509.0</td>\n",
              "      <td>655000</td>\n",
              "    </tr>\n",
              "    <tr>\n",
              "      <th>28117</th>\n",
              "      <td>Hyundai</td>\n",
              "      <td>Matrix</td>\n",
              "      <td>2008</td>\n",
              "      <td>MEDIUM</td>\n",
              "      <td>AUTOMATIC</td>\n",
              "      <td>FORWARD_CONTROL</td>\n",
              "      <td>8.3</td>\n",
              "      <td>KOREAN</td>\n",
              "      <td>Москва</td>\n",
              "      <td>159130</td>\n",
              "      <td>103.0</td>\n",
              "      <td>2.0</td>\n",
              "      <td>COMPACTVAN</td>\n",
              "      <td>True</td>\n",
              "      <td>040001</td>\n",
              "      <td>False</td>\n",
              "      <td>5</td>\n",
              "      <td>M</td>\n",
              "      <td>354.0</td>\n",
              "      <td>360000</td>\n",
              "    </tr>\n",
              "    <tr>\n",
              "      <th>28118</th>\n",
              "      <td>Volvo</td>\n",
              "      <td>XC90</td>\n",
              "      <td>2017</td>\n",
              "      <td>PREMIUM</td>\n",
              "      <td>AUTOMATIC</td>\n",
              "      <td>ALL_WHEEL_DRIVE</td>\n",
              "      <td>7.6</td>\n",
              "      <td>EUROPEAN</td>\n",
              "      <td>Краснодар</td>\n",
              "      <td>44600</td>\n",
              "      <td>249.0</td>\n",
              "      <td>1.0</td>\n",
              "      <td>ALLROAD_5_DOORS</td>\n",
              "      <td>True</td>\n",
              "      <td>C49648</td>\n",
              "      <td>False</td>\n",
              "      <td>5</td>\n",
              "      <td>J</td>\n",
              "      <td>310.0</td>\n",
              "      <td>3100000</td>\n",
              "    </tr>\n",
              "    <tr>\n",
              "      <th>28119</th>\n",
              "      <td>Nissan</td>\n",
              "      <td>Teana</td>\n",
              "      <td>2010</td>\n",
              "      <td>MEDIUM</td>\n",
              "      <td>VARIATOR</td>\n",
              "      <td>FORWARD_CONTROL</td>\n",
              "      <td>9.5</td>\n",
              "      <td>JAPANESE</td>\n",
              "      <td>Армавир</td>\n",
              "      <td>69000</td>\n",
              "      <td>182.0</td>\n",
              "      <td>2.0</td>\n",
              "      <td>SEDAN</td>\n",
              "      <td>True</td>\n",
              "      <td>040001</td>\n",
              "      <td>False</td>\n",
              "      <td>4</td>\n",
              "      <td>D</td>\n",
              "      <td>476.0</td>\n",
              "      <td>850000</td>\n",
              "    </tr>\n",
              "    <tr>\n",
              "      <th>28120</th>\n",
              "      <td>BMW</td>\n",
              "      <td>5 серия</td>\n",
              "      <td>2001</td>\n",
              "      <td>PREMIUM</td>\n",
              "      <td>AUTOMATIC</td>\n",
              "      <td>REAR_DRIVE</td>\n",
              "      <td>10.3</td>\n",
              "      <td>EUROPEAN</td>\n",
              "      <td>Москва</td>\n",
              "      <td>109886</td>\n",
              "      <td>192.0</td>\n",
              "      <td>3.0</td>\n",
              "      <td>SEDAN</td>\n",
              "      <td>True</td>\n",
              "      <td>CACECB</td>\n",
              "      <td>False</td>\n",
              "      <td>4</td>\n",
              "      <td>E</td>\n",
              "      <td>460.0</td>\n",
              "      <td>490000</td>\n",
              "    </tr>\n",
              "  </tbody>\n",
              "</table>\n",
              "<p>28121 rows × 20 columns</p>\n",
              "</div>"
            ],
            "text/plain": [
              "           Mark_info Model_info  Year  ... Auto_class Trunk_volume_min Price_rub\n",
              "0         Volkswagen       Polo  2011  ...          B            460.0    279000\n",
              "1              Lexus         LX  2015  ...          J            258.0   4570000\n",
              "2                Kia    Stinger  2018  ...          D            406.0   2700000\n",
              "3               Audi         Q7  2020  ...          J            865.0   4805000\n",
              "4      Mercedes-Benz    E-Класс  2000  ...          E            520.0    305000\n",
              "...              ...        ...   ...  ...        ...              ...       ...\n",
              "28116         Toyota    Avensis  2011  ...          D            509.0    655000\n",
              "28117        Hyundai     Matrix  2008  ...          M            354.0    360000\n",
              "28118          Volvo       XC90  2017  ...          J            310.0   3100000\n",
              "28119         Nissan      Teana  2010  ...          D            476.0    850000\n",
              "28120            BMW    5 серия  2001  ...          E            460.0    490000\n",
              "\n",
              "[28121 rows x 20 columns]"
            ]
          },
          "metadata": {
            "tags": []
          },
          "execution_count": 36
        }
      ]
    },
    {
      "cell_type": "code",
      "metadata": {
        "id": "ocbwnquqqDFj",
        "colab_type": "code",
        "outputId": "89b3eed5-4ab2-41af-a5d2-894811c686f2",
        "colab": {
          "base_uri": "https://localhost:8080/",
          "height": 297
        }
      },
      "source": [
        "df.describe()"
      ],
      "execution_count": 37,
      "outputs": [
        {
          "output_type": "execute_result",
          "data": {
            "text/html": [
              "<div>\n",
              "<style scoped>\n",
              "    .dataframe tbody tr th:only-of-type {\n",
              "        vertical-align: middle;\n",
              "    }\n",
              "\n",
              "    .dataframe tbody tr th {\n",
              "        vertical-align: top;\n",
              "    }\n",
              "\n",
              "    .dataframe thead th {\n",
              "        text-align: right;\n",
              "    }\n",
              "</style>\n",
              "<table border=\"1\" class=\"dataframe\">\n",
              "  <thead>\n",
              "    <tr style=\"text-align: right;\">\n",
              "      <th></th>\n",
              "      <th>Year</th>\n",
              "      <th>Fuel_rate</th>\n",
              "      <th>Mileage</th>\n",
              "      <th>Horse_power</th>\n",
              "      <th>Owners_number</th>\n",
              "      <th>Count_doors</th>\n",
              "      <th>Trunk_volume_min</th>\n",
              "      <th>Price_rub</th>\n",
              "    </tr>\n",
              "  </thead>\n",
              "  <tbody>\n",
              "    <tr>\n",
              "      <th>count</th>\n",
              "      <td>28121.000000</td>\n",
              "      <td>26195.000000</td>\n",
              "      <td>28121.000000</td>\n",
              "      <td>27824.000000</td>\n",
              "      <td>23443.000000</td>\n",
              "      <td>28121.000000</td>\n",
              "      <td>27232.000000</td>\n",
              "      <td>2.812100e+04</td>\n",
              "    </tr>\n",
              "    <tr>\n",
              "      <th>mean</th>\n",
              "      <td>2012.116888</td>\n",
              "      <td>7.784508</td>\n",
              "      <td>105004.810711</td>\n",
              "      <td>160.985229</td>\n",
              "      <td>2.040822</td>\n",
              "      <td>4.538103</td>\n",
              "      <td>491.905369</td>\n",
              "      <td>1.225165e+06</td>\n",
              "    </tr>\n",
              "    <tr>\n",
              "      <th>std</th>\n",
              "      <td>6.203567</td>\n",
              "      <td>1.869813</td>\n",
              "      <td>85461.577060</td>\n",
              "      <td>84.172530</td>\n",
              "      <td>0.856576</td>\n",
              "      <td>0.630243</td>\n",
              "      <td>233.399991</td>\n",
              "      <td>1.860919e+06</td>\n",
              "    </tr>\n",
              "    <tr>\n",
              "      <th>min</th>\n",
              "      <td>1958.000000</td>\n",
              "      <td>2.100000</td>\n",
              "      <td>0.000000</td>\n",
              "      <td>33.000000</td>\n",
              "      <td>1.000000</td>\n",
              "      <td>2.000000</td>\n",
              "      <td>110.000000</td>\n",
              "      <td>2.000000e+04</td>\n",
              "    </tr>\n",
              "    <tr>\n",
              "      <th>25%</th>\n",
              "      <td>2008.000000</td>\n",
              "      <td>6.600000</td>\n",
              "      <td>35000.000000</td>\n",
              "      <td>106.000000</td>\n",
              "      <td>1.000000</td>\n",
              "      <td>4.000000</td>\n",
              "      <td>400.000000</td>\n",
              "      <td>3.450000e+05</td>\n",
              "    </tr>\n",
              "    <tr>\n",
              "      <th>50%</th>\n",
              "      <td>2012.000000</td>\n",
              "      <td>7.400000</td>\n",
              "      <td>100000.000000</td>\n",
              "      <td>141.000000</td>\n",
              "      <td>2.000000</td>\n",
              "      <td>5.000000</td>\n",
              "      <td>476.000000</td>\n",
              "      <td>5.990000e+05</td>\n",
              "    </tr>\n",
              "    <tr>\n",
              "      <th>75%</th>\n",
              "      <td>2017.000000</td>\n",
              "      <td>8.500000</td>\n",
              "      <td>151000.000000</td>\n",
              "      <td>184.000000</td>\n",
              "      <td>3.000000</td>\n",
              "      <td>5.000000</td>\n",
              "      <td>530.000000</td>\n",
              "      <td>1.361300e+06</td>\n",
              "    </tr>\n",
              "    <tr>\n",
              "      <th>max</th>\n",
              "      <td>2020.000000</td>\n",
              "      <td>19.200000</td>\n",
              "      <td>999999.000000</td>\n",
              "      <td>650.000000</td>\n",
              "      <td>3.000000</td>\n",
              "      <td>5.000000</td>\n",
              "      <td>9300.000000</td>\n",
              "      <td>3.300000e+07</td>\n",
              "    </tr>\n",
              "  </tbody>\n",
              "</table>\n",
              "</div>"
            ],
            "text/plain": [
              "               Year     Fuel_rate  ...  Trunk_volume_min     Price_rub\n",
              "count  28121.000000  26195.000000  ...      27232.000000  2.812100e+04\n",
              "mean    2012.116888      7.784508  ...        491.905369  1.225165e+06\n",
              "std        6.203567      1.869813  ...        233.399991  1.860919e+06\n",
              "min     1958.000000      2.100000  ...        110.000000  2.000000e+04\n",
              "25%     2008.000000      6.600000  ...        400.000000  3.450000e+05\n",
              "50%     2012.000000      7.400000  ...        476.000000  5.990000e+05\n",
              "75%     2017.000000      8.500000  ...        530.000000  1.361300e+06\n",
              "max     2020.000000     19.200000  ...       9300.000000  3.300000e+07\n",
              "\n",
              "[8 rows x 8 columns]"
            ]
          },
          "metadata": {
            "tags": []
          },
          "execution_count": 37
        }
      ]
    },
    {
      "cell_type": "markdown",
      "metadata": {
        "id": "3HyMGc2w7miA",
        "colab_type": "text"
      },
      "source": [
        "### Заполнение пропусков"
      ]
    },
    {
      "cell_type": "code",
      "metadata": {
        "id": "STaWeYax94y4",
        "colab_type": "code",
        "colab": {}
      },
      "source": [
        "#Заполняем пропуски\n",
        "df['Fuel_rate'].fillna(7.7, inplace=True)\n",
        "df['Horse_power'].fillna(160, inplace=True)\n",
        "df['Owners_number'].fillna(2, inplace=True)\n",
        "df['PTS'].fillna(False, inplace=True)\n",
        "df['Trunk_volume_min'].fillna(458, inplace=True)\n",
        "df['Auto_class'].fillna('J', inplace=True)"
      ],
      "execution_count": 0,
      "outputs": []
    },
    {
      "cell_type": "code",
      "metadata": {
        "id": "KRoDRQF6qqR2",
        "colab_type": "code",
        "outputId": "190d10c5-881b-4d9d-8a94-e9f6b7da6720",
        "colab": {
          "base_uri": "https://localhost:8080/",
          "height": 476
        }
      },
      "source": [
        "df.info()"
      ],
      "execution_count": 39,
      "outputs": [
        {
          "output_type": "stream",
          "text": [
            "<class 'pandas.core.frame.DataFrame'>\n",
            "RangeIndex: 28121 entries, 0 to 28120\n",
            "Data columns (total 20 columns):\n",
            " #   Column            Non-Null Count  Dtype  \n",
            "---  ------            --------------  -----  \n",
            " 0   Mark_info         28121 non-null  object \n",
            " 1   Model_info        28121 non-null  object \n",
            " 2   Year              28121 non-null  int64  \n",
            " 3   Price_segment     28121 non-null  object \n",
            " 4   Transmission      28121 non-null  object \n",
            " 5   Gear_type         28121 non-null  object \n",
            " 6   Fuel_rate         28121 non-null  float64\n",
            " 7   Vendor_country    28121 non-null  object \n",
            " 8   Region            28121 non-null  object \n",
            " 9   Mileage           28121 non-null  int64  \n",
            " 10  Horse_power       28121 non-null  float64\n",
            " 11  Owners_number     28121 non-null  float64\n",
            " 12  Body_type         28121 non-null  object \n",
            " 13  PTS               28121 non-null  bool   \n",
            " 14  Color_hex         28121 non-null  object \n",
            " 15  Salon             28121 non-null  bool   \n",
            " 16  Count_doors       28121 non-null  int64  \n",
            " 17  Auto_class        28121 non-null  object \n",
            " 18  Trunk_volume_min  28121 non-null  float64\n",
            " 19  Price_rub         28121 non-null  int64  \n",
            "dtypes: bool(2), float64(4), int64(4), object(10)\n",
            "memory usage: 3.9+ MB\n"
          ],
          "name": "stdout"
        }
      ]
    },
    {
      "cell_type": "markdown",
      "metadata": {
        "id": "yV3z1K6H7xIE",
        "colab_type": "text"
      },
      "source": [
        "### Немного графиков"
      ]
    },
    {
      "cell_type": "code",
      "metadata": {
        "id": "8vH1hy1A_YI-",
        "colab_type": "code",
        "outputId": "f53d14b9-e18c-466e-a296-112001eb9df0",
        "colab": {
          "base_uri": "https://localhost:8080/",
          "height": 273
        }
      },
      "source": [
        "f = plt.figure(figsize=(20, 4))\n",
        "sns.set(style=\"whitegrid\")\n",
        "ax = sns.boxplot(x=df[\"Price_rub\"])\n",
        "ax.set(xlim=(0, 15000000))"
      ],
      "execution_count": 40,
      "outputs": [
        {
          "output_type": "execute_result",
          "data": {
            "text/plain": [
              "[(0.0, 15000000.0)]"
            ]
          },
          "metadata": {
            "tags": []
          },
          "execution_count": 40
        },
        {
          "output_type": "display_data",
          "data": {
            "image/png": "[encoded data removed]",
            "text/plain": [
              "<Figure size 1440x288 with 1 Axes>"
            ]
          },
          "metadata": {
            "tags": []
          }
        }
      ]
    },
    {
      "cell_type": "code",
      "metadata": {
        "id": "NE47hG-jC_3I",
        "colab_type": "code",
        "outputId": "f5fd4e60-37c7-4339-e703-054e2e5aeca0",
        "colab": {
          "base_uri": "https://localhost:8080/",
          "height": 270
        }
      },
      "source": [
        "f = plt.figure(figsize=(20, 4))\n",
        "sns.set(style=\"whitegrid\")\n",
        "ax = sns.boxplot(x=df[\"Price_rub\"])\n",
        "ax.set(xlim=(0, 2000000))"
      ],
      "execution_count": 41,
      "outputs": [
        {
          "output_type": "execute_result",
          "data": {
            "text/plain": [
              "[(0.0, 2000000.0)]"
            ]
          },
          "metadata": {
            "tags": []
          },
          "execution_count": 41
        },
        {
          "output_type": "display_data",
          "data": {
            "image/png": "[encoded data removed]",
            "text/plain": [
              "<Figure size 1440x288 with 1 Axes>"
            ]
          },
          "metadata": {
            "tags": []
          }
        }
      ]
    },
    {
      "cell_type": "code",
      "metadata": {
        "id": "TmiADoB5q6Oz",
        "colab_type": "code",
        "outputId": "d0764ea5-2090-4b1a-bf24-6d76b31af7b2",
        "colab": {
          "base_uri": "https://localhost:8080/",
          "height": 332
        }
      },
      "source": [
        "df_var = df.groupby(['Mark_info']).Model_info.count() \n",
        "df_var.sort_values(inplace=True, ascending=False)\n",
        "df_var.plot(kind='bar', figsize = (20,4))"
      ],
      "execution_count": 42,
      "outputs": [
        {
          "output_type": "execute_result",
          "data": {
            "text/plain": [
              "<matplotlib.axes._subplots.AxesSubplot at 0x7f9167a8d5f8>"
            ]
          },
          "metadata": {
            "tags": []
          },
          "execution_count": 42
        },
        {
          "output_type": "display_data",
          "data": {
            "image/png": "[encoded data removed]",
            "text/plain": [
              "<Figure size 1440x288 with 1 Axes>"
            ]
          },
          "metadata": {
            "tags": []
          }
        }
      ]
    },
    {
      "cell_type": "code",
      "metadata": {
        "id": "HMDmd1l5rG_2",
        "colab_type": "code",
        "outputId": "b9d21060-ae42-4ab7-f433-2ee382f842d7",
        "colab": {
          "base_uri": "https://localhost:8080/",
          "height": 283
        }
      },
      "source": [
        "df_var = df.groupby(['Year']).Model_info.count() \n",
        "df_var.plot(kind='bar', figsize = (20,4))"
      ],
      "execution_count": 43,
      "outputs": [
        {
          "output_type": "execute_result",
          "data": {
            "text/plain": [
              "<matplotlib.axes._subplots.AxesSubplot at 0x7f91678a3160>"
            ]
          },
          "metadata": {
            "tags": []
          },
          "execution_count": 43
        },
        {
          "output_type": "display_data",
          "data": {
            "image/png": "[encoded data removed]",
            "text/plain": [
              "<Figure size 1440x288 with 1 Axes>"
            ]
          },
          "metadata": {
            "tags": []
          }
        }
      ]
    },
    {
      "cell_type": "code",
      "metadata": {
        "id": "E6IqBzZxlKSw",
        "colab_type": "code",
        "outputId": "f3345cf1-387b-4e3e-addd-63e22581e3ab",
        "colab": {
          "base_uri": "https://localhost:8080/",
          "height": 691
        }
      },
      "source": [
        "numeric_data = ['Year', 'Fuel_rate', 'Mileage', 'Horse_power', 'Owners_number', 'Count_doors', 'Trunk_volume_min', 'Price_rub']\n",
        "f=pd.melt(df, value_vars=sorted(numeric_data))\n",
        "g=sns.FacetGrid(f, col='variable', col_wrap=3, sharex=False, sharey=False)\n",
        "g.fig.set_figwidth(15)\n",
        "g.fig.set_figheight(10)\n",
        "g=g.map(sns.distplot,'value')"
      ],
      "execution_count": 44,
      "outputs": [
        {
          "output_type": "display_data",
          "data": {
            "image/png": "[encoded data removed]",
            "text/plain": [
              "<Figure size 1080x720 with 8 Axes>"
            ]
          },
          "metadata": {
            "tags": []
          }
        }
      ]
    },
    {
      "cell_type": "code",
      "metadata": {
        "id": "k528fH5Psx6p",
        "colab_type": "code",
        "outputId": "8572c232-698a-452b-fdc2-66ce0a4ab3d9",
        "colab": {
          "base_uri": "https://localhost:8080/",
          "height": 745
        }
      },
      "source": [
        "categorical_data = ['Price_segment', 'Transmission', 'Gear_type', 'Vendor_country', 'Body_type', 'PTS', 'Salon', 'Auto_class']\n",
        "f=pd.melt(df, value_vars=sorted(categorical_data))\n",
        "g=sns.FacetGrid(f, col='variable', col_wrap=3, sharex=False, sharey=False)\n",
        "[plt.setp(ax.get_xticklabels(), rotation = 90) for ax in g.axes.flat]\n",
        "g.fig.tight_layout()\n",
        "g.fig.set_figwidth(15)\n",
        "g.fig.set_figheight(10)\n",
        "g=g.map(sns.countplot,'value')"
      ],
      "execution_count": 45,
      "outputs": [
        {
          "output_type": "stream",
          "text": [
            "/usr/local/lib/python3.6/dist-packages/seaborn/axisgrid.py:723: UserWarning: Using the countplot function without specifying `order` is likely to produce an incorrect plot.\n",
            "  warnings.warn(warning)\n"
          ],
          "name": "stderr"
        },
        {
          "output_type": "display_data",
          "data": {
            "image/png": "[encoded data removed]",
            "text/plain": [
              "<Figure size 1080x720 with 8 Axes>"
            ]
          },
          "metadata": {
            "tags": []
          }
        }
      ]
    },
    {
      "cell_type": "markdown",
      "metadata": {
        "id": "K5CfTgRpurNq",
        "colab_type": "text"
      },
      "source": [
        "# Препроцессинг"
      ]
    },
    {
      "cell_type": "code",
      "metadata": {
        "id": "p3OzyTvBvyj1",
        "colab_type": "code",
        "outputId": "1ee91d99-4538-4662-cd8b-21729de58fb0",
        "colab": {
          "base_uri": "https://localhost:8080/",
          "height": 456
        }
      },
      "source": [
        "df"
      ],
      "execution_count": 46,
      "outputs": [
        {
          "output_type": "execute_result",
          "data": {
            "text/html": [
              "<div>\n",
              "<style scoped>\n",
              "    .dataframe tbody tr th:only-of-type {\n",
              "        vertical-align: middle;\n",
              "    }\n",
              "\n",
              "    .dataframe tbody tr th {\n",
              "        vertical-align: top;\n",
              "    }\n",
              "\n",
              "    .dataframe thead th {\n",
              "        text-align: right;\n",
              "    }\n",
              "</style>\n",
              "<table border=\"1\" class=\"dataframe\">\n",
              "  <thead>\n",
              "    <tr style=\"text-align: right;\">\n",
              "      <th></th>\n",
              "      <th>Mark_info</th>\n",
              "      <th>Model_info</th>\n",
              "      <th>Year</th>\n",
              "      <th>Price_segment</th>\n",
              "      <th>Transmission</th>\n",
              "      <th>Gear_type</th>\n",
              "      <th>Fuel_rate</th>\n",
              "      <th>Vendor_country</th>\n",
              "      <th>Region</th>\n",
              "      <th>Mileage</th>\n",
              "      <th>Horse_power</th>\n",
              "      <th>Owners_number</th>\n",
              "      <th>Body_type</th>\n",
              "      <th>PTS</th>\n",
              "      <th>Color_hex</th>\n",
              "      <th>Salon</th>\n",
              "      <th>Count_doors</th>\n",
              "      <th>Auto_class</th>\n",
              "      <th>Trunk_volume_min</th>\n",
              "      <th>Price_rub</th>\n",
              "    </tr>\n",
              "  </thead>\n",
              "  <tbody>\n",
              "    <tr>\n",
              "      <th>0</th>\n",
              "      <td>Volkswagen</td>\n",
              "      <td>Polo</td>\n",
              "      <td>2011</td>\n",
              "      <td>ECONOMY</td>\n",
              "      <td>AUTOMATIC</td>\n",
              "      <td>FORWARD_CONTROL</td>\n",
              "      <td>7.0</td>\n",
              "      <td>EUROPEAN</td>\n",
              "      <td>Москва</td>\n",
              "      <td>81000</td>\n",
              "      <td>105.0</td>\n",
              "      <td>3.0</td>\n",
              "      <td>SEDAN</td>\n",
              "      <td>True</td>\n",
              "      <td>0000CC</td>\n",
              "      <td>False</td>\n",
              "      <td>4</td>\n",
              "      <td>B</td>\n",
              "      <td>460.0</td>\n",
              "      <td>279000</td>\n",
              "    </tr>\n",
              "    <tr>\n",
              "      <th>1</th>\n",
              "      <td>Lexus</td>\n",
              "      <td>LX</td>\n",
              "      <td>2015</td>\n",
              "      <td>PREMIUM</td>\n",
              "      <td>AUTOMATIC</td>\n",
              "      <td>ALL_WHEEL_DRIVE</td>\n",
              "      <td>14.4</td>\n",
              "      <td>JAPANESE</td>\n",
              "      <td>Екатеринбург</td>\n",
              "      <td>105500</td>\n",
              "      <td>367.0</td>\n",
              "      <td>2.0</td>\n",
              "      <td>ALLROAD_5_DOORS</td>\n",
              "      <td>True</td>\n",
              "      <td>040001</td>\n",
              "      <td>False</td>\n",
              "      <td>5</td>\n",
              "      <td>J</td>\n",
              "      <td>258.0</td>\n",
              "      <td>4570000</td>\n",
              "    </tr>\n",
              "    <tr>\n",
              "      <th>2</th>\n",
              "      <td>Kia</td>\n",
              "      <td>Stinger</td>\n",
              "      <td>2018</td>\n",
              "      <td>MEDIUM</td>\n",
              "      <td>AUTOMATIC</td>\n",
              "      <td>ALL_WHEEL_DRIVE</td>\n",
              "      <td>10.6</td>\n",
              "      <td>KOREAN</td>\n",
              "      <td>Воронеж</td>\n",
              "      <td>13800</td>\n",
              "      <td>370.0</td>\n",
              "      <td>1.0</td>\n",
              "      <td>LIFTBACK</td>\n",
              "      <td>True</td>\n",
              "      <td>EE1D19</td>\n",
              "      <td>False</td>\n",
              "      <td>5</td>\n",
              "      <td>D</td>\n",
              "      <td>406.0</td>\n",
              "      <td>2700000</td>\n",
              "    </tr>\n",
              "    <tr>\n",
              "      <th>3</th>\n",
              "      <td>Audi</td>\n",
              "      <td>Q7</td>\n",
              "      <td>2020</td>\n",
              "      <td>PREMIUM</td>\n",
              "      <td>AUTOMATIC</td>\n",
              "      <td>ALL_WHEEL_DRIVE</td>\n",
              "      <td>8.0</td>\n",
              "      <td>EUROPEAN</td>\n",
              "      <td>Москва</td>\n",
              "      <td>0</td>\n",
              "      <td>249.0</td>\n",
              "      <td>2.0</td>\n",
              "      <td>ALLROAD_5_DOORS</td>\n",
              "      <td>True</td>\n",
              "      <td>C49648</td>\n",
              "      <td>True</td>\n",
              "      <td>5</td>\n",
              "      <td>J</td>\n",
              "      <td>865.0</td>\n",
              "      <td>4805000</td>\n",
              "    </tr>\n",
              "    <tr>\n",
              "      <th>4</th>\n",
              "      <td>Mercedes-Benz</td>\n",
              "      <td>E-Класс</td>\n",
              "      <td>2000</td>\n",
              "      <td>PREMIUM</td>\n",
              "      <td>AUTOMATIC</td>\n",
              "      <td>REAR_DRIVE</td>\n",
              "      <td>10.2</td>\n",
              "      <td>EUROPEAN</td>\n",
              "      <td>Санкт-Петербург</td>\n",
              "      <td>405000</td>\n",
              "      <td>204.0</td>\n",
              "      <td>3.0</td>\n",
              "      <td>SEDAN</td>\n",
              "      <td>True</td>\n",
              "      <td>0000CC</td>\n",
              "      <td>False</td>\n",
              "      <td>4</td>\n",
              "      <td>E</td>\n",
              "      <td>520.0</td>\n",
              "      <td>305000</td>\n",
              "    </tr>\n",
              "    <tr>\n",
              "      <th>...</th>\n",
              "      <td>...</td>\n",
              "      <td>...</td>\n",
              "      <td>...</td>\n",
              "      <td>...</td>\n",
              "      <td>...</td>\n",
              "      <td>...</td>\n",
              "      <td>...</td>\n",
              "      <td>...</td>\n",
              "      <td>...</td>\n",
              "      <td>...</td>\n",
              "      <td>...</td>\n",
              "      <td>...</td>\n",
              "      <td>...</td>\n",
              "      <td>...</td>\n",
              "      <td>...</td>\n",
              "      <td>...</td>\n",
              "      <td>...</td>\n",
              "      <td>...</td>\n",
              "      <td>...</td>\n",
              "      <td>...</td>\n",
              "    </tr>\n",
              "    <tr>\n",
              "      <th>28116</th>\n",
              "      <td>Toyota</td>\n",
              "      <td>Avensis</td>\n",
              "      <td>2011</td>\n",
              "      <td>MEDIUM</td>\n",
              "      <td>MECHANICAL</td>\n",
              "      <td>FORWARD_CONTROL</td>\n",
              "      <td>6.5</td>\n",
              "      <td>JAPANESE</td>\n",
              "      <td>Екатеринбург</td>\n",
              "      <td>186600</td>\n",
              "      <td>147.0</td>\n",
              "      <td>2.0</td>\n",
              "      <td>SEDAN</td>\n",
              "      <td>True</td>\n",
              "      <td>EE1D19</td>\n",
              "      <td>False</td>\n",
              "      <td>4</td>\n",
              "      <td>D</td>\n",
              "      <td>509.0</td>\n",
              "      <td>655000</td>\n",
              "    </tr>\n",
              "    <tr>\n",
              "      <th>28117</th>\n",
              "      <td>Hyundai</td>\n",
              "      <td>Matrix</td>\n",
              "      <td>2008</td>\n",
              "      <td>MEDIUM</td>\n",
              "      <td>AUTOMATIC</td>\n",
              "      <td>FORWARD_CONTROL</td>\n",
              "      <td>8.3</td>\n",
              "      <td>KOREAN</td>\n",
              "      <td>Москва</td>\n",
              "      <td>159130</td>\n",
              "      <td>103.0</td>\n",
              "      <td>2.0</td>\n",
              "      <td>COMPACTVAN</td>\n",
              "      <td>True</td>\n",
              "      <td>040001</td>\n",
              "      <td>False</td>\n",
              "      <td>5</td>\n",
              "      <td>M</td>\n",
              "      <td>354.0</td>\n",
              "      <td>360000</td>\n",
              "    </tr>\n",
              "    <tr>\n",
              "      <th>28118</th>\n",
              "      <td>Volvo</td>\n",
              "      <td>XC90</td>\n",
              "      <td>2017</td>\n",
              "      <td>PREMIUM</td>\n",
              "      <td>AUTOMATIC</td>\n",
              "      <td>ALL_WHEEL_DRIVE</td>\n",
              "      <td>7.6</td>\n",
              "      <td>EUROPEAN</td>\n",
              "      <td>Краснодар</td>\n",
              "      <td>44600</td>\n",
              "      <td>249.0</td>\n",
              "      <td>1.0</td>\n",
              "      <td>ALLROAD_5_DOORS</td>\n",
              "      <td>True</td>\n",
              "      <td>C49648</td>\n",
              "      <td>False</td>\n",
              "      <td>5</td>\n",
              "      <td>J</td>\n",
              "      <td>310.0</td>\n",
              "      <td>3100000</td>\n",
              "    </tr>\n",
              "    <tr>\n",
              "      <th>28119</th>\n",
              "      <td>Nissan</td>\n",
              "      <td>Teana</td>\n",
              "      <td>2010</td>\n",
              "      <td>MEDIUM</td>\n",
              "      <td>VARIATOR</td>\n",
              "      <td>FORWARD_CONTROL</td>\n",
              "      <td>9.5</td>\n",
              "      <td>JAPANESE</td>\n",
              "      <td>Армавир</td>\n",
              "      <td>69000</td>\n",
              "      <td>182.0</td>\n",
              "      <td>2.0</td>\n",
              "      <td>SEDAN</td>\n",
              "      <td>True</td>\n",
              "      <td>040001</td>\n",
              "      <td>False</td>\n",
              "      <td>4</td>\n",
              "      <td>D</td>\n",
              "      <td>476.0</td>\n",
              "      <td>850000</td>\n",
              "    </tr>\n",
              "    <tr>\n",
              "      <th>28120</th>\n",
              "      <td>BMW</td>\n",
              "      <td>5 серия</td>\n",
              "      <td>2001</td>\n",
              "      <td>PREMIUM</td>\n",
              "      <td>AUTOMATIC</td>\n",
              "      <td>REAR_DRIVE</td>\n",
              "      <td>10.3</td>\n",
              "      <td>EUROPEAN</td>\n",
              "      <td>Москва</td>\n",
              "      <td>109886</td>\n",
              "      <td>192.0</td>\n",
              "      <td>3.0</td>\n",
              "      <td>SEDAN</td>\n",
              "      <td>True</td>\n",
              "      <td>CACECB</td>\n",
              "      <td>False</td>\n",
              "      <td>4</td>\n",
              "      <td>E</td>\n",
              "      <td>460.0</td>\n",
              "      <td>490000</td>\n",
              "    </tr>\n",
              "  </tbody>\n",
              "</table>\n",
              "<p>28121 rows × 20 columns</p>\n",
              "</div>"
            ],
            "text/plain": [
              "           Mark_info Model_info  Year  ... Auto_class Trunk_volume_min Price_rub\n",
              "0         Volkswagen       Polo  2011  ...          B            460.0    279000\n",
              "1              Lexus         LX  2015  ...          J            258.0   4570000\n",
              "2                Kia    Stinger  2018  ...          D            406.0   2700000\n",
              "3               Audi         Q7  2020  ...          J            865.0   4805000\n",
              "4      Mercedes-Benz    E-Класс  2000  ...          E            520.0    305000\n",
              "...              ...        ...   ...  ...        ...              ...       ...\n",
              "28116         Toyota    Avensis  2011  ...          D            509.0    655000\n",
              "28117        Hyundai     Matrix  2008  ...          M            354.0    360000\n",
              "28118          Volvo       XC90  2017  ...          J            310.0   3100000\n",
              "28119         Nissan      Teana  2010  ...          D            476.0    850000\n",
              "28120            BMW    5 серия  2001  ...          E            460.0    490000\n",
              "\n",
              "[28121 rows x 20 columns]"
            ]
          },
          "metadata": {
            "tags": []
          },
          "execution_count": 46
        }
      ]
    },
    {
      "cell_type": "markdown",
      "metadata": {
        "id": "_at9Zgqh73Zf",
        "colab_type": "text"
      },
      "source": [
        "### Приведение признаков к нужным типам"
      ]
    },
    {
      "cell_type": "code",
      "metadata": {
        "id": "XYBl71qKsweq",
        "colab_type": "code",
        "colab": {}
      },
      "source": [
        "#Bool значение к бинарным\n",
        "df[\"PTS\"] = df[\"PTS\"].astype(float)\n",
        "df[\"Salon\"] = df[\"Salon\"].astype(float)"
      ],
      "execution_count": 0,
      "outputs": []
    },
    {
      "cell_type": "code",
      "metadata": {
        "id": "fIw68QnhwnKg",
        "colab_type": "code",
        "colab": {}
      },
      "source": [
        "#Кодируем категориальные признаки числами\n",
        "\n",
        "mark_encoder = preprocessing.LabelEncoder() \n",
        "mark_encoder.fit(df['Mark_info']) \n",
        "df['Mark_info'] = mark_encoder.transform(df['Mark_info']) \n",
        "\n",
        "model_encoder = preprocessing.LabelEncoder() \n",
        "model_encoder.fit(df['Model_info']) \n",
        "df['Model_info'] = model_encoder.transform(df['Model_info']) \n",
        "\n",
        "color_encoder = preprocessing.LabelEncoder() \n",
        "color_encoder.fit(df['Color_hex']) \n",
        "df['Color_hex'] = color_encoder.transform(df['Color_hex']) \n",
        "\n",
        "region_encoder = preprocessing.LabelEncoder() \n",
        "region_encoder.fit(df['Region']) \n",
        "df['Region'] = region_encoder.transform(df['Region'])\n",
        "\n",
        "price_segment_encoder = preprocessing.LabelEncoder() \n",
        "price_segment_encoder.fit(df['Price_segment']) \n",
        "df['Price_segment'] = price_segment_encoder.transform(df['Price_segment'])\n",
        "\n",
        "transmission_encoder = preprocessing.LabelEncoder() \n",
        "transmission_encoder.fit(df['Transmission']) \n",
        "df['Transmission'] = transmission_encoder.transform(df['Transmission'])\n",
        "\n",
        "gear_type_encoder = preprocessing.LabelEncoder() \n",
        "gear_type_encoder.fit(df['Gear_type']) \n",
        "df['Gear_type'] = gear_type_encoder.transform(df['Gear_type'])\n",
        "\n",
        "vendor_country_encoder = preprocessing.LabelEncoder() \n",
        "vendor_country_encoder.fit(df['Vendor_country']) \n",
        "df['Vendor_country'] = vendor_country_encoder.transform(df['Vendor_country'])\n",
        "\n",
        "body_type_encoder = preprocessing.LabelEncoder() \n",
        "body_type_encoder.fit(df['Body_type']) \n",
        "df['Body_type'] = body_type_encoder.transform(df['Body_type'])\n",
        "\n",
        "auto_class_encoder = preprocessing.LabelEncoder() \n",
        "auto_class_encoder.fit(df['Auto_class']) \n",
        "df['Auto_class'] = auto_class_encoder.transform(df['Auto_class'])"
      ],
      "execution_count": 0,
      "outputs": []
    },
    {
      "cell_type": "markdown",
      "metadata": {
        "id": "mwhZ9JBU78sq",
        "colab_type": "text"
      },
      "source": [
        "### Матрица корреляции"
      ]
    },
    {
      "cell_type": "code",
      "metadata": {
        "id": "5Y09_O8ajBGL",
        "colab_type": "code",
        "outputId": "080b25d6-f66b-4e0b-e2d6-fd54880eab4b",
        "colab": {
          "base_uri": "https://localhost:8080/",
          "height": 914
        }
      },
      "source": [
        "#Матрица корреляции\n",
        "f = plt.figure(figsize=(19, 15))\n",
        "df_var = df\n",
        "df_var\n",
        "plt.matshow(df_var.corr(), fignum=f.number)\n",
        "plt.xticks(range(df_var.shape[1]), df_var.columns, fontsize=14, rotation=90)\n",
        "plt.yticks(range(df_var.shape[1]), df_var.columns, fontsize=14)\n",
        "cb = plt.colorbar()\n",
        "cb.ax.tick_params(labelsize=14)"
      ],
      "execution_count": 49,
      "outputs": [
        {
          "output_type": "display_data",
          "data": {
            "image/png": "[encoded data removed]",
            "text/plain": [
              "<Figure size 1368x1080 with 2 Axes>"
            ]
          },
          "metadata": {
            "tags": []
          }
        }
      ]
    },
    {
      "cell_type": "code",
      "metadata": {
        "id": "QDdi189byNoB",
        "colab_type": "code",
        "colab": {}
      },
      "source": [
        "#OneHotEncoding\n",
        "df = pd.get_dummies(df, columns=['Price_segment', 'Transmission','Gear_type','Vendor_country','Body_type','Auto_class'], drop_first=True)"
      ],
      "execution_count": 0,
      "outputs": []
    },
    {
      "cell_type": "code",
      "metadata": {
        "id": "yse6GKtEzYcN",
        "colab_type": "code",
        "outputId": "aa62b779-3c41-4213-fb20-81bedc621c0e",
        "colab": {
          "base_uri": "https://localhost:8080/",
          "height": 439
        }
      },
      "source": [
        "df"
      ],
      "execution_count": 51,
      "outputs": [
        {
          "output_type": "execute_result",
          "data": {
            "text/html": [
              "<div>\n",
              "<style scoped>\n",
              "    .dataframe tbody tr th:only-of-type {\n",
              "        vertical-align: middle;\n",
              "    }\n",
              "\n",
              "    .dataframe tbody tr th {\n",
              "        vertical-align: top;\n",
              "    }\n",
              "\n",
              "    .dataframe thead th {\n",
              "        text-align: right;\n",
              "    }\n",
              "</style>\n",
              "<table border=\"1\" class=\"dataframe\">\n",
              "  <thead>\n",
              "    <tr style=\"text-align: right;\">\n",
              "      <th></th>\n",
              "      <th>Mark_info</th>\n",
              "      <th>Model_info</th>\n",
              "      <th>Year</th>\n",
              "      <th>Fuel_rate</th>\n",
              "      <th>Region</th>\n",
              "      <th>Mileage</th>\n",
              "      <th>Horse_power</th>\n",
              "      <th>Owners_number</th>\n",
              "      <th>PTS</th>\n",
              "      <th>Color_hex</th>\n",
              "      <th>Salon</th>\n",
              "      <th>Count_doors</th>\n",
              "      <th>Trunk_volume_min</th>\n",
              "      <th>Price_rub</th>\n",
              "      <th>Price_segment_1</th>\n",
              "      <th>Price_segment_2</th>\n",
              "      <th>Transmission_1</th>\n",
              "      <th>Transmission_2</th>\n",
              "      <th>Transmission_3</th>\n",
              "      <th>Gear_type_1</th>\n",
              "      <th>Gear_type_2</th>\n",
              "      <th>Vendor_country_1</th>\n",
              "      <th>Vendor_country_2</th>\n",
              "      <th>Vendor_country_3</th>\n",
              "      <th>Vendor_country_4</th>\n",
              "      <th>Vendor_country_5</th>\n",
              "      <th>Vendor_country_6</th>\n",
              "      <th>Body_type_1</th>\n",
              "      <th>Body_type_2</th>\n",
              "      <th>Body_type_3</th>\n",
              "      <th>Body_type_4</th>\n",
              "      <th>Body_type_5</th>\n",
              "      <th>Body_type_6</th>\n",
              "      <th>Body_type_7</th>\n",
              "      <th>Body_type_8</th>\n",
              "      <th>Body_type_9</th>\n",
              "      <th>Body_type_10</th>\n",
              "      <th>Body_type_11</th>\n",
              "      <th>Body_type_12</th>\n",
              "      <th>Body_type_13</th>\n",
              "      <th>Body_type_14</th>\n",
              "      <th>Body_type_15</th>\n",
              "      <th>Body_type_16</th>\n",
              "      <th>Body_type_17</th>\n",
              "      <th>Auto_class_1</th>\n",
              "      <th>Auto_class_2</th>\n",
              "      <th>Auto_class_3</th>\n",
              "      <th>Auto_class_4</th>\n",
              "      <th>Auto_class_5</th>\n",
              "      <th>Auto_class_6</th>\n",
              "      <th>Auto_class_7</th>\n",
              "      <th>Auto_class_8</th>\n",
              "    </tr>\n",
              "  </thead>\n",
              "  <tbody>\n",
              "    <tr>\n",
              "      <th>0</th>\n",
              "      <td>59</td>\n",
              "      <td>353</td>\n",
              "      <td>2011</td>\n",
              "      <td>7.0</td>\n",
              "      <td>176</td>\n",
              "      <td>81000</td>\n",
              "      <td>105.0</td>\n",
              "      <td>3.0</td>\n",
              "      <td>1.0</td>\n",
              "      <td>0</td>\n",
              "      <td>0.0</td>\n",
              "      <td>4</td>\n",
              "      <td>460.0</td>\n",
              "      <td>279000</td>\n",
              "      <td>0</td>\n",
              "      <td>0</td>\n",
              "      <td>0</td>\n",
              "      <td>0</td>\n",
              "      <td>0</td>\n",
              "      <td>1</td>\n",
              "      <td>0</td>\n",
              "      <td>0</td>\n",
              "      <td>1</td>\n",
              "      <td>0</td>\n",
              "      <td>0</td>\n",
              "      <td>0</td>\n",
              "      <td>0</td>\n",
              "      <td>0</td>\n",
              "      <td>0</td>\n",
              "      <td>0</td>\n",
              "      <td>0</td>\n",
              "      <td>0</td>\n",
              "      <td>0</td>\n",
              "      <td>0</td>\n",
              "      <td>0</td>\n",
              "      <td>0</td>\n",
              "      <td>0</td>\n",
              "      <td>0</td>\n",
              "      <td>0</td>\n",
              "      <td>0</td>\n",
              "      <td>1</td>\n",
              "      <td>0</td>\n",
              "      <td>0</td>\n",
              "      <td>0</td>\n",
              "      <td>1</td>\n",
              "      <td>0</td>\n",
              "      <td>0</td>\n",
              "      <td>0</td>\n",
              "      <td>0</td>\n",
              "      <td>0</td>\n",
              "      <td>0</td>\n",
              "      <td>0</td>\n",
              "    </tr>\n",
              "    <tr>\n",
              "      <th>1</th>\n",
              "      <td>37</td>\n",
              "      <td>276</td>\n",
              "      <td>2015</td>\n",
              "      <td>14.4</td>\n",
              "      <td>93</td>\n",
              "      <td>105500</td>\n",
              "      <td>367.0</td>\n",
              "      <td>2.0</td>\n",
              "      <td>1.0</td>\n",
              "      <td>2</td>\n",
              "      <td>0.0</td>\n",
              "      <td>5</td>\n",
              "      <td>258.0</td>\n",
              "      <td>4570000</td>\n",
              "      <td>0</td>\n",
              "      <td>1</td>\n",
              "      <td>0</td>\n",
              "      <td>0</td>\n",
              "      <td>0</td>\n",
              "      <td>0</td>\n",
              "      <td>0</td>\n",
              "      <td>0</td>\n",
              "      <td>0</td>\n",
              "      <td>1</td>\n",
              "      <td>0</td>\n",
              "      <td>0</td>\n",
              "      <td>0</td>\n",
              "      <td>1</td>\n",
              "      <td>0</td>\n",
              "      <td>0</td>\n",
              "      <td>0</td>\n",
              "      <td>0</td>\n",
              "      <td>0</td>\n",
              "      <td>0</td>\n",
              "      <td>0</td>\n",
              "      <td>0</td>\n",
              "      <td>0</td>\n",
              "      <td>0</td>\n",
              "      <td>0</td>\n",
              "      <td>0</td>\n",
              "      <td>0</td>\n",
              "      <td>0</td>\n",
              "      <td>0</td>\n",
              "      <td>0</td>\n",
              "      <td>0</td>\n",
              "      <td>0</td>\n",
              "      <td>0</td>\n",
              "      <td>0</td>\n",
              "      <td>0</td>\n",
              "      <td>1</td>\n",
              "      <td>0</td>\n",
              "      <td>0</td>\n",
              "    </tr>\n",
              "    <tr>\n",
              "      <th>2</th>\n",
              "      <td>33</td>\n",
              "      <td>427</td>\n",
              "      <td>2018</td>\n",
              "      <td>10.6</td>\n",
              "      <td>63</td>\n",
              "      <td>13800</td>\n",
              "      <td>370.0</td>\n",
              "      <td>1.0</td>\n",
              "      <td>1.0</td>\n",
              "      <td>11</td>\n",
              "      <td>0.0</td>\n",
              "      <td>5</td>\n",
              "      <td>406.0</td>\n",
              "      <td>2700000</td>\n",
              "      <td>1</td>\n",
              "      <td>0</td>\n",
              "      <td>0</td>\n",
              "      <td>0</td>\n",
              "      <td>0</td>\n",
              "      <td>0</td>\n",
              "      <td>0</td>\n",
              "      <td>0</td>\n",
              "      <td>0</td>\n",
              "      <td>0</td>\n",
              "      <td>1</td>\n",
              "      <td>0</td>\n",
              "      <td>0</td>\n",
              "      <td>0</td>\n",
              "      <td>0</td>\n",
              "      <td>0</td>\n",
              "      <td>0</td>\n",
              "      <td>0</td>\n",
              "      <td>0</td>\n",
              "      <td>0</td>\n",
              "      <td>0</td>\n",
              "      <td>1</td>\n",
              "      <td>0</td>\n",
              "      <td>0</td>\n",
              "      <td>0</td>\n",
              "      <td>0</td>\n",
              "      <td>0</td>\n",
              "      <td>0</td>\n",
              "      <td>0</td>\n",
              "      <td>0</td>\n",
              "      <td>0</td>\n",
              "      <td>0</td>\n",
              "      <td>1</td>\n",
              "      <td>0</td>\n",
              "      <td>0</td>\n",
              "      <td>0</td>\n",
              "      <td>0</td>\n",
              "      <td>0</td>\n",
              "    </tr>\n",
              "    <tr>\n",
              "      <th>3</th>\n",
              "      <td>2</td>\n",
              "      <td>364</td>\n",
              "      <td>2020</td>\n",
              "      <td>8.0</td>\n",
              "      <td>176</td>\n",
              "      <td>0</td>\n",
              "      <td>249.0</td>\n",
              "      <td>2.0</td>\n",
              "      <td>1.0</td>\n",
              "      <td>8</td>\n",
              "      <td>1.0</td>\n",
              "      <td>5</td>\n",
              "      <td>865.0</td>\n",
              "      <td>4805000</td>\n",
              "      <td>0</td>\n",
              "      <td>1</td>\n",
              "      <td>0</td>\n",
              "      <td>0</td>\n",
              "      <td>0</td>\n",
              "      <td>0</td>\n",
              "      <td>0</td>\n",
              "      <td>0</td>\n",
              "      <td>1</td>\n",
              "      <td>0</td>\n",
              "      <td>0</td>\n",
              "      <td>0</td>\n",
              "      <td>0</td>\n",
              "      <td>1</td>\n",
              "      <td>0</td>\n",
              "      <td>0</td>\n",
              "      <td>0</td>\n",
              "      <td>0</td>\n",
              "      <td>0</td>\n",
              "      <td>0</td>\n",
              "      <td>0</td>\n",
              "      <td>0</td>\n",
              "      <td>0</td>\n",
              "      <td>0</td>\n",
              "      <td>0</td>\n",
              "      <td>0</td>\n",
              "      <td>0</td>\n",
              "      <td>0</td>\n",
              "      <td>0</td>\n",
              "      <td>0</td>\n",
              "      <td>0</td>\n",
              "      <td>0</td>\n",
              "      <td>0</td>\n",
              "      <td>0</td>\n",
              "      <td>0</td>\n",
              "      <td>1</td>\n",
              "      <td>0</td>\n",
              "      <td>0</td>\n",
              "    </tr>\n",
              "    <tr>\n",
              "      <th>4</th>\n",
              "      <td>42</td>\n",
              "      <td>168</td>\n",
              "      <td>2000</td>\n",
              "      <td>10.2</td>\n",
              "      <td>261</td>\n",
              "      <td>405000</td>\n",
              "      <td>204.0</td>\n",
              "      <td>3.0</td>\n",
              "      <td>1.0</td>\n",
              "      <td>0</td>\n",
              "      <td>0.0</td>\n",
              "      <td>4</td>\n",
              "      <td>520.0</td>\n",
              "      <td>305000</td>\n",
              "      <td>0</td>\n",
              "      <td>1</td>\n",
              "      <td>0</td>\n",
              "      <td>0</td>\n",
              "      <td>0</td>\n",
              "      <td>0</td>\n",
              "      <td>1</td>\n",
              "      <td>0</td>\n",
              "      <td>1</td>\n",
              "      <td>0</td>\n",
              "      <td>0</td>\n",
              "      <td>0</td>\n",
              "      <td>0</td>\n",
              "      <td>0</td>\n",
              "      <td>0</td>\n",
              "      <td>0</td>\n",
              "      <td>0</td>\n",
              "      <td>0</td>\n",
              "      <td>0</td>\n",
              "      <td>0</td>\n",
              "      <td>0</td>\n",
              "      <td>0</td>\n",
              "      <td>0</td>\n",
              "      <td>0</td>\n",
              "      <td>0</td>\n",
              "      <td>0</td>\n",
              "      <td>1</td>\n",
              "      <td>0</td>\n",
              "      <td>0</td>\n",
              "      <td>0</td>\n",
              "      <td>0</td>\n",
              "      <td>0</td>\n",
              "      <td>0</td>\n",
              "      <td>1</td>\n",
              "      <td>0</td>\n",
              "      <td>0</td>\n",
              "      <td>0</td>\n",
              "      <td>0</td>\n",
              "    </tr>\n",
              "    <tr>\n",
              "      <th>...</th>\n",
              "      <td>...</td>\n",
              "      <td>...</td>\n",
              "      <td>...</td>\n",
              "      <td>...</td>\n",
              "      <td>...</td>\n",
              "      <td>...</td>\n",
              "      <td>...</td>\n",
              "      <td>...</td>\n",
              "      <td>...</td>\n",
              "      <td>...</td>\n",
              "      <td>...</td>\n",
              "      <td>...</td>\n",
              "      <td>...</td>\n",
              "      <td>...</td>\n",
              "      <td>...</td>\n",
              "      <td>...</td>\n",
              "      <td>...</td>\n",
              "      <td>...</td>\n",
              "      <td>...</td>\n",
              "      <td>...</td>\n",
              "      <td>...</td>\n",
              "      <td>...</td>\n",
              "      <td>...</td>\n",
              "      <td>...</td>\n",
              "      <td>...</td>\n",
              "      <td>...</td>\n",
              "      <td>...</td>\n",
              "      <td>...</td>\n",
              "      <td>...</td>\n",
              "      <td>...</td>\n",
              "      <td>...</td>\n",
              "      <td>...</td>\n",
              "      <td>...</td>\n",
              "      <td>...</td>\n",
              "      <td>...</td>\n",
              "      <td>...</td>\n",
              "      <td>...</td>\n",
              "      <td>...</td>\n",
              "      <td>...</td>\n",
              "      <td>...</td>\n",
              "      <td>...</td>\n",
              "      <td>...</td>\n",
              "      <td>...</td>\n",
              "      <td>...</td>\n",
              "      <td>...</td>\n",
              "      <td>...</td>\n",
              "      <td>...</td>\n",
              "      <td>...</td>\n",
              "      <td>...</td>\n",
              "      <td>...</td>\n",
              "      <td>...</td>\n",
              "      <td>...</td>\n",
              "    </tr>\n",
              "    <tr>\n",
              "      <th>28116</th>\n",
              "      <td>58</td>\n",
              "      <td>91</td>\n",
              "      <td>2011</td>\n",
              "      <td>6.5</td>\n",
              "      <td>93</td>\n",
              "      <td>186600</td>\n",
              "      <td>147.0</td>\n",
              "      <td>2.0</td>\n",
              "      <td>1.0</td>\n",
              "      <td>11</td>\n",
              "      <td>0.0</td>\n",
              "      <td>4</td>\n",
              "      <td>509.0</td>\n",
              "      <td>655000</td>\n",
              "      <td>1</td>\n",
              "      <td>0</td>\n",
              "      <td>1</td>\n",
              "      <td>0</td>\n",
              "      <td>0</td>\n",
              "      <td>1</td>\n",
              "      <td>0</td>\n",
              "      <td>0</td>\n",
              "      <td>0</td>\n",
              "      <td>1</td>\n",
              "      <td>0</td>\n",
              "      <td>0</td>\n",
              "      <td>0</td>\n",
              "      <td>0</td>\n",
              "      <td>0</td>\n",
              "      <td>0</td>\n",
              "      <td>0</td>\n",
              "      <td>0</td>\n",
              "      <td>0</td>\n",
              "      <td>0</td>\n",
              "      <td>0</td>\n",
              "      <td>0</td>\n",
              "      <td>0</td>\n",
              "      <td>0</td>\n",
              "      <td>0</td>\n",
              "      <td>0</td>\n",
              "      <td>1</td>\n",
              "      <td>0</td>\n",
              "      <td>0</td>\n",
              "      <td>0</td>\n",
              "      <td>0</td>\n",
              "      <td>0</td>\n",
              "      <td>1</td>\n",
              "      <td>0</td>\n",
              "      <td>0</td>\n",
              "      <td>0</td>\n",
              "      <td>0</td>\n",
              "      <td>0</td>\n",
              "    </tr>\n",
              "    <tr>\n",
              "      <th>28117</th>\n",
              "      <td>27</td>\n",
              "      <td>306</td>\n",
              "      <td>2008</td>\n",
              "      <td>8.3</td>\n",
              "      <td>176</td>\n",
              "      <td>159130</td>\n",
              "      <td>103.0</td>\n",
              "      <td>2.0</td>\n",
              "      <td>1.0</td>\n",
              "      <td>2</td>\n",
              "      <td>0.0</td>\n",
              "      <td>5</td>\n",
              "      <td>354.0</td>\n",
              "      <td>360000</td>\n",
              "      <td>1</td>\n",
              "      <td>0</td>\n",
              "      <td>0</td>\n",
              "      <td>0</td>\n",
              "      <td>0</td>\n",
              "      <td>1</td>\n",
              "      <td>0</td>\n",
              "      <td>0</td>\n",
              "      <td>0</td>\n",
              "      <td>0</td>\n",
              "      <td>1</td>\n",
              "      <td>0</td>\n",
              "      <td>0</td>\n",
              "      <td>0</td>\n",
              "      <td>0</td>\n",
              "      <td>0</td>\n",
              "      <td>1</td>\n",
              "      <td>0</td>\n",
              "      <td>0</td>\n",
              "      <td>0</td>\n",
              "      <td>0</td>\n",
              "      <td>0</td>\n",
              "      <td>0</td>\n",
              "      <td>0</td>\n",
              "      <td>0</td>\n",
              "      <td>0</td>\n",
              "      <td>0</td>\n",
              "      <td>0</td>\n",
              "      <td>0</td>\n",
              "      <td>0</td>\n",
              "      <td>0</td>\n",
              "      <td>0</td>\n",
              "      <td>0</td>\n",
              "      <td>0</td>\n",
              "      <td>0</td>\n",
              "      <td>0</td>\n",
              "      <td>1</td>\n",
              "      <td>0</td>\n",
              "    </tr>\n",
              "    <tr>\n",
              "      <th>28118</th>\n",
              "      <td>60</td>\n",
              "      <td>490</td>\n",
              "      <td>2017</td>\n",
              "      <td>7.6</td>\n",
              "      <td>137</td>\n",
              "      <td>44600</td>\n",
              "      <td>249.0</td>\n",
              "      <td>1.0</td>\n",
              "      <td>1.0</td>\n",
              "      <td>8</td>\n",
              "      <td>0.0</td>\n",
              "      <td>5</td>\n",
              "      <td>310.0</td>\n",
              "      <td>3100000</td>\n",
              "      <td>0</td>\n",
              "      <td>1</td>\n",
              "      <td>0</td>\n",
              "      <td>0</td>\n",
              "      <td>0</td>\n",
              "      <td>0</td>\n",
              "      <td>0</td>\n",
              "      <td>0</td>\n",
              "      <td>1</td>\n",
              "      <td>0</td>\n",
              "      <td>0</td>\n",
              "      <td>0</td>\n",
              "      <td>0</td>\n",
              "      <td>1</td>\n",
              "      <td>0</td>\n",
              "      <td>0</td>\n",
              "      <td>0</td>\n",
              "      <td>0</td>\n",
              "      <td>0</td>\n",
              "      <td>0</td>\n",
              "      <td>0</td>\n",
              "      <td>0</td>\n",
              "      <td>0</td>\n",
              "      <td>0</td>\n",
              "      <td>0</td>\n",
              "      <td>0</td>\n",
              "      <td>0</td>\n",
              "      <td>0</td>\n",
              "      <td>0</td>\n",
              "      <td>0</td>\n",
              "      <td>0</td>\n",
              "      <td>0</td>\n",
              "      <td>0</td>\n",
              "      <td>0</td>\n",
              "      <td>0</td>\n",
              "      <td>1</td>\n",
              "      <td>0</td>\n",
              "      <td>0</td>\n",
              "    </tr>\n",
              "    <tr>\n",
              "      <th>28119</th>\n",
              "      <td>44</td>\n",
              "      <td>436</td>\n",
              "      <td>2010</td>\n",
              "      <td>9.5</td>\n",
              "      <td>15</td>\n",
              "      <td>69000</td>\n",
              "      <td>182.0</td>\n",
              "      <td>2.0</td>\n",
              "      <td>1.0</td>\n",
              "      <td>2</td>\n",
              "      <td>0.0</td>\n",
              "      <td>4</td>\n",
              "      <td>476.0</td>\n",
              "      <td>850000</td>\n",
              "      <td>1</td>\n",
              "      <td>0</td>\n",
              "      <td>0</td>\n",
              "      <td>0</td>\n",
              "      <td>1</td>\n",
              "      <td>1</td>\n",
              "      <td>0</td>\n",
              "      <td>0</td>\n",
              "      <td>0</td>\n",
              "      <td>1</td>\n",
              "      <td>0</td>\n",
              "      <td>0</td>\n",
              "      <td>0</td>\n",
              "      <td>0</td>\n",
              "      <td>0</td>\n",
              "      <td>0</td>\n",
              "      <td>0</td>\n",
              "      <td>0</td>\n",
              "      <td>0</td>\n",
              "      <td>0</td>\n",
              "      <td>0</td>\n",
              "      <td>0</td>\n",
              "      <td>0</td>\n",
              "      <td>0</td>\n",
              "      <td>0</td>\n",
              "      <td>0</td>\n",
              "      <td>1</td>\n",
              "      <td>0</td>\n",
              "      <td>0</td>\n",
              "      <td>0</td>\n",
              "      <td>0</td>\n",
              "      <td>0</td>\n",
              "      <td>1</td>\n",
              "      <td>0</td>\n",
              "      <td>0</td>\n",
              "      <td>0</td>\n",
              "      <td>0</td>\n",
              "      <td>0</td>\n",
              "    </tr>\n",
              "    <tr>\n",
              "      <th>28120</th>\n",
              "      <td>3</td>\n",
              "      <td>47</td>\n",
              "      <td>2001</td>\n",
              "      <td>10.3</td>\n",
              "      <td>176</td>\n",
              "      <td>109886</td>\n",
              "      <td>192.0</td>\n",
              "      <td>3.0</td>\n",
              "      <td>1.0</td>\n",
              "      <td>9</td>\n",
              "      <td>0.0</td>\n",
              "      <td>4</td>\n",
              "      <td>460.0</td>\n",
              "      <td>490000</td>\n",
              "      <td>0</td>\n",
              "      <td>1</td>\n",
              "      <td>0</td>\n",
              "      <td>0</td>\n",
              "      <td>0</td>\n",
              "      <td>0</td>\n",
              "      <td>1</td>\n",
              "      <td>0</td>\n",
              "      <td>1</td>\n",
              "      <td>0</td>\n",
              "      <td>0</td>\n",
              "      <td>0</td>\n",
              "      <td>0</td>\n",
              "      <td>0</td>\n",
              "      <td>0</td>\n",
              "      <td>0</td>\n",
              "      <td>0</td>\n",
              "      <td>0</td>\n",
              "      <td>0</td>\n",
              "      <td>0</td>\n",
              "      <td>0</td>\n",
              "      <td>0</td>\n",
              "      <td>0</td>\n",
              "      <td>0</td>\n",
              "      <td>0</td>\n",
              "      <td>0</td>\n",
              "      <td>1</td>\n",
              "      <td>0</td>\n",
              "      <td>0</td>\n",
              "      <td>0</td>\n",
              "      <td>0</td>\n",
              "      <td>0</td>\n",
              "      <td>0</td>\n",
              "      <td>1</td>\n",
              "      <td>0</td>\n",
              "      <td>0</td>\n",
              "      <td>0</td>\n",
              "      <td>0</td>\n",
              "    </tr>\n",
              "  </tbody>\n",
              "</table>\n",
              "<p>28121 rows × 52 columns</p>\n",
              "</div>"
            ],
            "text/plain": [
              "       Mark_info  Model_info  Year  ...  Auto_class_6  Auto_class_7  Auto_class_8\n",
              "0             59         353  2011  ...             0             0             0\n",
              "1             37         276  2015  ...             1             0             0\n",
              "2             33         427  2018  ...             0             0             0\n",
              "3              2         364  2020  ...             1             0             0\n",
              "4             42         168  2000  ...             0             0             0\n",
              "...          ...         ...   ...  ...           ...           ...           ...\n",
              "28116         58          91  2011  ...             0             0             0\n",
              "28117         27         306  2008  ...             0             1             0\n",
              "28118         60         490  2017  ...             1             0             0\n",
              "28119         44         436  2010  ...             0             0             0\n",
              "28120          3          47  2001  ...             0             0             0\n",
              "\n",
              "[28121 rows x 52 columns]"
            ]
          },
          "metadata": {
            "tags": []
          },
          "execution_count": 51
        }
      ]
    },
    {
      "cell_type": "code",
      "metadata": {
        "id": "-P84i8l0nnh8",
        "colab_type": "code",
        "outputId": "6c1ade8f-c678-4f23-f3e0-ec600bd0493c",
        "colab": {
          "base_uri": "https://localhost:8080/",
          "height": 317
        }
      },
      "source": [
        "df.describe()"
      ],
      "execution_count": 52,
      "outputs": [
        {
          "output_type": "execute_result",
          "data": {
            "text/html": [
              "<div>\n",
              "<style scoped>\n",
              "    .dataframe tbody tr th:only-of-type {\n",
              "        vertical-align: middle;\n",
              "    }\n",
              "\n",
              "    .dataframe tbody tr th {\n",
              "        vertical-align: top;\n",
              "    }\n",
              "\n",
              "    .dataframe thead th {\n",
              "        text-align: right;\n",
              "    }\n",
              "</style>\n",
              "<table border=\"1\" class=\"dataframe\">\n",
              "  <thead>\n",
              "    <tr style=\"text-align: right;\">\n",
              "      <th></th>\n",
              "      <th>Mark_info</th>\n",
              "      <th>Model_info</th>\n",
              "      <th>Year</th>\n",
              "      <th>Fuel_rate</th>\n",
              "      <th>Region</th>\n",
              "      <th>Mileage</th>\n",
              "      <th>Horse_power</th>\n",
              "      <th>Owners_number</th>\n",
              "      <th>PTS</th>\n",
              "      <th>Color_hex</th>\n",
              "      <th>Salon</th>\n",
              "      <th>Count_doors</th>\n",
              "      <th>Trunk_volume_min</th>\n",
              "      <th>Price_rub</th>\n",
              "      <th>Price_segment_1</th>\n",
              "      <th>Price_segment_2</th>\n",
              "      <th>Transmission_1</th>\n",
              "      <th>Transmission_2</th>\n",
              "      <th>Transmission_3</th>\n",
              "      <th>Gear_type_1</th>\n",
              "      <th>Gear_type_2</th>\n",
              "      <th>Vendor_country_1</th>\n",
              "      <th>Vendor_country_2</th>\n",
              "      <th>Vendor_country_3</th>\n",
              "      <th>Vendor_country_4</th>\n",
              "      <th>Vendor_country_5</th>\n",
              "      <th>Vendor_country_6</th>\n",
              "      <th>Body_type_1</th>\n",
              "      <th>Body_type_2</th>\n",
              "      <th>Body_type_3</th>\n",
              "      <th>Body_type_4</th>\n",
              "      <th>Body_type_5</th>\n",
              "      <th>Body_type_6</th>\n",
              "      <th>Body_type_7</th>\n",
              "      <th>Body_type_8</th>\n",
              "      <th>Body_type_9</th>\n",
              "      <th>Body_type_10</th>\n",
              "      <th>Body_type_11</th>\n",
              "      <th>Body_type_12</th>\n",
              "      <th>Body_type_13</th>\n",
              "      <th>Body_type_14</th>\n",
              "      <th>Body_type_15</th>\n",
              "      <th>Body_type_16</th>\n",
              "      <th>Body_type_17</th>\n",
              "      <th>Auto_class_1</th>\n",
              "      <th>Auto_class_2</th>\n",
              "      <th>Auto_class_3</th>\n",
              "      <th>Auto_class_4</th>\n",
              "      <th>Auto_class_5</th>\n",
              "      <th>Auto_class_6</th>\n",
              "      <th>Auto_class_7</th>\n",
              "      <th>Auto_class_8</th>\n",
              "    </tr>\n",
              "  </thead>\n",
              "  <tbody>\n",
              "    <tr>\n",
              "      <th>count</th>\n",
              "      <td>28121.000000</td>\n",
              "      <td>28121.000000</td>\n",
              "      <td>28121.000000</td>\n",
              "      <td>28121.000000</td>\n",
              "      <td>28121.000000</td>\n",
              "      <td>28121.000000</td>\n",
              "      <td>28121.000000</td>\n",
              "      <td>28121.000000</td>\n",
              "      <td>28121.000000</td>\n",
              "      <td>28121.000000</td>\n",
              "      <td>28121.000000</td>\n",
              "      <td>28121.000000</td>\n",
              "      <td>28121.000000</td>\n",
              "      <td>2.812100e+04</td>\n",
              "      <td>28121.000000</td>\n",
              "      <td>28121.000000</td>\n",
              "      <td>28121.000000</td>\n",
              "      <td>28121.000000</td>\n",
              "      <td>28121.000000</td>\n",
              "      <td>28121.000000</td>\n",
              "      <td>28121.000000</td>\n",
              "      <td>28121.000000</td>\n",
              "      <td>28121.000000</td>\n",
              "      <td>28121.000000</td>\n",
              "      <td>28121.000000</td>\n",
              "      <td>28121.000000</td>\n",
              "      <td>28121.000000</td>\n",
              "      <td>28121.000000</td>\n",
              "      <td>28121.000000</td>\n",
              "      <td>28121.000000</td>\n",
              "      <td>28121.000000</td>\n",
              "      <td>28121.000000</td>\n",
              "      <td>28121.000000</td>\n",
              "      <td>28121.000000</td>\n",
              "      <td>28121.000000</td>\n",
              "      <td>28121.000000</td>\n",
              "      <td>28121.000000</td>\n",
              "      <td>28121.000000</td>\n",
              "      <td>28121.000000</td>\n",
              "      <td>28121.000000</td>\n",
              "      <td>28121.000000</td>\n",
              "      <td>28121.000000</td>\n",
              "      <td>28121.000000</td>\n",
              "      <td>28121.000000</td>\n",
              "      <td>28121.000000</td>\n",
              "      <td>28121.000000</td>\n",
              "      <td>28121.000000</td>\n",
              "      <td>28121.000000</td>\n",
              "      <td>28121.000000</td>\n",
              "      <td>28121.000000</td>\n",
              "      <td>28121.000000</td>\n",
              "      <td>28121.000000</td>\n",
              "    </tr>\n",
              "    <tr>\n",
              "      <th>mean</th>\n",
              "      <td>35.266491</td>\n",
              "      <td>263.614701</td>\n",
              "      <td>2012.116888</td>\n",
              "      <td>7.778721</td>\n",
              "      <td>194.382703</td>\n",
              "      <td>105004.810711</td>\n",
              "      <td>160.974823</td>\n",
              "      <td>2.034032</td>\n",
              "      <td>0.910352</td>\n",
              "      <td>6.183457</td>\n",
              "      <td>0.271150</td>\n",
              "      <td>4.538103</td>\n",
              "      <td>490.833505</td>\n",
              "      <td>1.225165e+06</td>\n",
              "      <td>0.478006</td>\n",
              "      <td>0.261371</td>\n",
              "      <td>0.329185</td>\n",
              "      <td>0.081398</td>\n",
              "      <td>0.080260</td>\n",
              "      <td>0.556666</td>\n",
              "      <td>0.062551</td>\n",
              "      <td>0.021692</td>\n",
              "      <td>0.395861</td>\n",
              "      <td>0.234878</td>\n",
              "      <td>0.150101</td>\n",
              "      <td>0.124640</td>\n",
              "      <td>0.000462</td>\n",
              "      <td>0.350521</td>\n",
              "      <td>0.000284</td>\n",
              "      <td>0.000605</td>\n",
              "      <td>0.014864</td>\n",
              "      <td>0.014295</td>\n",
              "      <td>0.001316</td>\n",
              "      <td>0.013798</td>\n",
              "      <td>0.131396</td>\n",
              "      <td>0.037232</td>\n",
              "      <td>0.000676</td>\n",
              "      <td>0.015362</td>\n",
              "      <td>0.005370</td>\n",
              "      <td>0.000569</td>\n",
              "      <td>0.349525</td>\n",
              "      <td>0.000747</td>\n",
              "      <td>0.002063</td>\n",
              "      <td>0.052061</td>\n",
              "      <td>0.213684</td>\n",
              "      <td>0.181004</td>\n",
              "      <td>0.091426</td>\n",
              "      <td>0.068205</td>\n",
              "      <td>0.021870</td>\n",
              "      <td>0.375662</td>\n",
              "      <td>0.030582</td>\n",
              "      <td>0.005121</td>\n",
              "    </tr>\n",
              "    <tr>\n",
              "      <th>std</th>\n",
              "      <td>17.377477</td>\n",
              "      <td>144.934394</td>\n",
              "      <td>6.203567</td>\n",
              "      <td>1.804770</td>\n",
              "      <td>73.566044</td>\n",
              "      <td>85461.577060</td>\n",
              "      <td>83.726900</td>\n",
              "      <td>0.782236</td>\n",
              "      <td>0.285682</td>\n",
              "      <td>4.368949</td>\n",
              "      <td>0.444561</td>\n",
              "      <td>0.630243</td>\n",
              "      <td>229.757551</td>\n",
              "      <td>1.860919e+06</td>\n",
              "      <td>0.499525</td>\n",
              "      <td>0.439389</td>\n",
              "      <td>0.469925</td>\n",
              "      <td>0.273451</td>\n",
              "      <td>0.271701</td>\n",
              "      <td>0.496787</td>\n",
              "      <td>0.242158</td>\n",
              "      <td>0.145678</td>\n",
              "      <td>0.489043</td>\n",
              "      <td>0.423930</td>\n",
              "      <td>0.357177</td>\n",
              "      <td>0.330316</td>\n",
              "      <td>0.021496</td>\n",
              "      <td>0.477142</td>\n",
              "      <td>0.016865</td>\n",
              "      <td>0.024580</td>\n",
              "      <td>0.121012</td>\n",
              "      <td>0.118708</td>\n",
              "      <td>0.036250</td>\n",
              "      <td>0.116652</td>\n",
              "      <td>0.337839</td>\n",
              "      <td>0.189333</td>\n",
              "      <td>0.025985</td>\n",
              "      <td>0.122991</td>\n",
              "      <td>0.073082</td>\n",
              "      <td>0.023847</td>\n",
              "      <td>0.476829</td>\n",
              "      <td>0.027317</td>\n",
              "      <td>0.045369</td>\n",
              "      <td>0.222153</td>\n",
              "      <td>0.409913</td>\n",
              "      <td>0.385028</td>\n",
              "      <td>0.288220</td>\n",
              "      <td>0.252102</td>\n",
              "      <td>0.146261</td>\n",
              "      <td>0.484302</td>\n",
              "      <td>0.172186</td>\n",
              "      <td>0.071377</td>\n",
              "    </tr>\n",
              "    <tr>\n",
              "      <th>min</th>\n",
              "      <td>0.000000</td>\n",
              "      <td>0.000000</td>\n",
              "      <td>1958.000000</td>\n",
              "      <td>2.100000</td>\n",
              "      <td>0.000000</td>\n",
              "      <td>0.000000</td>\n",
              "      <td>33.000000</td>\n",
              "      <td>1.000000</td>\n",
              "      <td>0.000000</td>\n",
              "      <td>0.000000</td>\n",
              "      <td>0.000000</td>\n",
              "      <td>2.000000</td>\n",
              "      <td>110.000000</td>\n",
              "      <td>2.000000e+04</td>\n",
              "      <td>0.000000</td>\n",
              "      <td>0.000000</td>\n",
              "      <td>0.000000</td>\n",
              "      <td>0.000000</td>\n",
              "      <td>0.000000</td>\n",
              "      <td>0.000000</td>\n",
              "      <td>0.000000</td>\n",
              "      <td>0.000000</td>\n",
              "      <td>0.000000</td>\n",
              "      <td>0.000000</td>\n",
              "      <td>0.000000</td>\n",
              "      <td>0.000000</td>\n",
              "      <td>0.000000</td>\n",
              "      <td>0.000000</td>\n",
              "      <td>0.000000</td>\n",
              "      <td>0.000000</td>\n",
              "      <td>0.000000</td>\n",
              "      <td>0.000000</td>\n",
              "      <td>0.000000</td>\n",
              "      <td>0.000000</td>\n",
              "      <td>0.000000</td>\n",
              "      <td>0.000000</td>\n",
              "      <td>0.000000</td>\n",
              "      <td>0.000000</td>\n",
              "      <td>0.000000</td>\n",
              "      <td>0.000000</td>\n",
              "      <td>0.000000</td>\n",
              "      <td>0.000000</td>\n",
              "      <td>0.000000</td>\n",
              "      <td>0.000000</td>\n",
              "      <td>0.000000</td>\n",
              "      <td>0.000000</td>\n",
              "      <td>0.000000</td>\n",
              "      <td>0.000000</td>\n",
              "      <td>0.000000</td>\n",
              "      <td>0.000000</td>\n",
              "      <td>0.000000</td>\n",
              "      <td>0.000000</td>\n",
              "    </tr>\n",
              "    <tr>\n",
              "      <th>25%</th>\n",
              "      <td>27.000000</td>\n",
              "      <td>139.000000</td>\n",
              "      <td>2008.000000</td>\n",
              "      <td>6.700000</td>\n",
              "      <td>176.000000</td>\n",
              "      <td>35000.000000</td>\n",
              "      <td>107.000000</td>\n",
              "      <td>1.000000</td>\n",
              "      <td>1.000000</td>\n",
              "      <td>2.000000</td>\n",
              "      <td>0.000000</td>\n",
              "      <td>4.000000</td>\n",
              "      <td>400.000000</td>\n",
              "      <td>3.450000e+05</td>\n",
              "      <td>0.000000</td>\n",
              "      <td>0.000000</td>\n",
              "      <td>0.000000</td>\n",
              "      <td>0.000000</td>\n",
              "      <td>0.000000</td>\n",
              "      <td>0.000000</td>\n",
              "      <td>0.000000</td>\n",
              "      <td>0.000000</td>\n",
              "      <td>0.000000</td>\n",
              "      <td>0.000000</td>\n",
              "      <td>0.000000</td>\n",
              "      <td>0.000000</td>\n",
              "      <td>0.000000</td>\n",
              "      <td>0.000000</td>\n",
              "      <td>0.000000</td>\n",
              "      <td>0.000000</td>\n",
              "      <td>0.000000</td>\n",
              "      <td>0.000000</td>\n",
              "      <td>0.000000</td>\n",
              "      <td>0.000000</td>\n",
              "      <td>0.000000</td>\n",
              "      <td>0.000000</td>\n",
              "      <td>0.000000</td>\n",
              "      <td>0.000000</td>\n",
              "      <td>0.000000</td>\n",
              "      <td>0.000000</td>\n",
              "      <td>0.000000</td>\n",
              "      <td>0.000000</td>\n",
              "      <td>0.000000</td>\n",
              "      <td>0.000000</td>\n",
              "      <td>0.000000</td>\n",
              "      <td>0.000000</td>\n",
              "      <td>0.000000</td>\n",
              "      <td>0.000000</td>\n",
              "      <td>0.000000</td>\n",
              "      <td>0.000000</td>\n",
              "      <td>0.000000</td>\n",
              "      <td>0.000000</td>\n",
              "    </tr>\n",
              "    <tr>\n",
              "      <th>50%</th>\n",
              "      <td>36.000000</td>\n",
              "      <td>281.000000</td>\n",
              "      <td>2012.000000</td>\n",
              "      <td>7.500000</td>\n",
              "      <td>176.000000</td>\n",
              "      <td>100000.000000</td>\n",
              "      <td>141.000000</td>\n",
              "      <td>2.000000</td>\n",
              "      <td>1.000000</td>\n",
              "      <td>7.000000</td>\n",
              "      <td>0.000000</td>\n",
              "      <td>5.000000</td>\n",
              "      <td>470.000000</td>\n",
              "      <td>5.990000e+05</td>\n",
              "      <td>0.000000</td>\n",
              "      <td>0.000000</td>\n",
              "      <td>0.000000</td>\n",
              "      <td>0.000000</td>\n",
              "      <td>0.000000</td>\n",
              "      <td>1.000000</td>\n",
              "      <td>0.000000</td>\n",
              "      <td>0.000000</td>\n",
              "      <td>0.000000</td>\n",
              "      <td>0.000000</td>\n",
              "      <td>0.000000</td>\n",
              "      <td>0.000000</td>\n",
              "      <td>0.000000</td>\n",
              "      <td>0.000000</td>\n",
              "      <td>0.000000</td>\n",
              "      <td>0.000000</td>\n",
              "      <td>0.000000</td>\n",
              "      <td>0.000000</td>\n",
              "      <td>0.000000</td>\n",
              "      <td>0.000000</td>\n",
              "      <td>0.000000</td>\n",
              "      <td>0.000000</td>\n",
              "      <td>0.000000</td>\n",
              "      <td>0.000000</td>\n",
              "      <td>0.000000</td>\n",
              "      <td>0.000000</td>\n",
              "      <td>0.000000</td>\n",
              "      <td>0.000000</td>\n",
              "      <td>0.000000</td>\n",
              "      <td>0.000000</td>\n",
              "      <td>0.000000</td>\n",
              "      <td>0.000000</td>\n",
              "      <td>0.000000</td>\n",
              "      <td>0.000000</td>\n",
              "      <td>0.000000</td>\n",
              "      <td>0.000000</td>\n",
              "      <td>0.000000</td>\n",
              "      <td>0.000000</td>\n",
              "    </tr>\n",
              "    <tr>\n",
              "      <th>75%</th>\n",
              "      <td>46.000000</td>\n",
              "      <td>384.000000</td>\n",
              "      <td>2017.000000</td>\n",
              "      <td>8.300000</td>\n",
              "      <td>261.000000</td>\n",
              "      <td>151000.000000</td>\n",
              "      <td>184.000000</td>\n",
              "      <td>3.000000</td>\n",
              "      <td>1.000000</td>\n",
              "      <td>11.000000</td>\n",
              "      <td>1.000000</td>\n",
              "      <td>5.000000</td>\n",
              "      <td>530.000000</td>\n",
              "      <td>1.361300e+06</td>\n",
              "      <td>1.000000</td>\n",
              "      <td>1.000000</td>\n",
              "      <td>1.000000</td>\n",
              "      <td>0.000000</td>\n",
              "      <td>0.000000</td>\n",
              "      <td>1.000000</td>\n",
              "      <td>0.000000</td>\n",
              "      <td>0.000000</td>\n",
              "      <td>1.000000</td>\n",
              "      <td>0.000000</td>\n",
              "      <td>0.000000</td>\n",
              "      <td>0.000000</td>\n",
              "      <td>0.000000</td>\n",
              "      <td>1.000000</td>\n",
              "      <td>0.000000</td>\n",
              "      <td>0.000000</td>\n",
              "      <td>0.000000</td>\n",
              "      <td>0.000000</td>\n",
              "      <td>0.000000</td>\n",
              "      <td>0.000000</td>\n",
              "      <td>0.000000</td>\n",
              "      <td>0.000000</td>\n",
              "      <td>0.000000</td>\n",
              "      <td>0.000000</td>\n",
              "      <td>0.000000</td>\n",
              "      <td>0.000000</td>\n",
              "      <td>1.000000</td>\n",
              "      <td>0.000000</td>\n",
              "      <td>0.000000</td>\n",
              "      <td>0.000000</td>\n",
              "      <td>0.000000</td>\n",
              "      <td>0.000000</td>\n",
              "      <td>0.000000</td>\n",
              "      <td>0.000000</td>\n",
              "      <td>0.000000</td>\n",
              "      <td>1.000000</td>\n",
              "      <td>0.000000</td>\n",
              "      <td>0.000000</td>\n",
              "    </tr>\n",
              "    <tr>\n",
              "      <th>max</th>\n",
              "      <td>66.000000</td>\n",
              "      <td>508.000000</td>\n",
              "      <td>2020.000000</td>\n",
              "      <td>19.200000</td>\n",
              "      <td>342.000000</td>\n",
              "      <td>999999.000000</td>\n",
              "      <td>650.000000</td>\n",
              "      <td>3.000000</td>\n",
              "      <td>1.000000</td>\n",
              "      <td>15.000000</td>\n",
              "      <td>1.000000</td>\n",
              "      <td>5.000000</td>\n",
              "      <td>9300.000000</td>\n",
              "      <td>3.300000e+07</td>\n",
              "      <td>1.000000</td>\n",
              "      <td>1.000000</td>\n",
              "      <td>1.000000</td>\n",
              "      <td>1.000000</td>\n",
              "      <td>1.000000</td>\n",
              "      <td>1.000000</td>\n",
              "      <td>1.000000</td>\n",
              "      <td>1.000000</td>\n",
              "      <td>1.000000</td>\n",
              "      <td>1.000000</td>\n",
              "      <td>1.000000</td>\n",
              "      <td>1.000000</td>\n",
              "      <td>1.000000</td>\n",
              "      <td>1.000000</td>\n",
              "      <td>1.000000</td>\n",
              "      <td>1.000000</td>\n",
              "      <td>1.000000</td>\n",
              "      <td>1.000000</td>\n",
              "      <td>1.000000</td>\n",
              "      <td>1.000000</td>\n",
              "      <td>1.000000</td>\n",
              "      <td>1.000000</td>\n",
              "      <td>1.000000</td>\n",
              "      <td>1.000000</td>\n",
              "      <td>1.000000</td>\n",
              "      <td>1.000000</td>\n",
              "      <td>1.000000</td>\n",
              "      <td>1.000000</td>\n",
              "      <td>1.000000</td>\n",
              "      <td>1.000000</td>\n",
              "      <td>1.000000</td>\n",
              "      <td>1.000000</td>\n",
              "      <td>1.000000</td>\n",
              "      <td>1.000000</td>\n",
              "      <td>1.000000</td>\n",
              "      <td>1.000000</td>\n",
              "      <td>1.000000</td>\n",
              "      <td>1.000000</td>\n",
              "    </tr>\n",
              "  </tbody>\n",
              "</table>\n",
              "</div>"
            ],
            "text/plain": [
              "          Mark_info    Model_info  ...  Auto_class_7  Auto_class_8\n",
              "count  28121.000000  28121.000000  ...  28121.000000  28121.000000\n",
              "mean      35.266491    263.614701  ...      0.030582      0.005121\n",
              "std       17.377477    144.934394  ...      0.172186      0.071377\n",
              "min        0.000000      0.000000  ...      0.000000      0.000000\n",
              "25%       27.000000    139.000000  ...      0.000000      0.000000\n",
              "50%       36.000000    281.000000  ...      0.000000      0.000000\n",
              "75%       46.000000    384.000000  ...      0.000000      0.000000\n",
              "max       66.000000    508.000000  ...      1.000000      1.000000\n",
              "\n",
              "[8 rows x 52 columns]"
            ]
          },
          "metadata": {
            "tags": []
          },
          "execution_count": 52
        }
      ]
    },
    {
      "cell_type": "markdown",
      "metadata": {
        "id": "14SQnM928ANZ",
        "colab_type": "text"
      },
      "source": [
        "### Разделение на предикторов и целевую переменную"
      ]
    },
    {
      "cell_type": "code",
      "metadata": {
        "id": "tRCVQr3Wo18f",
        "colab_type": "code",
        "colab": {}
      },
      "source": [
        "#разделение на предикторов и на целевую переменную\n",
        "X=df.drop(columns=['Price_rub'])\n",
        "Y=df[['Price_rub']]\n",
        "X_train, X_test, Y_train, Y_test = train_test_split(X, Y, test_size=0.2, random_state = 0) "
      ],
      "execution_count": 0,
      "outputs": []
    },
    {
      "cell_type": "markdown",
      "metadata": {
        "id": "lElKNEZW8ETR",
        "colab_type": "text"
      },
      "source": [
        "### Нормализация данных"
      ]
    },
    {
      "cell_type": "code",
      "metadata": {
        "id": "-csN03b04-R-",
        "colab_type": "code",
        "colab": {}
      },
      "source": [
        "#нормализация данных\n",
        "scaler_X = StandardScaler() \n",
        "X_train = scaler_X.fit_transform(X_train)\n",
        "\n",
        "# scaler_Y = StandardScaler()\n",
        "# Y_train = scaler_Y.fit_transform(Y_train)"
      ],
      "execution_count": 0,
      "outputs": []
    },
    {
      "cell_type": "code",
      "metadata": {
        "id": "pEFjrif67UvO",
        "colab_type": "code",
        "outputId": "cc610209-a147-4330-8b1d-924797b7957e",
        "colab": {
          "base_uri": "https://localhost:8080/",
          "height": 238
        }
      },
      "source": [
        "X_train"
      ],
      "execution_count": 55,
      "outputs": [
        {
          "output_type": "execute_result",
          "data": {
            "text/plain": [
              "array([[ 0.38957751, -0.3575195 ,  0.62395324, ...,  1.2896488 ,\n",
              "        -0.17628176, -0.07323175],\n",
              "       [-0.07068301, -1.68150418, -1.1391181 , ..., -0.7754049 ,\n",
              "        -0.17628176, -0.07323175],\n",
              "       [-0.99120406, -0.48853882, -1.29939732, ..., -0.7754049 ,\n",
              "        -0.17628176, -0.07323175],\n",
              "       ...,\n",
              "       [ 0.50464264,  1.46985519,  0.62395324, ...,  1.2896488 ,\n",
              "        -0.17628176, -0.07323175],\n",
              "       [ 0.38957751, -0.34372799,  0.62395324, ...,  1.2896488 ,\n",
              "        -0.17628176, -0.07323175],\n",
              "       [-0.99120406, -0.48853882, -0.81855968, ..., -0.7754049 ,\n",
              "        -0.17628176, -0.07323175]])"
            ]
          },
          "metadata": {
            "tags": []
          },
          "execution_count": 55
        }
      ]
    },
    {
      "cell_type": "code",
      "metadata": {
        "id": "jUr9E5dPJY57",
        "colab_type": "code",
        "outputId": "dfd299b6-3be1-4f08-d521-e586bfa7a065",
        "colab": {
          "base_uri": "https://localhost:8080/",
          "height": 34
        }
      },
      "source": [
        "Y_train = Y_train['Price_rub'].values\n",
        "Y_train"
      ],
      "execution_count": 56,
      "outputs": [
        {
          "output_type": "execute_result",
          "data": {
            "text/plain": [
              "array([3000000,   88000,  155000, ...,  915000, 4700000,  256200])"
            ]
          },
          "metadata": {
            "tags": []
          },
          "execution_count": 56
        }
      ]
    },
    {
      "cell_type": "markdown",
      "metadata": {
        "id": "owc6MCLV922O",
        "colab_type": "text"
      },
      "source": [
        "# Задача регрессии\n",
        "Основная задача в рамках данной работы - максимально точно предсказать стоимость автомобился, основываясь на его характеристиках"
      ]
    },
    {
      "cell_type": "markdown",
      "metadata": {
        "id": "ciw5q_fr_W1M",
        "colab_type": "text"
      },
      "source": [
        "**Используемые метрики:**\n",
        "* __Среднеквадратичная ошибка (Mean Squared Error)__  \n",
        "$$MSE = \\frac{1}{n}\\sum_{i=1}^{n}(a(x_{i}) - y_{i})^2$$\n",
        "* __Корень среднеквадратичной ошибки (Root Mean Squared Error)__\n",
        "$$RMSE = \\sqrt{\\frac{1}{n}\\sum_{i=1}^{n}(a(x_{i}) - y_{i})^2}$$\n",
        "* __Средняя абсолютная ошибка (Mean absolute error)__\n",
        "$$MAE = \\frac{1}{n}\\sum_{i=1}^{n}\\left |a(x_{i}) - y_{i}\\right |$$\n",
        "* __Коэффициент детерминации__  \n",
        "<br>\n",
        "Используется для сравнения модели $a(x)$ со средним значением целевой переменной по набору данных (__baseline__)\n",
        "$$R^{2} = 1 - \\frac{\\sum_{i=1}^{n}(a(x) - y_{i})^{2}}{\\sum_{i=1}^{n}(\\overline{y} - y_{i})^{2}},$$ где $\\overline{y}$ - среднее значение целевой переменной по наблюдаемым данным.\n",
        "* __Медианная абсолютная ошибка (Median Absolute error)__\n",
        "\n",
        "Далее представлены варианты построения регрессионных моделей + функция для построения графиков и расчета метрик, а также функции для нахождения лучших гиперпараметров с помощью кросс-валидации\n",
        "\n"
      ]
    },
    {
      "cell_type": "code",
      "metadata": {
        "id": "hNvfAvxy_REX",
        "colab_type": "code",
        "colab": {}
      },
      "source": [
        "def getPlotAndMetrics(predictedDependentVariables, testDependentVariables, name):\n",
        "    plt.figure(figsize=(15,3),dpi=80)\n",
        "    plt.plot(predictedDependentVariables[1:100], 'r-', label='Predicted')\n",
        "    plt.plot(testDependentVariables[1:100].values, 'b-', label='Correct')\n",
        "    plt.xlabel(\"Observations: \" + name + \" Regression \")\n",
        "    plt.ylabel(\"G3\")\n",
        "    plt.legend(loc='best')\n",
        "    plt.show()\n",
        " \n",
        "    mse = metrics.mean_squared_error(y_pred=predictedDependentVariables, \n",
        "                                     y_true=testDependentVariables)\n",
        "    rmse = np.sqrt(mse)\n",
        "\n",
        "    mae = metrics.mean_absolute_error(y_pred=predictedDependentVariables, \n",
        "                                      y_true=testDependentVariables)\n",
        "\n",
        "    medae = metrics.median_absolute_error(y_pred=predictedDependentVariables, \n",
        "                                          y_true=testDependentVariables)\n",
        "    \n",
        "    R2 = metrics.r2_score(y_pred=predictedDependentVariables, \n",
        "                      y_true=testDependentVariables)\n",
        "    print(\"MSE:   {}\\nRMSE:  {}\\nR2:    {}\\nMAE:   {}\\nMedAE: {}\".format(mse, rmse, R2, mae, medae))"
      ],
      "execution_count": 0,
      "outputs": []
    },
    {
      "cell_type": "code",
      "metadata": {
        "id": "oE6EXYJ4_Q6B",
        "colab_type": "code",
        "colab": {}
      },
      "source": [
        "def linearModel(df):\n",
        "    (trainData, \n",
        "     testData, \n",
        "     trainDependentVariables, \n",
        "     testDependentVariables) = train_test_split(df.drop('Price_rub', axis=1),\n",
        "                                                df['Price_rub'],\n",
        "                                                test_size=0.3, \n",
        "                                                shuffle=True)\n",
        "\n",
        "    regressionModel = LinearRegression()\n",
        "    regressionModel.fit(trainData, trainDependentVariables)\n",
        "    predictedDependentVariables = regressionModel.predict(testData)\n",
        "    getPlotAndMetrics(predictedDependentVariables, testDependentVariables, \"Linear\")\n",
        "    return predictedDependentVariables"
      ],
      "execution_count": 0,
      "outputs": []
    },
    {
      "cell_type": "code",
      "metadata": {
        "id": "07TQSXZ6_QvJ",
        "colab_type": "code",
        "colab": {}
      },
      "source": [
        "def theBestAlphaRidge(df):\n",
        "    (trainData, \n",
        "     testData, \n",
        "     trainDependentVariables, \n",
        "     testDependentVariables) = train_test_split(df.drop('Price_rub', axis=1),\n",
        "                                                df['Price_rub'],\n",
        "                                                test_size=0.3, \n",
        "                                                shuffle=True)\n",
        "    alphas = []\n",
        "    scores_mean = []\n",
        "    for i in range(1, 99):\n",
        "        ridgeModel = Ridge(alpha = i * 0.25)\n",
        "        ridgeModel.fit(trainData, trainDependentVariables)\n",
        "        scores = cross_val_score(ridgeModel, df.drop('Price_rub', axis=1), df['Price_rub'], cv = 10)\n",
        "        avg_cross_val_score = mean(scores)*100\n",
        "        scores_mean.append(avg_cross_val_score)\n",
        "        alphas.append(i*0.25)\n",
        "    print(\"The best parametr:\", alphas[scores_mean.index(max(scores_mean))])\n",
        "    \n",
        "    return alphas[scores_mean.index(max(scores_mean))]\n",
        "\n",
        "\n",
        "def RidgeModel(df):\n",
        "    (trainData, \n",
        "     testData, \n",
        "     trainDependentVariables, \n",
        "     testDependentVariables) = train_test_split(df.drop('Price_rub', axis=1),\n",
        "                                                df['Price_rub'],\n",
        "                                                test_size=0.3, \n",
        "                                                shuffle=True)\n",
        "\n",
        "    ridgeModel = Ridge(alpha=theBestAlphaRidge(df))\n",
        "    ridgeModel.fit(trainData, trainDependentVariables)\n",
        "    predictedDependentVariables = ridgeModel.predict(testData)\n",
        "    \n",
        "    getPlotAndMetrics(predictedDependentVariables, testDependentVariables, \"Ridge\")\n",
        "    return predictedDependentVariables"
      ],
      "execution_count": 0,
      "outputs": []
    },
    {
      "cell_type": "code",
      "metadata": {
        "id": "hYQBFc4Q_Qkk",
        "colab_type": "code",
        "colab": {}
      },
      "source": [
        "def elasticNetModel(df, alpha, l1):\n",
        "    (trainData, \n",
        "     testData, \n",
        "     trainDependentVariables, \n",
        "     testDependentVariables) = train_test_split(df.drop('Price_rub', axis=1),\n",
        "                                                df['Price_rub'],\n",
        "                                                test_size=0.3, \n",
        "                                                shuffle=True)\n",
        "    enModel = ElasticNet(random_state=0)\n",
        "    enModel.fit(trainData, trainDependentVariables)\n",
        "    predictedDependentVariables = enModel.predict(testData)\n",
        "    \n",
        "    getPlotAndMetrics(predictedDependentVariables, testDependentVariables, \"ElasticNet\")\n",
        "    print(enModel.coef_)\n",
        "    return predictedDependentVariables"
      ],
      "execution_count": 0,
      "outputs": []
    },
    {
      "cell_type": "code",
      "metadata": {
        "id": "M1zOoUQq_lgA",
        "colab_type": "code",
        "colab": {}
      },
      "source": [
        "def PolynomialRegression(df, degree):\n",
        "    (trainData, \n",
        "     testData, \n",
        "     trainDependentVariables, \n",
        "     testDependentVariables) = train_test_split(df.drop('Price_rub', axis=1),\n",
        "                                                df['Price_rub'],\n",
        "                                                test_size=0.3, \n",
        "                                                shuffle=True)\n",
        "\n",
        "    polyModel = PolynomialFeatures(degree=degree)\n",
        "    X1 = polyModel.fit_transform(trainData)\n",
        "    regrModel = LinearRegression()\n",
        "    regrModel.fit(X1, trainDependentVariables)\n",
        "    predictedDependentVariables = regrModel.predict(polyModel.fit_transform(testData))\n",
        "    \n",
        "    getPlotAndMetrics(predictedDependentVariables, testDependentVariables, \"Polynomial\")\n",
        "\n",
        "    return predictedDependentVariables"
      ],
      "execution_count": 0,
      "outputs": []
    },
    {
      "cell_type": "code",
      "metadata": {
        "id": "s61sEr6V_Qim",
        "colab_type": "code",
        "colab": {}
      },
      "source": [
        "def theBestNumber(df):\n",
        "    (trainData, \n",
        "     testData, \n",
        "     trainDependentVariables, \n",
        "     testDependentVariables) = train_test_split(df.drop('Price_rub', axis=1),\n",
        "                                                df['Price_rub'],\n",
        "                                                test_size=0.3, \n",
        "                                                shuffle=True)\n",
        "    alphas = []\n",
        "    scores_mean = []\n",
        "    for i in range(1, 99):\n",
        "        knrModel = KNeighborsRegressor(n_neighbors=i)\n",
        "        knrModel.fit(trainData, trainDependentVariables)\n",
        "        scores = cross_val_score(knrModel, df.drop('Price_rub', axis=1), df['Price_rub'], cv = 10)\n",
        "        avg_cross_val_score = mean(scores)*100\n",
        "        scores_mean.append(avg_cross_val_score)\n",
        "        alphas.append(i)\n",
        "    print(\"The best parametr:\", alphas[scores_mean.index(max(scores_mean))])\n",
        "    return alphas[scores_mean.index(max(scores_mean))]"
      ],
      "execution_count": 0,
      "outputs": []
    },
    {
      "cell_type": "code",
      "metadata": {
        "id": "o0T5MFCY_QXr",
        "colab_type": "code",
        "colab": {}
      },
      "source": [
        "def KNN(data):\n",
        "    (trainData, \n",
        "     testData, \n",
        "     trainDependentVariables, \n",
        "     testDependentVariables) = train_test_split(df.drop('Price_rub', axis=1),\n",
        "                                                df['Price_rub'],\n",
        "                                                test_size=0.3, \n",
        "                                                shuffle=True)\n",
        "    \n",
        "    knrModel = KNeighborsRegressor(n_neighbors=theBestNumber(df))\n",
        "    knrModel.fit(trainData, trainDependentVariables)\n",
        "    predictedDependentVariables = knrModel.predict(testData)\n",
        "\n",
        "    getPlotAndMetrics(predictedDependentVariables, testDependentVariables, \"KNN\")\n",
        "    \n",
        "    return predictedDependentVariables"
      ],
      "execution_count": 0,
      "outputs": []
    },
    {
      "cell_type": "code",
      "metadata": {
        "id": "Ayen9Omk_QVZ",
        "colab_type": "code",
        "colab": {}
      },
      "source": [
        "def DecisionTreeModel(df):\n",
        "    (trainData, \n",
        "     testData, \n",
        "     trainDependentVariables, \n",
        "     testDependentVariables) = train_test_split(df.drop('Price_rub', axis=1),\n",
        "                                                df['Price_rub'],\n",
        "                                                test_size=0.3, \n",
        "                                                shuffle=True)\n",
        "\n",
        "    dsModel = DecisionTreeRegressor(random_state = 0) \n",
        "    dsModel.fit(trainData, trainDependentVariables)\n",
        "    predictedDependentVariables = dsModel.predict(testData)\n",
        "\n",
        "    getPlotAndMetrics(predictedDependentVariables, testDependentVariables, \"Decision Tree\")\n",
        "    \n",
        "    return predictedDependentVariables"
      ],
      "execution_count": 0,
      "outputs": []
    },
    {
      "cell_type": "markdown",
      "metadata": {
        "id": "-75fwV9MAPZ8",
        "colab_type": "text"
      },
      "source": [
        "### Линейная регрессия"
      ]
    },
    {
      "cell_type": "code",
      "metadata": {
        "id": "5e1PvWNs_QK8",
        "colab_type": "code",
        "colab": {
          "base_uri": "https://localhost:8080/",
          "height": 370
        },
        "outputId": "b91a1340-42c0-4525-90a5-1bf1e31c2f20"
      },
      "source": [
        "print('Linear Regression')\n",
        "linearPrediction_portugalG1 = linearModel(df)"
      ],
      "execution_count": 70,
      "outputs": [
        {
          "output_type": "stream",
          "text": [
            "Linear Regression\n"
          ],
          "name": "stdout"
        },
        {
          "output_type": "display_data",
          "data": {
            "image/png": "[encoded data removed]",
            "text/plain": [
              "<Figure size 1200x240 with 1 Axes>"
            ]
          },
          "metadata": {
            "tags": []
          }
        },
        {
          "output_type": "stream",
          "text": [
            "MSE:   1339569044199.4236\n",
            "RMSE:  1157397.5307557138\n",
            "R2:    0.6016669203623477\n",
            "MAE:   606669.8501534373\n",
            "MedAE: 382642.50375860184\n"
          ],
          "name": "stdout"
        }
      ]
    },
    {
      "cell_type": "code",
      "metadata": {
        "id": "mIKW8oOR_QIn",
        "colab_type": "code",
        "colab": {}
      },
      "source": [
        ""
      ],
      "execution_count": 0,
      "outputs": []
    },
    {
      "cell_type": "markdown",
      "metadata": {
        "id": "OG6WqaOCF14s",
        "colab_type": "text"
      },
      "source": [
        "# Регуляризация\n",
        "(метод добавления некоторых дополнительных ограничений к условию с целью решить некорректно поставленную задачу или предотвратить переобучение.)\n",
        "* __Гребневая регрессия - L2 регуляризация__\n",
        "* __Лассо регрессия - L1 регуляризация__\n",
        "* __ElasticNet - комбинация обоих видов регуляризации__"
      ]
    },
    {
      "cell_type": "markdown",
      "metadata": {
        "id": "sJ0YNaa8GEqN",
        "colab_type": "text"
      },
      "source": [
        "### Гребневая регрессия"
      ]
    },
    {
      "cell_type": "code",
      "metadata": {
        "id": "W0WrvWBuFfG4",
        "colab_type": "code",
        "outputId": "70a4ea9e-a910-4f0b-cbd2-331ce1aee0fb",
        "colab": {
          "base_uri": "https://localhost:8080/",
          "height": 164
        }
      },
      "source": [
        "ridgePrediction = RidgeModel(df)"
      ],
      "execution_count": 57,
      "outputs": [
        {
          "output_type": "error",
          "ename": "NameError",
          "evalue": "ignored",
          "traceback": [
            "\u001b[0;31m---------------------------------------------------------------------------\u001b[0m",
            "\u001b[0;31mNameError\u001b[0m                                 Traceback (most recent call last)",
            "\u001b[0;32m<ipython-input-57-8a94f9bc54ee>\u001b[0m in \u001b[0;36m<module>\u001b[0;34m()\u001b[0m\n\u001b[0;32m----> 1\u001b[0;31m \u001b[0mridgePrediction\u001b[0m \u001b[0;34m=\u001b[0m \u001b[0mRidgeModel\u001b[0m\u001b[0;34m(\u001b[0m\u001b[0mdf\u001b[0m\u001b[0;34m)\u001b[0m\u001b[0;34m\u001b[0m\u001b[0;34m\u001b[0m\u001b[0m\n\u001b[0m",
            "\u001b[0;31mNameError\u001b[0m: name 'RidgeModel' is not defined"
          ]
        }
      ]
    },
    {
      "cell_type": "markdown",
      "metadata": {
        "id": "i4fhPcoQGqf3",
        "colab_type": "text"
      },
      "source": [
        "### ElacticNet "
      ]
    },
    {
      "cell_type": "code",
      "metadata": {
        "id": "mQ1QRA01GpDt",
        "colab_type": "code",
        "outputId": "02bed3d3-b65c-4750-d4ac-b5bbdd8a5261",
        "colab": {
          "base_uri": "https://localhost:8080/",
          "height": 198
        }
      },
      "source": [
        "print('Elastic Net model')\n",
        "enPrediction_ = elasticNetModel(df, 7, 5)"
      ],
      "execution_count": 58,
      "outputs": [
        {
          "output_type": "stream",
          "text": [
            "Elastic Net model\n"
          ],
          "name": "stdout"
        },
        {
          "output_type": "error",
          "ename": "NameError",
          "evalue": "ignored",
          "traceback": [
            "\u001b[0;31m---------------------------------------------------------------------------\u001b[0m",
            "\u001b[0;31mNameError\u001b[0m                                 Traceback (most recent call last)",
            "\u001b[0;32m<ipython-input-58-f99d794eb3fa>\u001b[0m in \u001b[0;36m<module>\u001b[0;34m()\u001b[0m\n\u001b[1;32m      1\u001b[0m \u001b[0mprint\u001b[0m\u001b[0;34m(\u001b[0m\u001b[0;34m'Elastic Net model'\u001b[0m\u001b[0;34m)\u001b[0m\u001b[0;34m\u001b[0m\u001b[0;34m\u001b[0m\u001b[0m\n\u001b[0;32m----> 2\u001b[0;31m \u001b[0menPrediction_\u001b[0m \u001b[0;34m=\u001b[0m \u001b[0melasticNetModel\u001b[0m\u001b[0;34m(\u001b[0m\u001b[0mdf\u001b[0m\u001b[0;34m,\u001b[0m \u001b[0;36m7\u001b[0m\u001b[0;34m,\u001b[0m \u001b[0;36m5\u001b[0m\u001b[0;34m)\u001b[0m\u001b[0;34m\u001b[0m\u001b[0;34m\u001b[0m\u001b[0m\n\u001b[0m",
            "\u001b[0;31mNameError\u001b[0m: name 'elasticNetModel' is not defined"
          ]
        }
      ]
    },
    {
      "cell_type": "markdown",
      "metadata": {
        "id": "d_JUrjwoMXm5",
        "colab_type": "text"
      },
      "source": [
        "### PolynomialRegression"
      ]
    },
    {
      "cell_type": "code",
      "metadata": {
        "id": "Y5VKl95wN7xl",
        "colab_type": "code",
        "outputId": "c5b35648-7129-407d-9fc0-6bf117b31e68",
        "colab": {
          "base_uri": "https://localhost:8080/",
          "height": 198
        }
      },
      "source": [
        "print('Polynomial Regression')\n",
        "polyPrediction = PolynomialRegression(df, 2)"
      ],
      "execution_count": 59,
      "outputs": [
        {
          "output_type": "stream",
          "text": [
            "Polynomial Regression\n"
          ],
          "name": "stdout"
        },
        {
          "output_type": "error",
          "ename": "NameError",
          "evalue": "ignored",
          "traceback": [
            "\u001b[0;31m---------------------------------------------------------------------------\u001b[0m",
            "\u001b[0;31mNameError\u001b[0m                                 Traceback (most recent call last)",
            "\u001b[0;32m<ipython-input-59-9e39c6dfbece>\u001b[0m in \u001b[0;36m<module>\u001b[0;34m()\u001b[0m\n\u001b[1;32m      1\u001b[0m \u001b[0mprint\u001b[0m\u001b[0;34m(\u001b[0m\u001b[0;34m'Polynomial Regression'\u001b[0m\u001b[0;34m)\u001b[0m\u001b[0;34m\u001b[0m\u001b[0;34m\u001b[0m\u001b[0m\n\u001b[0;32m----> 2\u001b[0;31m \u001b[0mpolyPrediction\u001b[0m \u001b[0;34m=\u001b[0m \u001b[0mPolynomialRegression\u001b[0m\u001b[0;34m(\u001b[0m\u001b[0mdf\u001b[0m\u001b[0;34m,\u001b[0m \u001b[0;36m2\u001b[0m\u001b[0;34m)\u001b[0m\u001b[0;34m\u001b[0m\u001b[0;34m\u001b[0m\u001b[0m\n\u001b[0m",
            "\u001b[0;31mNameError\u001b[0m: name 'PolynomialRegression' is not defined"
          ]
        }
      ]
    },
    {
      "cell_type": "markdown",
      "metadata": {
        "id": "cyKaje0dM3uW",
        "colab_type": "text"
      },
      "source": [
        "### KNN"
      ]
    },
    {
      "cell_type": "code",
      "metadata": {
        "id": "1F26TZ_eOUUJ",
        "colab_type": "code",
        "outputId": "eb2a6e96-7c5d-409b-cb66-16c1fd9fa636",
        "colab": {
          "base_uri": "https://localhost:8080/",
          "height": 198
        }
      },
      "source": [
        "print('KNN')\n",
        "knnPrediction = KNN(df)"
      ],
      "execution_count": 60,
      "outputs": [
        {
          "output_type": "stream",
          "text": [
            "KNN\n"
          ],
          "name": "stdout"
        },
        {
          "output_type": "error",
          "ename": "NameError",
          "evalue": "ignored",
          "traceback": [
            "\u001b[0;31m---------------------------------------------------------------------------\u001b[0m",
            "\u001b[0;31mNameError\u001b[0m                                 Traceback (most recent call last)",
            "\u001b[0;32m<ipython-input-60-1545d5e4da02>\u001b[0m in \u001b[0;36m<module>\u001b[0;34m()\u001b[0m\n\u001b[1;32m      1\u001b[0m \u001b[0mprint\u001b[0m\u001b[0;34m(\u001b[0m\u001b[0;34m'KNN'\u001b[0m\u001b[0;34m)\u001b[0m\u001b[0;34m\u001b[0m\u001b[0;34m\u001b[0m\u001b[0m\n\u001b[0;32m----> 2\u001b[0;31m \u001b[0mknnPrediction\u001b[0m \u001b[0;34m=\u001b[0m \u001b[0mKNN\u001b[0m\u001b[0;34m(\u001b[0m\u001b[0mdf\u001b[0m\u001b[0;34m)\u001b[0m\u001b[0;34m\u001b[0m\u001b[0;34m\u001b[0m\u001b[0m\n\u001b[0m",
            "\u001b[0;31mNameError\u001b[0m: name 'KNN' is not defined"
          ]
        }
      ]
    },
    {
      "cell_type": "markdown",
      "metadata": {
        "id": "sO0YUg7BNHND",
        "colab_type": "text"
      },
      "source": [
        "### Деревья решений"
      ]
    },
    {
      "cell_type": "code",
      "metadata": {
        "id": "qfluxw5eNIQY",
        "colab_type": "code",
        "outputId": "62b0be41-38f0-443c-d769-4ac87a0da6b0",
        "colab": {
          "base_uri": "https://localhost:8080/",
          "height": 198
        }
      },
      "source": [
        "print('DecisionTreeModel')\n",
        "dtPrediction_portugalG1 = DecisionTreeModel(df)"
      ],
      "execution_count": 61,
      "outputs": [
        {
          "output_type": "stream",
          "text": [
            "DecisionTreeModel\n"
          ],
          "name": "stdout"
        },
        {
          "output_type": "error",
          "ename": "NameError",
          "evalue": "ignored",
          "traceback": [
            "\u001b[0;31m---------------------------------------------------------------------------\u001b[0m",
            "\u001b[0;31mNameError\u001b[0m                                 Traceback (most recent call last)",
            "\u001b[0;32m<ipython-input-61-3a2873c26225>\u001b[0m in \u001b[0;36m<module>\u001b[0;34m()\u001b[0m\n\u001b[1;32m      1\u001b[0m \u001b[0mprint\u001b[0m\u001b[0;34m(\u001b[0m\u001b[0;34m'DecisionTreeModel'\u001b[0m\u001b[0;34m)\u001b[0m\u001b[0;34m\u001b[0m\u001b[0;34m\u001b[0m\u001b[0m\n\u001b[0;32m----> 2\u001b[0;31m \u001b[0mdtPrediction_portugalG1\u001b[0m \u001b[0;34m=\u001b[0m \u001b[0mDecisionTreeModel\u001b[0m\u001b[0;34m(\u001b[0m\u001b[0mdf\u001b[0m\u001b[0;34m)\u001b[0m\u001b[0;34m\u001b[0m\u001b[0;34m\u001b[0m\u001b[0m\n\u001b[0m",
            "\u001b[0;31mNameError\u001b[0m: name 'DecisionTreeModel' is not defined"
          ]
        }
      ]
    },
    {
      "cell_type": "code",
      "metadata": {
        "id": "rGWQJDxK9Bss",
        "colab_type": "code",
        "colab": {}
      },
      "source": [
        ""
      ],
      "execution_count": 0,
      "outputs": []
    },
    {
      "cell_type": "markdown",
      "metadata": {
        "id": "Cb_WRiCD8ItZ",
        "colab_type": "text"
      },
      "source": [
        "# Нейронные сети"
      ]
    },
    {
      "cell_type": "markdown",
      "metadata": {
        "id": "WI_GRAwx8NWU",
        "colab_type": "text"
      },
      "source": [
        "### Подбор архитектуры нейронной сети"
      ]
    },
    {
      "cell_type": "code",
      "metadata": {
        "id": "xxAPG_nr-kDy",
        "colab_type": "code",
        "colab": {}
      },
      "source": [
        "def build_model(hp):\n",
        "    model = keras.Sequential()\n",
        "    #activation_choice = hp.Choice('activation', values=['relu', 'sigmoid', 'tanh', 'elu', 'selu'])    \n",
        "    model.add(keras.layers.Dense(units=hp.Int('units_input',    # Полносвязный слой с разным количеством нейронов\n",
        "                                   min_value=512,    # минимальное количество нейронов - 128\n",
        "                                   max_value=1024,   # максимальное количество - 1024\n",
        "                                   step=32),\n",
        "                    input_dim=X_train.shape[1],\n",
        "                    activation='relu'))\n",
        "    model.add(keras.layers.Dense(units=hp.Int('units_hidden',        \n",
        "                                   min_value=128,   \n",
        "                                   max_value=600,   \n",
        "                                   step=32),\n",
        "                    activation='relu'))   \n",
        "    model.add(keras.layers.Dense(1))\n",
        "    model.compile(\n",
        "        optimizer=hp.Choice('adam', values=['adam','rmsprop','SGD']),\n",
        "        loss='mse',\n",
        "        metrics=['mae'])\n",
        "    return model"
      ],
      "execution_count": 0,
      "outputs": []
    },
    {
      "cell_type": "code",
      "metadata": {
        "id": "87hiVMbChKbx",
        "colab_type": "code",
        "outputId": "dfb082f6-be12-4cbc-b197-bdd6dbbe4a3b",
        "colab": {
          "base_uri": "https://localhost:8080/",
          "height": 71
        }
      },
      "source": [
        "tuner = RandomSearch(\n",
        "    build_model,                 # функция создания модели\n",
        "    objective='mae',    # метрика, которую нужно оптимизировать - \n",
        "                                 # доля правильных ответов на проверочном наборе данных\n",
        "    max_trials=80,               # максимальное количество запусков обучения \n",
        "    directory='/content/drive/My Drive/Курсач/Colab Notebooks/models'   # каталог, куда сохраняются обученные сети  \n",
        "    )"
      ],
      "execution_count": 0,
      "outputs": [
        {
          "output_type": "stream",
          "text": [
            "INFO:tensorflow:Reloading Oracle from existing project /content/drive/My Drive/Курсач/Colab Notebooks/models/untitled_project/oracle.json\n",
            "INFO:tensorflow:Reloading Tuner from /content/drive/My Drive/Курсач/Colab Notebooks/models/untitled_project/tuner0.json\n"
          ],
          "name": "stdout"
        }
      ]
    },
    {
      "cell_type": "code",
      "metadata": {
        "id": "8lGfGD41Q9d2",
        "colab_type": "code",
        "outputId": "d8f76e74-ede6-4c49-c647-5685a2c10963",
        "colab": {
          "base_uri": "https://localhost:8080/",
          "height": 557
        }
      },
      "source": [
        "tuner.search_space_summary()"
      ],
      "execution_count": 0,
      "outputs": [
        {
          "output_type": "display_data",
          "data": {
            "text/html": [
              "<span style=\"color:#4527A0\"><h1 style=\"font-size:18px\">Search space summary</h1></span>"
            ],
            "text/plain": [
              "<IPython.core.display.HTML object>"
            ]
          },
          "metadata": {
            "tags": []
          }
        },
        {
          "output_type": "display_data",
          "data": {
            "text/html": [
              "<span style=\"color:cyan\"> |-Default search space size: 4</span>"
            ],
            "text/plain": [
              "<IPython.core.display.HTML object>"
            ]
          },
          "metadata": {
            "tags": []
          }
        },
        {
          "output_type": "display_data",
          "data": {
            "text/html": [
              "<span style=\"color:#7E57C2\"><h2 style=\"font-size:16px\">units_input (Int)</h2></span>"
            ],
            "text/plain": [
              "<IPython.core.display.HTML object>"
            ]
          },
          "metadata": {
            "tags": []
          }
        },
        {
          "output_type": "display_data",
          "data": {
            "text/html": [
              "<span style=\"color:cyan\"> |-conditions: []</span>"
            ],
            "text/plain": [
              "<IPython.core.display.HTML object>"
            ]
          },
          "metadata": {
            "tags": []
          }
        },
        {
          "output_type": "display_data",
          "data": {
            "text/html": [
              "<span style=\"color:blue\"> |-default: None</span>"
            ],
            "text/plain": [
              "<IPython.core.display.HTML object>"
            ]
          },
          "metadata": {
            "tags": []
          }
        },
        {
          "output_type": "display_data",
          "data": {
            "text/html": [
              "<span style=\"color:cyan\"> |-max_value: 1024</span>"
            ],
            "text/plain": [
              "<IPython.core.display.HTML object>"
            ]
          },
          "metadata": {
            "tags": []
          }
        },
        {
          "output_type": "display_data",
          "data": {
            "text/html": [
              "<span style=\"color:blue\"> |-min_value: 512</span>"
            ],
            "text/plain": [
              "<IPython.core.display.HTML object>"
            ]
          },
          "metadata": {
            "tags": []
          }
        },
        {
          "output_type": "display_data",
          "data": {
            "text/html": [
              "<span style=\"color:cyan\"> |-sampling: None</span>"
            ],
            "text/plain": [
              "<IPython.core.display.HTML object>"
            ]
          },
          "metadata": {
            "tags": []
          }
        },
        {
          "output_type": "display_data",
          "data": {
            "text/html": [
              "<span style=\"color:blue\"> |-step: 32</span>"
            ],
            "text/plain": [
              "<IPython.core.display.HTML object>"
            ]
          },
          "metadata": {
            "tags": []
          }
        },
        {
          "output_type": "display_data",
          "data": {
            "text/html": [
              "<span style=\"color:#7E57C2\"><h2 style=\"font-size:16px\">units_hidden (Int)</h2></span>"
            ],
            "text/plain": [
              "<IPython.core.display.HTML object>"
            ]
          },
          "metadata": {
            "tags": []
          }
        },
        {
          "output_type": "display_data",
          "data": {
            "text/html": [
              "<span style=\"color:cyan\"> |-conditions: []</span>"
            ],
            "text/plain": [
              "<IPython.core.display.HTML object>"
            ]
          },
          "metadata": {
            "tags": []
          }
        },
        {
          "output_type": "display_data",
          "data": {
            "text/html": [
              "<span style=\"color:blue\"> |-default: None</span>"
            ],
            "text/plain": [
              "<IPython.core.display.HTML object>"
            ]
          },
          "metadata": {
            "tags": []
          }
        },
        {
          "output_type": "display_data",
          "data": {
            "text/html": [
              "<span style=\"color:cyan\"> |-max_value: 600</span>"
            ],
            "text/plain": [
              "<IPython.core.display.HTML object>"
            ]
          },
          "metadata": {
            "tags": []
          }
        },
        {
          "output_type": "display_data",
          "data": {
            "text/html": [
              "<span style=\"color:blue\"> |-min_value: 128</span>"
            ],
            "text/plain": [
              "<IPython.core.display.HTML object>"
            ]
          },
          "metadata": {
            "tags": []
          }
        },
        {
          "output_type": "display_data",
          "data": {
            "text/html": [
              "<span style=\"color:cyan\"> |-sampling: None</span>"
            ],
            "text/plain": [
              "<IPython.core.display.HTML object>"
            ]
          },
          "metadata": {
            "tags": []
          }
        },
        {
          "output_type": "display_data",
          "data": {
            "text/html": [
              "<span style=\"color:blue\"> |-step: 32</span>"
            ],
            "text/plain": [
              "<IPython.core.display.HTML object>"
            ]
          },
          "metadata": {
            "tags": []
          }
        },
        {
          "output_type": "display_data",
          "data": {
            "text/html": [
              "<span style=\"color:#7E57C2\"><h2 style=\"font-size:16px\">optimizer (Choice)</h2></span>"
            ],
            "text/plain": [
              "<IPython.core.display.HTML object>"
            ]
          },
          "metadata": {
            "tags": []
          }
        },
        {
          "output_type": "display_data",
          "data": {
            "text/html": [
              "<span style=\"color:cyan\"> |-conditions: []</span>"
            ],
            "text/plain": [
              "<IPython.core.display.HTML object>"
            ]
          },
          "metadata": {
            "tags": []
          }
        },
        {
          "output_type": "display_data",
          "data": {
            "text/html": [
              "<span style=\"color:blue\"> |-default: adam</span>"
            ],
            "text/plain": [
              "<IPython.core.display.HTML object>"
            ]
          },
          "metadata": {
            "tags": []
          }
        },
        {
          "output_type": "display_data",
          "data": {
            "text/html": [
              "<span style=\"color:cyan\"> |-ordered: False</span>"
            ],
            "text/plain": [
              "<IPython.core.display.HTML object>"
            ]
          },
          "metadata": {
            "tags": []
          }
        },
        {
          "output_type": "display_data",
          "data": {
            "text/html": [
              "<span style=\"color:blue\"> |-values: ['adam', 'rmsprop', 'SGD']</span>"
            ],
            "text/plain": [
              "<IPython.core.display.HTML object>"
            ]
          },
          "metadata": {
            "tags": []
          }
        },
        {
          "output_type": "display_data",
          "data": {
            "text/html": [
              "<span style=\"color:#7E57C2\"><h2 style=\"font-size:16px\">adam (Choice)</h2></span>"
            ],
            "text/plain": [
              "<IPython.core.display.HTML object>"
            ]
          },
          "metadata": {
            "tags": []
          }
        },
        {
          "output_type": "display_data",
          "data": {
            "text/html": [
              "<span style=\"color:cyan\"> |-conditions: []</span>"
            ],
            "text/plain": [
              "<IPython.core.display.HTML object>"
            ]
          },
          "metadata": {
            "tags": []
          }
        },
        {
          "output_type": "display_data",
          "data": {
            "text/html": [
              "<span style=\"color:blue\"> |-default: adam</span>"
            ],
            "text/plain": [
              "<IPython.core.display.HTML object>"
            ]
          },
          "metadata": {
            "tags": []
          }
        },
        {
          "output_type": "display_data",
          "data": {
            "text/html": [
              "<span style=\"color:cyan\"> |-ordered: False</span>"
            ],
            "text/plain": [
              "<IPython.core.display.HTML object>"
            ]
          },
          "metadata": {
            "tags": []
          }
        },
        {
          "output_type": "display_data",
          "data": {
            "text/html": [
              "<span style=\"color:blue\"> |-values: ['adam', 'rmsprop', 'SGD']</span>"
            ],
            "text/plain": [
              "<IPython.core.display.HTML object>"
            ]
          },
          "metadata": {
            "tags": []
          }
        }
      ]
    },
    {
      "cell_type": "code",
      "metadata": {
        "id": "3QUkO-JLROHZ",
        "colab_type": "code",
        "outputId": "1c81cac0-3c13-4e46-c9c7-e6aedd502afe",
        "colab": {
          "base_uri": "https://localhost:8080/",
          "height": 34
        }
      },
      "source": [
        "tuner.search(X_train,                  # Данные для обучения\n",
        "             Y_train,                  # Правильные ответы\n",
        "             batch_size=20,             # Размер мини-выборки\n",
        "             epochs=20,                # Количество эпох обучения \n",
        "             validation_split=0.2,    # Часть данных, которая будет использоваться для проверки\n",
        "             verbose=1\n",
        "             )"
      ],
      "execution_count": 0,
      "outputs": [
        {
          "output_type": "stream",
          "text": [
            "INFO:tensorflow:Oracle triggered exit\n"
          ],
          "name": "stdout"
        }
      ]
    },
    {
      "cell_type": "code",
      "metadata": {
        "id": "Bw3A5-CxRP-v",
        "colab_type": "code",
        "outputId": "da44ffc2-7a6d-4d1f-a7c6-2c3317f2cd55",
        "colab": {
          "base_uri": "https://localhost:8080/",
          "height": 1000
        }
      },
      "source": [
        "tuner.results_summary()"
      ],
      "execution_count": 0,
      "outputs": [
        {
          "output_type": "display_data",
          "data": {
            "text/html": [
              "<span style=\"color:#4527A0\"><h1 style=\"font-size:18px\">Results summary</h1></span>"
            ],
            "text/plain": [
              "<IPython.core.display.HTML object>"
            ]
          },
          "metadata": {
            "tags": []
          }
        },
        {
          "output_type": "display_data",
          "data": {
            "text/html": [
              "<span style=\"color:cyan\"> |-Results in /content/drive/My Drive/Курсач/Colab Notebooks/models/untitled_project</span>"
            ],
            "text/plain": [
              "<IPython.core.display.HTML object>"
            ]
          },
          "metadata": {
            "tags": []
          }
        },
        {
          "output_type": "display_data",
          "data": {
            "text/html": [
              "<span style=\"color:cyan\"> |-Showing 10 best trials</span>"
            ],
            "text/plain": [
              "<IPython.core.display.HTML object>"
            ]
          },
          "metadata": {
            "tags": []
          }
        },
        {
          "output_type": "display_data",
          "data": {
            "text/html": [
              "<span style=\"color:cyan\"> |-Objective(name='mae', direction='min')</span>"
            ],
            "text/plain": [
              "<IPython.core.display.HTML object>"
            ]
          },
          "metadata": {
            "tags": []
          }
        },
        {
          "output_type": "display_data",
          "data": {
            "text/html": [
              "<span style=\"color:#4527A0\"><h1 style=\"font-size:18px\">Trial summary</h1></span>"
            ],
            "text/plain": [
              "<IPython.core.display.HTML object>"
            ]
          },
          "metadata": {
            "tags": []
          }
        },
        {
          "output_type": "display_data",
          "data": {
            "text/html": [
              "<span style=\"color:cyan\"> |-Trial ID: b6eede25d62905d90be9b63726b8ccd4</span>"
            ],
            "text/plain": [
              "<IPython.core.display.HTML object>"
            ]
          },
          "metadata": {
            "tags": []
          }
        },
        {
          "output_type": "display_data",
          "data": {
            "text/html": [
              "<span style=\"color:cyan\"> |-Score: 258754.234375</span>"
            ],
            "text/plain": [
              "<IPython.core.display.HTML object>"
            ]
          },
          "metadata": {
            "tags": []
          }
        },
        {
          "output_type": "display_data",
          "data": {
            "text/html": [
              "<span style=\"color:cyan\"> |-Best step: 0</span>"
            ],
            "text/plain": [
              "<IPython.core.display.HTML object>"
            ]
          },
          "metadata": {
            "tags": []
          }
        },
        {
          "output_type": "display_data",
          "data": {
            "text/html": [
              "<span style=\"color:#7E57C2\"><h2 style=\"font-size:16px\">Hyperparameters:</h2></span>"
            ],
            "text/plain": [
              "<IPython.core.display.HTML object>"
            ]
          },
          "metadata": {
            "tags": []
          }
        },
        {
          "output_type": "display_data",
          "data": {
            "text/html": [
              "<span style=\"color:cyan\"> |-optimizer: adam</span>"
            ],
            "text/plain": [
              "<IPython.core.display.HTML object>"
            ]
          },
          "metadata": {
            "tags": []
          }
        },
        {
          "output_type": "display_data",
          "data": {
            "text/html": [
              "<span style=\"color:blue\"> |-units_hidden: 384</span>"
            ],
            "text/plain": [
              "<IPython.core.display.HTML object>"
            ]
          },
          "metadata": {
            "tags": []
          }
        },
        {
          "output_type": "display_data",
          "data": {
            "text/html": [
              "<span style=\"color:cyan\"> |-units_input: 928</span>"
            ],
            "text/plain": [
              "<IPython.core.display.HTML object>"
            ]
          },
          "metadata": {
            "tags": []
          }
        },
        {
          "output_type": "display_data",
          "data": {
            "text/html": [
              "<span style=\"color:#4527A0\"><h1 style=\"font-size:18px\">Trial summary</h1></span>"
            ],
            "text/plain": [
              "<IPython.core.display.HTML object>"
            ]
          },
          "metadata": {
            "tags": []
          }
        },
        {
          "output_type": "display_data",
          "data": {
            "text/html": [
              "<span style=\"color:cyan\"> |-Trial ID: 79c032dc86934124665661fce531ad46</span>"
            ],
            "text/plain": [
              "<IPython.core.display.HTML object>"
            ]
          },
          "metadata": {
            "tags": []
          }
        },
        {
          "output_type": "display_data",
          "data": {
            "text/html": [
              "<span style=\"color:cyan\"> |-Score: 285159.84375</span>"
            ],
            "text/plain": [
              "<IPython.core.display.HTML object>"
            ]
          },
          "metadata": {
            "tags": []
          }
        },
        {
          "output_type": "display_data",
          "data": {
            "text/html": [
              "<span style=\"color:cyan\"> |-Best step: 0</span>"
            ],
            "text/plain": [
              "<IPython.core.display.HTML object>"
            ]
          },
          "metadata": {
            "tags": []
          }
        },
        {
          "output_type": "display_data",
          "data": {
            "text/html": [
              "<span style=\"color:#7E57C2\"><h2 style=\"font-size:16px\">Hyperparameters:</h2></span>"
            ],
            "text/plain": [
              "<IPython.core.display.HTML object>"
            ]
          },
          "metadata": {
            "tags": []
          }
        },
        {
          "output_type": "display_data",
          "data": {
            "text/html": [
              "<span style=\"color:cyan\"> |-optimizer: adam</span>"
            ],
            "text/plain": [
              "<IPython.core.display.HTML object>"
            ]
          },
          "metadata": {
            "tags": []
          }
        },
        {
          "output_type": "display_data",
          "data": {
            "text/html": [
              "<span style=\"color:blue\"> |-units_hidden: 256</span>"
            ],
            "text/plain": [
              "<IPython.core.display.HTML object>"
            ]
          },
          "metadata": {
            "tags": []
          }
        },
        {
          "output_type": "display_data",
          "data": {
            "text/html": [
              "<span style=\"color:cyan\"> |-units_input: 640</span>"
            ],
            "text/plain": [
              "<IPython.core.display.HTML object>"
            ]
          },
          "metadata": {
            "tags": []
          }
        },
        {
          "output_type": "display_data",
          "data": {
            "text/html": [
              "<span style=\"color:#4527A0\"><h1 style=\"font-size:18px\">Trial summary</h1></span>"
            ],
            "text/plain": [
              "<IPython.core.display.HTML object>"
            ]
          },
          "metadata": {
            "tags": []
          }
        },
        {
          "output_type": "display_data",
          "data": {
            "text/html": [
              "<span style=\"color:cyan\"> |-Trial ID: ac7963c4cf189f909f42cb9f0a63a6df</span>"
            ],
            "text/plain": [
              "<IPython.core.display.HTML object>"
            ]
          },
          "metadata": {
            "tags": []
          }
        },
        {
          "output_type": "display_data",
          "data": {
            "text/html": [
              "<span style=\"color:cyan\"> |-Score: 296887.5</span>"
            ],
            "text/plain": [
              "<IPython.core.display.HTML object>"
            ]
          },
          "metadata": {
            "tags": []
          }
        },
        {
          "output_type": "display_data",
          "data": {
            "text/html": [
              "<span style=\"color:cyan\"> |-Best step: 0</span>"
            ],
            "text/plain": [
              "<IPython.core.display.HTML object>"
            ]
          },
          "metadata": {
            "tags": []
          }
        },
        {
          "output_type": "display_data",
          "data": {
            "text/html": [
              "<span style=\"color:#7E57C2\"><h2 style=\"font-size:16px\">Hyperparameters:</h2></span>"
            ],
            "text/plain": [
              "<IPython.core.display.HTML object>"
            ]
          },
          "metadata": {
            "tags": []
          }
        },
        {
          "output_type": "display_data",
          "data": {
            "text/html": [
              "<span style=\"color:cyan\"> |-adam: adam</span>"
            ],
            "text/plain": [
              "<IPython.core.display.HTML object>"
            ]
          },
          "metadata": {
            "tags": []
          }
        },
        {
          "output_type": "display_data",
          "data": {
            "text/html": [
              "<span style=\"color:blue\"> |-optimizer: rmsprop</span>"
            ],
            "text/plain": [
              "<IPython.core.display.HTML object>"
            ]
          },
          "metadata": {
            "tags": []
          }
        },
        {
          "output_type": "display_data",
          "data": {
            "text/html": [
              "<span style=\"color:cyan\"> |-units_hidden: 480</span>"
            ],
            "text/plain": [
              "<IPython.core.display.HTML object>"
            ]
          },
          "metadata": {
            "tags": []
          }
        },
        {
          "output_type": "display_data",
          "data": {
            "text/html": [
              "<span style=\"color:blue\"> |-units_input: 928</span>"
            ],
            "text/plain": [
              "<IPython.core.display.HTML object>"
            ]
          },
          "metadata": {
            "tags": []
          }
        },
        {
          "output_type": "display_data",
          "data": {
            "text/html": [
              "<span style=\"color:#4527A0\"><h1 style=\"font-size:18px\">Trial summary</h1></span>"
            ],
            "text/plain": [
              "<IPython.core.display.HTML object>"
            ]
          },
          "metadata": {
            "tags": []
          }
        },
        {
          "output_type": "display_data",
          "data": {
            "text/html": [
              "<span style=\"color:cyan\"> |-Trial ID: aa7313932b6ac68fccd156e0b04a50ad</span>"
            ],
            "text/plain": [
              "<IPython.core.display.HTML object>"
            ]
          },
          "metadata": {
            "tags": []
          }
        },
        {
          "output_type": "display_data",
          "data": {
            "text/html": [
              "<span style=\"color:cyan\"> |-Score: 300467.6875</span>"
            ],
            "text/plain": [
              "<IPython.core.display.HTML object>"
            ]
          },
          "metadata": {
            "tags": []
          }
        },
        {
          "output_type": "display_data",
          "data": {
            "text/html": [
              "<span style=\"color:cyan\"> |-Best step: 0</span>"
            ],
            "text/plain": [
              "<IPython.core.display.HTML object>"
            ]
          },
          "metadata": {
            "tags": []
          }
        },
        {
          "output_type": "display_data",
          "data": {
            "text/html": [
              "<span style=\"color:#7E57C2\"><h2 style=\"font-size:16px\">Hyperparameters:</h2></span>"
            ],
            "text/plain": [
              "<IPython.core.display.HTML object>"
            ]
          },
          "metadata": {
            "tags": []
          }
        },
        {
          "output_type": "display_data",
          "data": {
            "text/html": [
              "<span style=\"color:cyan\"> |-adam: adam</span>"
            ],
            "text/plain": [
              "<IPython.core.display.HTML object>"
            ]
          },
          "metadata": {
            "tags": []
          }
        },
        {
          "output_type": "display_data",
          "data": {
            "text/html": [
              "<span style=\"color:blue\"> |-optimizer: SGD</span>"
            ],
            "text/plain": [
              "<IPython.core.display.HTML object>"
            ]
          },
          "metadata": {
            "tags": []
          }
        },
        {
          "output_type": "display_data",
          "data": {
            "text/html": [
              "<span style=\"color:cyan\"> |-units_hidden: 576</span>"
            ],
            "text/plain": [
              "<IPython.core.display.HTML object>"
            ]
          },
          "metadata": {
            "tags": []
          }
        },
        {
          "output_type": "display_data",
          "data": {
            "text/html": [
              "<span style=\"color:blue\"> |-units_input: 640</span>"
            ],
            "text/plain": [
              "<IPython.core.display.HTML object>"
            ]
          },
          "metadata": {
            "tags": []
          }
        },
        {
          "output_type": "display_data",
          "data": {
            "text/html": [
              "<span style=\"color:#4527A0\"><h1 style=\"font-size:18px\">Trial summary</h1></span>"
            ],
            "text/plain": [
              "<IPython.core.display.HTML object>"
            ]
          },
          "metadata": {
            "tags": []
          }
        },
        {
          "output_type": "display_data",
          "data": {
            "text/html": [
              "<span style=\"color:cyan\"> |-Trial ID: 1958e069917b7880d4de2162f9421fb1</span>"
            ],
            "text/plain": [
              "<IPython.core.display.HTML object>"
            ]
          },
          "metadata": {
            "tags": []
          }
        },
        {
          "output_type": "display_data",
          "data": {
            "text/html": [
              "<span style=\"color:cyan\"> |-Score: 302238.3125</span>"
            ],
            "text/plain": [
              "<IPython.core.display.HTML object>"
            ]
          },
          "metadata": {
            "tags": []
          }
        },
        {
          "output_type": "display_data",
          "data": {
            "text/html": [
              "<span style=\"color:cyan\"> |-Best step: 0</span>"
            ],
            "text/plain": [
              "<IPython.core.display.HTML object>"
            ]
          },
          "metadata": {
            "tags": []
          }
        },
        {
          "output_type": "display_data",
          "data": {
            "text/html": [
              "<span style=\"color:#7E57C2\"><h2 style=\"font-size:16px\">Hyperparameters:</h2></span>"
            ],
            "text/plain": [
              "<IPython.core.display.HTML object>"
            ]
          },
          "metadata": {
            "tags": []
          }
        },
        {
          "output_type": "display_data",
          "data": {
            "text/html": [
              "<span style=\"color:cyan\"> |-adam: adam</span>"
            ],
            "text/plain": [
              "<IPython.core.display.HTML object>"
            ]
          },
          "metadata": {
            "tags": []
          }
        },
        {
          "output_type": "display_data",
          "data": {
            "text/html": [
              "<span style=\"color:blue\"> |-optimizer: rmsprop</span>"
            ],
            "text/plain": [
              "<IPython.core.display.HTML object>"
            ]
          },
          "metadata": {
            "tags": []
          }
        },
        {
          "output_type": "display_data",
          "data": {
            "text/html": [
              "<span style=\"color:cyan\"> |-units_hidden: 512</span>"
            ],
            "text/plain": [
              "<IPython.core.display.HTML object>"
            ]
          },
          "metadata": {
            "tags": []
          }
        },
        {
          "output_type": "display_data",
          "data": {
            "text/html": [
              "<span style=\"color:blue\"> |-units_input: 608</span>"
            ],
            "text/plain": [
              "<IPython.core.display.HTML object>"
            ]
          },
          "metadata": {
            "tags": []
          }
        },
        {
          "output_type": "display_data",
          "data": {
            "text/html": [
              "<span style=\"color:#4527A0\"><h1 style=\"font-size:18px\">Trial summary</h1></span>"
            ],
            "text/plain": [
              "<IPython.core.display.HTML object>"
            ]
          },
          "metadata": {
            "tags": []
          }
        },
        {
          "output_type": "display_data",
          "data": {
            "text/html": [
              "<span style=\"color:cyan\"> |-Trial ID: cb83dea6eb2a44abde2d92fa64a529b4</span>"
            ],
            "text/plain": [
              "<IPython.core.display.HTML object>"
            ]
          },
          "metadata": {
            "tags": []
          }
        },
        {
          "output_type": "display_data",
          "data": {
            "text/html": [
              "<span style=\"color:cyan\"> |-Score: 302955.125</span>"
            ],
            "text/plain": [
              "<IPython.core.display.HTML object>"
            ]
          },
          "metadata": {
            "tags": []
          }
        },
        {
          "output_type": "display_data",
          "data": {
            "text/html": [
              "<span style=\"color:cyan\"> |-Best step: 0</span>"
            ],
            "text/plain": [
              "<IPython.core.display.HTML object>"
            ]
          },
          "metadata": {
            "tags": []
          }
        },
        {
          "output_type": "display_data",
          "data": {
            "text/html": [
              "<span style=\"color:#7E57C2\"><h2 style=\"font-size:16px\">Hyperparameters:</h2></span>"
            ],
            "text/plain": [
              "<IPython.core.display.HTML object>"
            ]
          },
          "metadata": {
            "tags": []
          }
        },
        {
          "output_type": "display_data",
          "data": {
            "text/html": [
              "<span style=\"color:cyan\"> |-adam: adam</span>"
            ],
            "text/plain": [
              "<IPython.core.display.HTML object>"
            ]
          },
          "metadata": {
            "tags": []
          }
        },
        {
          "output_type": "display_data",
          "data": {
            "text/html": [
              "<span style=\"color:blue\"> |-optimizer: SGD</span>"
            ],
            "text/plain": [
              "<IPython.core.display.HTML object>"
            ]
          },
          "metadata": {
            "tags": []
          }
        },
        {
          "output_type": "display_data",
          "data": {
            "text/html": [
              "<span style=\"color:cyan\"> |-units_hidden: 544</span>"
            ],
            "text/plain": [
              "<IPython.core.display.HTML object>"
            ]
          },
          "metadata": {
            "tags": []
          }
        },
        {
          "output_type": "display_data",
          "data": {
            "text/html": [
              "<span style=\"color:blue\"> |-units_input: 704</span>"
            ],
            "text/plain": [
              "<IPython.core.display.HTML object>"
            ]
          },
          "metadata": {
            "tags": []
          }
        },
        {
          "output_type": "display_data",
          "data": {
            "text/html": [
              "<span style=\"color:#4527A0\"><h1 style=\"font-size:18px\">Trial summary</h1></span>"
            ],
            "text/plain": [
              "<IPython.core.display.HTML object>"
            ]
          },
          "metadata": {
            "tags": []
          }
        },
        {
          "output_type": "display_data",
          "data": {
            "text/html": [
              "<span style=\"color:cyan\"> |-Trial ID: 7a3de742cbfd0bd323c444c343e037ce</span>"
            ],
            "text/plain": [
              "<IPython.core.display.HTML object>"
            ]
          },
          "metadata": {
            "tags": []
          }
        },
        {
          "output_type": "display_data",
          "data": {
            "text/html": [
              "<span style=\"color:cyan\"> |-Score: 303070.5</span>"
            ],
            "text/plain": [
              "<IPython.core.display.HTML object>"
            ]
          },
          "metadata": {
            "tags": []
          }
        },
        {
          "output_type": "display_data",
          "data": {
            "text/html": [
              "<span style=\"color:cyan\"> |-Best step: 0</span>"
            ],
            "text/plain": [
              "<IPython.core.display.HTML object>"
            ]
          },
          "metadata": {
            "tags": []
          }
        },
        {
          "output_type": "display_data",
          "data": {
            "text/html": [
              "<span style=\"color:#7E57C2\"><h2 style=\"font-size:16px\">Hyperparameters:</h2></span>"
            ],
            "text/plain": [
              "<IPython.core.display.HTML object>"
            ]
          },
          "metadata": {
            "tags": []
          }
        },
        {
          "output_type": "display_data",
          "data": {
            "text/html": [
              "<span style=\"color:cyan\"> |-adam: adam</span>"
            ],
            "text/plain": [
              "<IPython.core.display.HTML object>"
            ]
          },
          "metadata": {
            "tags": []
          }
        },
        {
          "output_type": "display_data",
          "data": {
            "text/html": [
              "<span style=\"color:blue\"> |-optimizer: SGD</span>"
            ],
            "text/plain": [
              "<IPython.core.display.HTML object>"
            ]
          },
          "metadata": {
            "tags": []
          }
        },
        {
          "output_type": "display_data",
          "data": {
            "text/html": [
              "<span style=\"color:cyan\"> |-units_hidden: 544</span>"
            ],
            "text/plain": [
              "<IPython.core.display.HTML object>"
            ]
          },
          "metadata": {
            "tags": []
          }
        },
        {
          "output_type": "display_data",
          "data": {
            "text/html": [
              "<span style=\"color:blue\"> |-units_input: 544</span>"
            ],
            "text/plain": [
              "<IPython.core.display.HTML object>"
            ]
          },
          "metadata": {
            "tags": []
          }
        },
        {
          "output_type": "display_data",
          "data": {
            "text/html": [
              "<span style=\"color:#4527A0\"><h1 style=\"font-size:18px\">Trial summary</h1></span>"
            ],
            "text/plain": [
              "<IPython.core.display.HTML object>"
            ]
          },
          "metadata": {
            "tags": []
          }
        },
        {
          "output_type": "display_data",
          "data": {
            "text/html": [
              "<span style=\"color:cyan\"> |-Trial ID: 493246869959b0e46c4f48de155cc507</span>"
            ],
            "text/plain": [
              "<IPython.core.display.HTML object>"
            ]
          },
          "metadata": {
            "tags": []
          }
        },
        {
          "output_type": "display_data",
          "data": {
            "text/html": [
              "<span style=\"color:cyan\"> |-Score: 304891.5</span>"
            ],
            "text/plain": [
              "<IPython.core.display.HTML object>"
            ]
          },
          "metadata": {
            "tags": []
          }
        },
        {
          "output_type": "display_data",
          "data": {
            "text/html": [
              "<span style=\"color:cyan\"> |-Best step: 0</span>"
            ],
            "text/plain": [
              "<IPython.core.display.HTML object>"
            ]
          },
          "metadata": {
            "tags": []
          }
        },
        {
          "output_type": "display_data",
          "data": {
            "text/html": [
              "<span style=\"color:#7E57C2\"><h2 style=\"font-size:16px\">Hyperparameters:</h2></span>"
            ],
            "text/plain": [
              "<IPython.core.display.HTML object>"
            ]
          },
          "metadata": {
            "tags": []
          }
        },
        {
          "output_type": "display_data",
          "data": {
            "text/html": [
              "<span style=\"color:cyan\"> |-adam: adam</span>"
            ],
            "text/plain": [
              "<IPython.core.display.HTML object>"
            ]
          },
          "metadata": {
            "tags": []
          }
        },
        {
          "output_type": "display_data",
          "data": {
            "text/html": [
              "<span style=\"color:blue\"> |-optimizer: rmsprop</span>"
            ],
            "text/plain": [
              "<IPython.core.display.HTML object>"
            ]
          },
          "metadata": {
            "tags": []
          }
        },
        {
          "output_type": "display_data",
          "data": {
            "text/html": [
              "<span style=\"color:cyan\"> |-units_hidden: 352</span>"
            ],
            "text/plain": [
              "<IPython.core.display.HTML object>"
            ]
          },
          "metadata": {
            "tags": []
          }
        },
        {
          "output_type": "display_data",
          "data": {
            "text/html": [
              "<span style=\"color:blue\"> |-units_input: 1024</span>"
            ],
            "text/plain": [
              "<IPython.core.display.HTML object>"
            ]
          },
          "metadata": {
            "tags": []
          }
        },
        {
          "output_type": "display_data",
          "data": {
            "text/html": [
              "<span style=\"color:#4527A0\"><h1 style=\"font-size:18px\">Trial summary</h1></span>"
            ],
            "text/plain": [
              "<IPython.core.display.HTML object>"
            ]
          },
          "metadata": {
            "tags": []
          }
        },
        {
          "output_type": "display_data",
          "data": {
            "text/html": [
              "<span style=\"color:cyan\"> |-Trial ID: 585a4234bb6a4f994b43ec4e4a0cdb30</span>"
            ],
            "text/plain": [
              "<IPython.core.display.HTML object>"
            ]
          },
          "metadata": {
            "tags": []
          }
        },
        {
          "output_type": "display_data",
          "data": {
            "text/html": [
              "<span style=\"color:cyan\"> |-Score: 309923.15625</span>"
            ],
            "text/plain": [
              "<IPython.core.display.HTML object>"
            ]
          },
          "metadata": {
            "tags": []
          }
        },
        {
          "output_type": "display_data",
          "data": {
            "text/html": [
              "<span style=\"color:cyan\"> |-Best step: 0</span>"
            ],
            "text/plain": [
              "<IPython.core.display.HTML object>"
            ]
          },
          "metadata": {
            "tags": []
          }
        },
        {
          "output_type": "display_data",
          "data": {
            "text/html": [
              "<span style=\"color:#7E57C2\"><h2 style=\"font-size:16px\">Hyperparameters:</h2></span>"
            ],
            "text/plain": [
              "<IPython.core.display.HTML object>"
            ]
          },
          "metadata": {
            "tags": []
          }
        },
        {
          "output_type": "display_data",
          "data": {
            "text/html": [
              "<span style=\"color:cyan\"> |-adam: adam</span>"
            ],
            "text/plain": [
              "<IPython.core.display.HTML object>"
            ]
          },
          "metadata": {
            "tags": []
          }
        },
        {
          "output_type": "display_data",
          "data": {
            "text/html": [
              "<span style=\"color:blue\"> |-optimizer: adam</span>"
            ],
            "text/plain": [
              "<IPython.core.display.HTML object>"
            ]
          },
          "metadata": {
            "tags": []
          }
        },
        {
          "output_type": "display_data",
          "data": {
            "text/html": [
              "<span style=\"color:cyan\"> |-units_hidden: 480</span>"
            ],
            "text/plain": [
              "<IPython.core.display.HTML object>"
            ]
          },
          "metadata": {
            "tags": []
          }
        },
        {
          "output_type": "display_data",
          "data": {
            "text/html": [
              "<span style=\"color:blue\"> |-units_input: 608</span>"
            ],
            "text/plain": [
              "<IPython.core.display.HTML object>"
            ]
          },
          "metadata": {
            "tags": []
          }
        },
        {
          "output_type": "display_data",
          "data": {
            "text/html": [
              "<span style=\"color:#4527A0\"><h1 style=\"font-size:18px\">Trial summary</h1></span>"
            ],
            "text/plain": [
              "<IPython.core.display.HTML object>"
            ]
          },
          "metadata": {
            "tags": []
          }
        },
        {
          "output_type": "display_data",
          "data": {
            "text/html": [
              "<span style=\"color:cyan\"> |-Trial ID: c68a138dd729705625e0ca606a7a59b4</span>"
            ],
            "text/plain": [
              "<IPython.core.display.HTML object>"
            ]
          },
          "metadata": {
            "tags": []
          }
        },
        {
          "output_type": "display_data",
          "data": {
            "text/html": [
              "<span style=\"color:cyan\"> |-Score: 313675.96875</span>"
            ],
            "text/plain": [
              "<IPython.core.display.HTML object>"
            ]
          },
          "metadata": {
            "tags": []
          }
        },
        {
          "output_type": "display_data",
          "data": {
            "text/html": [
              "<span style=\"color:cyan\"> |-Best step: 0</span>"
            ],
            "text/plain": [
              "<IPython.core.display.HTML object>"
            ]
          },
          "metadata": {
            "tags": []
          }
        },
        {
          "output_type": "display_data",
          "data": {
            "text/html": [
              "<span style=\"color:#7E57C2\"><h2 style=\"font-size:16px\">Hyperparameters:</h2></span>"
            ],
            "text/plain": [
              "<IPython.core.display.HTML object>"
            ]
          },
          "metadata": {
            "tags": []
          }
        },
        {
          "output_type": "display_data",
          "data": {
            "text/html": [
              "<span style=\"color:cyan\"> |-adam: rmsprop</span>"
            ],
            "text/plain": [
              "<IPython.core.display.HTML object>"
            ]
          },
          "metadata": {
            "tags": []
          }
        },
        {
          "output_type": "display_data",
          "data": {
            "text/html": [
              "<span style=\"color:blue\"> |-optimizer: adam</span>"
            ],
            "text/plain": [
              "<IPython.core.display.HTML object>"
            ]
          },
          "metadata": {
            "tags": []
          }
        },
        {
          "output_type": "display_data",
          "data": {
            "text/html": [
              "<span style=\"color:cyan\"> |-units_hidden: 576</span>"
            ],
            "text/plain": [
              "<IPython.core.display.HTML object>"
            ]
          },
          "metadata": {
            "tags": []
          }
        },
        {
          "output_type": "display_data",
          "data": {
            "text/html": [
              "<span style=\"color:blue\"> |-units_input: 544</span>"
            ],
            "text/plain": [
              "<IPython.core.display.HTML object>"
            ]
          },
          "metadata": {
            "tags": []
          }
        }
      ]
    },
    {
      "cell_type": "code",
      "metadata": {
        "id": "wn4MbfDT_CRX",
        "colab_type": "code",
        "colab": {}
      },
      "source": [
        "models = tuner.get_best_models(num_models=3)"
      ],
      "execution_count": 0,
      "outputs": []
    },
    {
      "cell_type": "markdown",
      "metadata": {
        "id": "fQlthw6V8iUH",
        "colab_type": "text"
      },
      "source": [
        "### Результаты подбора параметров нейросети "
      ]
    },
    {
      "cell_type": "code",
      "metadata": {
        "id": "TSfwCb-7RVTr",
        "colab_type": "code",
        "outputId": "1d1d87d1-13c8-4f5c-db1d-4ccb5fce8af7",
        "colab": {
          "base_uri": "https://localhost:8080/",
          "height": 833
        }
      },
      "source": [
        "for model in models:\n",
        "  model.summary()\n",
        "  model.evaluate(X_test, Y_test)\n",
        "  print() "
      ],
      "execution_count": 0,
      "outputs": [
        {
          "output_type": "stream",
          "text": [
            "Model: \"sequential\"\n",
            "_________________________________________________________________\n",
            "Layer (type)                 Output Shape              Param #   \n",
            "=================================================================\n",
            "dense (Dense)                (None, 928)               48256     \n",
            "_________________________________________________________________\n",
            "dense_1 (Dense)              (None, 384)               356736    \n",
            "_________________________________________________________________\n",
            "dense_2 (Dense)              (None, 1)                 385       \n",
            "=================================================================\n",
            "Total params: 405,377\n",
            "Trainable params: 405,377\n",
            "Non-trainable params: 0\n",
            "_________________________________________________________________\n",
            "176/176 [==============================] - 0s 2ms/step - loss: 591364292608.0000 - mae: 252753.5625\n",
            "\n",
            "Model: \"sequential\"\n",
            "_________________________________________________________________\n",
            "Layer (type)                 Output Shape              Param #   \n",
            "=================================================================\n",
            "dense (Dense)                (None, 640)               33280     \n",
            "_________________________________________________________________\n",
            "dense_1 (Dense)              (None, 256)               164096    \n",
            "_________________________________________________________________\n",
            "dense_2 (Dense)              (None, 1)                 257       \n",
            "=================================================================\n",
            "Total params: 197,633\n",
            "Trainable params: 197,633\n",
            "Non-trainable params: 0\n",
            "_________________________________________________________________\n",
            "176/176 [==============================] - 0s 2ms/step - loss: 681371369472.0000 - mae: 278798.5312\n",
            "\n",
            "Model: \"sequential\"\n",
            "_________________________________________________________________\n",
            "Layer (type)                 Output Shape              Param #   \n",
            "=================================================================\n",
            "dense (Dense)                (None, 928)               48256     \n",
            "_________________________________________________________________\n",
            "dense_1 (Dense)              (None, 480)               445920    \n",
            "_________________________________________________________________\n",
            "dense_2 (Dense)              (None, 1)                 481       \n",
            "=================================================================\n",
            "Total params: 494,657\n",
            "Trainable params: 494,657\n",
            "Non-trainable params: 0\n",
            "_________________________________________________________________\n",
            "176/176 [==============================] - 0s 2ms/step - loss: 697227870208.0000 - mae: 288531.7500\n",
            "\n"
          ],
          "name": "stdout"
        }
      ]
    },
    {
      "cell_type": "code",
      "metadata": {
        "id": "SjkV6xoAReS1",
        "colab_type": "code",
        "colab": {}
      },
      "source": [
        ""
      ],
      "execution_count": 0,
      "outputs": []
    },
    {
      "cell_type": "code",
      "metadata": {
        "id": "5yBJrDnMRcuo",
        "colab_type": "code",
        "colab": {}
      },
      "source": [
        "#архитектура нейронной сети\n",
        "model = keras.Sequential()\n",
        "\n",
        "model.add(keras.layers.Dense(928, activation = 'relu', input_shape = (X_train.shape[1],)))\n",
        "model.add(keras.layers.Dense(384, activation = 'relu'))\n",
        "model.add(keras.layers.Dense(1))\n",
        "\n",
        "model.compile(optimizer='adam', loss='mse', metrics=['mae'])"
      ],
      "execution_count": 0,
      "outputs": []
    },
    {
      "cell_type": "code",
      "metadata": {
        "id": "fdrxUlr-7fmE",
        "colab_type": "code",
        "outputId": "3bd8d4a4-2e53-4c2f-a534-b15fe22152c2",
        "colab": {
          "base_uri": "https://localhost:8080/",
          "height": 395
        }
      },
      "source": [
        "history = model.fit(X_train, Y_train, batch_size = 10, epochs=100)"
      ],
      "execution_count": 0,
      "outputs": [
        {
          "output_type": "stream",
          "text": [
            "Epoch 1/100\n",
            "2250/2250 [==============================] - 10s 5ms/step - loss: 1036375359488.0000 - mae: 458987.2500\n",
            "Epoch 2/100\n",
            " 983/2250 [============>.................] - ETA: 5s - loss: 882376048640.0000 - mae: 421284.9688"
          ],
          "name": "stdout"
        },
        {
          "output_type": "error",
          "ename": "KeyboardInterrupt",
          "evalue": "ignored",
          "traceback": [
            "\u001b[0;31m---------------------------------------------------------------------------\u001b[0m",
            "\u001b[0;31mKeyboardInterrupt\u001b[0m                         Traceback (most recent call last)",
            "\u001b[0;32m<ipython-input-28-cceb1a85b839>\u001b[0m in \u001b[0;36m<module>\u001b[0;34m()\u001b[0m\n\u001b[0;32m----> 1\u001b[0;31m \u001b[0mhistory\u001b[0m \u001b[0;34m=\u001b[0m \u001b[0mmodel\u001b[0m\u001b[0;34m.\u001b[0m\u001b[0mfit\u001b[0m\u001b[0;34m(\u001b[0m\u001b[0mX_train\u001b[0m\u001b[0;34m,\u001b[0m \u001b[0mY_train\u001b[0m\u001b[0;34m,\u001b[0m \u001b[0mbatch_size\u001b[0m \u001b[0;34m=\u001b[0m \u001b[0;36m10\u001b[0m\u001b[0;34m,\u001b[0m \u001b[0mepochs\u001b[0m\u001b[0;34m=\u001b[0m\u001b[0;36m100\u001b[0m\u001b[0;34m)\u001b[0m\u001b[0;34m\u001b[0m\u001b[0;34m\u001b[0m\u001b[0m\n\u001b[0m",
            "\u001b[0;32m/usr/local/lib/python3.6/dist-packages/tensorflow/python/keras/engine/training.py\u001b[0m in \u001b[0;36m_method_wrapper\u001b[0;34m(self, *args, **kwargs)\u001b[0m\n\u001b[1;32m     64\u001b[0m   \u001b[0;32mdef\u001b[0m \u001b[0m_method_wrapper\u001b[0m\u001b[0;34m(\u001b[0m\u001b[0mself\u001b[0m\u001b[0;34m,\u001b[0m \u001b[0;34m*\u001b[0m\u001b[0margs\u001b[0m\u001b[0;34m,\u001b[0m \u001b[0;34m**\u001b[0m\u001b[0mkwargs\u001b[0m\u001b[0;34m)\u001b[0m\u001b[0;34m:\u001b[0m\u001b[0;34m\u001b[0m\u001b[0;34m\u001b[0m\u001b[0m\n\u001b[1;32m     65\u001b[0m     \u001b[0;32mif\u001b[0m \u001b[0;32mnot\u001b[0m \u001b[0mself\u001b[0m\u001b[0;34m.\u001b[0m\u001b[0m_in_multi_worker_mode\u001b[0m\u001b[0;34m(\u001b[0m\u001b[0;34m)\u001b[0m\u001b[0;34m:\u001b[0m  \u001b[0;31m# pylint: disable=protected-access\u001b[0m\u001b[0;34m\u001b[0m\u001b[0;34m\u001b[0m\u001b[0m\n\u001b[0;32m---> 66\u001b[0;31m       \u001b[0;32mreturn\u001b[0m \u001b[0mmethod\u001b[0m\u001b[0;34m(\u001b[0m\u001b[0mself\u001b[0m\u001b[0;34m,\u001b[0m \u001b[0;34m*\u001b[0m\u001b[0margs\u001b[0m\u001b[0;34m,\u001b[0m \u001b[0;34m**\u001b[0m\u001b[0mkwargs\u001b[0m\u001b[0;34m)\u001b[0m\u001b[0;34m\u001b[0m\u001b[0;34m\u001b[0m\u001b[0m\n\u001b[0m\u001b[1;32m     67\u001b[0m \u001b[0;34m\u001b[0m\u001b[0m\n\u001b[1;32m     68\u001b[0m     \u001b[0;31m# Running inside `run_distribute_coordinator` already.\u001b[0m\u001b[0;34m\u001b[0m\u001b[0;34m\u001b[0m\u001b[0;34m\u001b[0m\u001b[0m\n",
            "\u001b[0;32m/usr/local/lib/python3.6/dist-packages/tensorflow/python/keras/engine/training.py\u001b[0m in \u001b[0;36mfit\u001b[0;34m(self, x, y, batch_size, epochs, verbose, callbacks, validation_split, validation_data, shuffle, class_weight, sample_weight, initial_epoch, steps_per_epoch, validation_steps, validation_batch_size, validation_freq, max_queue_size, workers, use_multiprocessing)\u001b[0m\n\u001b[1;32m    846\u001b[0m                 batch_size=batch_size):\n\u001b[1;32m    847\u001b[0m               \u001b[0mcallbacks\u001b[0m\u001b[0;34m.\u001b[0m\u001b[0mon_train_batch_begin\u001b[0m\u001b[0;34m(\u001b[0m\u001b[0mstep\u001b[0m\u001b[0;34m)\u001b[0m\u001b[0;34m\u001b[0m\u001b[0;34m\u001b[0m\u001b[0m\n\u001b[0;32m--> 848\u001b[0;31m               \u001b[0mtmp_logs\u001b[0m \u001b[0;34m=\u001b[0m \u001b[0mtrain_function\u001b[0m\u001b[0;34m(\u001b[0m\u001b[0miterator\u001b[0m\u001b[0;34m)\u001b[0m\u001b[0;34m\u001b[0m\u001b[0;34m\u001b[0m\u001b[0m\n\u001b[0m\u001b[1;32m    849\u001b[0m               \u001b[0;31m# Catch OutOfRangeError for Datasets of unknown size.\u001b[0m\u001b[0;34m\u001b[0m\u001b[0;34m\u001b[0m\u001b[0;34m\u001b[0m\u001b[0m\n\u001b[1;32m    850\u001b[0m               \u001b[0;31m# This blocks until the batch has finished executing.\u001b[0m\u001b[0;34m\u001b[0m\u001b[0;34m\u001b[0m\u001b[0;34m\u001b[0m\u001b[0m\n",
            "\u001b[0;32m/usr/local/lib/python3.6/dist-packages/tensorflow/python/eager/def_function.py\u001b[0m in \u001b[0;36m__call__\u001b[0;34m(self, *args, **kwds)\u001b[0m\n\u001b[1;32m    578\u001b[0m         \u001b[0mxla_context\u001b[0m\u001b[0;34m.\u001b[0m\u001b[0mExit\u001b[0m\u001b[0;34m(\u001b[0m\u001b[0;34m)\u001b[0m\u001b[0;34m\u001b[0m\u001b[0;34m\u001b[0m\u001b[0m\n\u001b[1;32m    579\u001b[0m     \u001b[0;32melse\u001b[0m\u001b[0;34m:\u001b[0m\u001b[0;34m\u001b[0m\u001b[0;34m\u001b[0m\u001b[0m\n\u001b[0;32m--> 580\u001b[0;31m       \u001b[0mresult\u001b[0m \u001b[0;34m=\u001b[0m \u001b[0mself\u001b[0m\u001b[0;34m.\u001b[0m\u001b[0m_call\u001b[0m\u001b[0;34m(\u001b[0m\u001b[0;34m*\u001b[0m\u001b[0margs\u001b[0m\u001b[0;34m,\u001b[0m \u001b[0;34m**\u001b[0m\u001b[0mkwds\u001b[0m\u001b[0;34m)\u001b[0m\u001b[0;34m\u001b[0m\u001b[0;34m\u001b[0m\u001b[0m\n\u001b[0m\u001b[1;32m    581\u001b[0m \u001b[0;34m\u001b[0m\u001b[0m\n\u001b[1;32m    582\u001b[0m     \u001b[0;32mif\u001b[0m \u001b[0mtracing_count\u001b[0m \u001b[0;34m==\u001b[0m \u001b[0mself\u001b[0m\u001b[0;34m.\u001b[0m\u001b[0m_get_tracing_count\u001b[0m\u001b[0;34m(\u001b[0m\u001b[0;34m)\u001b[0m\u001b[0;34m:\u001b[0m\u001b[0;34m\u001b[0m\u001b[0;34m\u001b[0m\u001b[0m\n",
            "\u001b[0;32m/usr/local/lib/python3.6/dist-packages/tensorflow/python/eager/def_function.py\u001b[0m in \u001b[0;36m_call\u001b[0;34m(self, *args, **kwds)\u001b[0m\n\u001b[1;32m    609\u001b[0m       \u001b[0;31m# In this case we have created variables on the first call, so we run the\u001b[0m\u001b[0;34m\u001b[0m\u001b[0;34m\u001b[0m\u001b[0;34m\u001b[0m\u001b[0m\n\u001b[1;32m    610\u001b[0m       \u001b[0;31m# defunned version which is guaranteed to never create variables.\u001b[0m\u001b[0;34m\u001b[0m\u001b[0;34m\u001b[0m\u001b[0;34m\u001b[0m\u001b[0m\n\u001b[0;32m--> 611\u001b[0;31m       \u001b[0;32mreturn\u001b[0m \u001b[0mself\u001b[0m\u001b[0;34m.\u001b[0m\u001b[0m_stateless_fn\u001b[0m\u001b[0;34m(\u001b[0m\u001b[0;34m*\u001b[0m\u001b[0margs\u001b[0m\u001b[0;34m,\u001b[0m \u001b[0;34m**\u001b[0m\u001b[0mkwds\u001b[0m\u001b[0;34m)\u001b[0m  \u001b[0;31m# pylint: disable=not-callable\u001b[0m\u001b[0;34m\u001b[0m\u001b[0;34m\u001b[0m\u001b[0m\n\u001b[0m\u001b[1;32m    612\u001b[0m     \u001b[0;32melif\u001b[0m \u001b[0mself\u001b[0m\u001b[0;34m.\u001b[0m\u001b[0m_stateful_fn\u001b[0m \u001b[0;32mis\u001b[0m \u001b[0;32mnot\u001b[0m \u001b[0;32mNone\u001b[0m\u001b[0;34m:\u001b[0m\u001b[0;34m\u001b[0m\u001b[0;34m\u001b[0m\u001b[0m\n\u001b[1;32m    613\u001b[0m       \u001b[0;31m# Release the lock early so that multiple threads can perform the call\u001b[0m\u001b[0;34m\u001b[0m\u001b[0;34m\u001b[0m\u001b[0;34m\u001b[0m\u001b[0m\n",
            "\u001b[0;32m/usr/local/lib/python3.6/dist-packages/tensorflow/python/eager/function.py\u001b[0m in \u001b[0;36m__call__\u001b[0;34m(self, *args, **kwargs)\u001b[0m\n\u001b[1;32m   2418\u001b[0m     \u001b[0;32mwith\u001b[0m \u001b[0mself\u001b[0m\u001b[0;34m.\u001b[0m\u001b[0m_lock\u001b[0m\u001b[0;34m:\u001b[0m\u001b[0;34m\u001b[0m\u001b[0;34m\u001b[0m\u001b[0m\n\u001b[1;32m   2419\u001b[0m       \u001b[0mgraph_function\u001b[0m\u001b[0;34m,\u001b[0m \u001b[0margs\u001b[0m\u001b[0;34m,\u001b[0m \u001b[0mkwargs\u001b[0m \u001b[0;34m=\u001b[0m \u001b[0mself\u001b[0m\u001b[0;34m.\u001b[0m\u001b[0m_maybe_define_function\u001b[0m\u001b[0;34m(\u001b[0m\u001b[0margs\u001b[0m\u001b[0;34m,\u001b[0m \u001b[0mkwargs\u001b[0m\u001b[0;34m)\u001b[0m\u001b[0;34m\u001b[0m\u001b[0;34m\u001b[0m\u001b[0m\n\u001b[0;32m-> 2420\u001b[0;31m     \u001b[0;32mreturn\u001b[0m \u001b[0mgraph_function\u001b[0m\u001b[0;34m.\u001b[0m\u001b[0m_filtered_call\u001b[0m\u001b[0;34m(\u001b[0m\u001b[0margs\u001b[0m\u001b[0;34m,\u001b[0m \u001b[0mkwargs\u001b[0m\u001b[0;34m)\u001b[0m  \u001b[0;31m# pylint: disable=protected-access\u001b[0m\u001b[0;34m\u001b[0m\u001b[0;34m\u001b[0m\u001b[0m\n\u001b[0m\u001b[1;32m   2421\u001b[0m \u001b[0;34m\u001b[0m\u001b[0m\n\u001b[1;32m   2422\u001b[0m   \u001b[0;34m@\u001b[0m\u001b[0mproperty\u001b[0m\u001b[0;34m\u001b[0m\u001b[0;34m\u001b[0m\u001b[0m\n",
            "\u001b[0;32m/usr/local/lib/python3.6/dist-packages/tensorflow/python/eager/function.py\u001b[0m in \u001b[0;36m_filtered_call\u001b[0;34m(self, args, kwargs)\u001b[0m\n\u001b[1;32m   1663\u001b[0m          if isinstance(t, (ops.Tensor,\n\u001b[1;32m   1664\u001b[0m                            resource_variable_ops.BaseResourceVariable))),\n\u001b[0;32m-> 1665\u001b[0;31m         self.captured_inputs)\n\u001b[0m\u001b[1;32m   1666\u001b[0m \u001b[0;34m\u001b[0m\u001b[0m\n\u001b[1;32m   1667\u001b[0m   \u001b[0;32mdef\u001b[0m \u001b[0m_call_flat\u001b[0m\u001b[0;34m(\u001b[0m\u001b[0mself\u001b[0m\u001b[0;34m,\u001b[0m \u001b[0margs\u001b[0m\u001b[0;34m,\u001b[0m \u001b[0mcaptured_inputs\u001b[0m\u001b[0;34m,\u001b[0m \u001b[0mcancellation_manager\u001b[0m\u001b[0;34m=\u001b[0m\u001b[0;32mNone\u001b[0m\u001b[0;34m)\u001b[0m\u001b[0;34m:\u001b[0m\u001b[0;34m\u001b[0m\u001b[0;34m\u001b[0m\u001b[0m\n",
            "\u001b[0;32m/usr/local/lib/python3.6/dist-packages/tensorflow/python/eager/function.py\u001b[0m in \u001b[0;36m_call_flat\u001b[0;34m(self, args, captured_inputs, cancellation_manager)\u001b[0m\n\u001b[1;32m   1744\u001b[0m       \u001b[0;31m# No tape is watching; skip to running the function.\u001b[0m\u001b[0;34m\u001b[0m\u001b[0;34m\u001b[0m\u001b[0;34m\u001b[0m\u001b[0m\n\u001b[1;32m   1745\u001b[0m       return self._build_call_outputs(self._inference_function.call(\n\u001b[0;32m-> 1746\u001b[0;31m           ctx, args, cancellation_manager=cancellation_manager))\n\u001b[0m\u001b[1;32m   1747\u001b[0m     forward_backward = self._select_forward_and_backward_functions(\n\u001b[1;32m   1748\u001b[0m         \u001b[0margs\u001b[0m\u001b[0;34m,\u001b[0m\u001b[0;34m\u001b[0m\u001b[0;34m\u001b[0m\u001b[0m\n",
            "\u001b[0;32m/usr/local/lib/python3.6/dist-packages/tensorflow/python/eager/function.py\u001b[0m in \u001b[0;36mcall\u001b[0;34m(self, ctx, args, cancellation_manager)\u001b[0m\n\u001b[1;32m    596\u001b[0m               \u001b[0minputs\u001b[0m\u001b[0;34m=\u001b[0m\u001b[0margs\u001b[0m\u001b[0;34m,\u001b[0m\u001b[0;34m\u001b[0m\u001b[0;34m\u001b[0m\u001b[0m\n\u001b[1;32m    597\u001b[0m               \u001b[0mattrs\u001b[0m\u001b[0;34m=\u001b[0m\u001b[0mattrs\u001b[0m\u001b[0;34m,\u001b[0m\u001b[0;34m\u001b[0m\u001b[0;34m\u001b[0m\u001b[0m\n\u001b[0;32m--> 598\u001b[0;31m               ctx=ctx)\n\u001b[0m\u001b[1;32m    599\u001b[0m         \u001b[0;32melse\u001b[0m\u001b[0;34m:\u001b[0m\u001b[0;34m\u001b[0m\u001b[0;34m\u001b[0m\u001b[0m\n\u001b[1;32m    600\u001b[0m           outputs = execute.execute_with_cancellation(\n",
            "\u001b[0;32m/usr/local/lib/python3.6/dist-packages/tensorflow/python/eager/execute.py\u001b[0m in \u001b[0;36mquick_execute\u001b[0;34m(op_name, num_outputs, inputs, attrs, ctx, name)\u001b[0m\n\u001b[1;32m     58\u001b[0m     \u001b[0mctx\u001b[0m\u001b[0;34m.\u001b[0m\u001b[0mensure_initialized\u001b[0m\u001b[0;34m(\u001b[0m\u001b[0;34m)\u001b[0m\u001b[0;34m\u001b[0m\u001b[0;34m\u001b[0m\u001b[0m\n\u001b[1;32m     59\u001b[0m     tensors = pywrap_tfe.TFE_Py_Execute(ctx._handle, device_name, op_name,\n\u001b[0;32m---> 60\u001b[0;31m                                         inputs, attrs, num_outputs)\n\u001b[0m\u001b[1;32m     61\u001b[0m   \u001b[0;32mexcept\u001b[0m \u001b[0mcore\u001b[0m\u001b[0;34m.\u001b[0m\u001b[0m_NotOkStatusException\u001b[0m \u001b[0;32mas\u001b[0m \u001b[0me\u001b[0m\u001b[0;34m:\u001b[0m\u001b[0;34m\u001b[0m\u001b[0;34m\u001b[0m\u001b[0m\n\u001b[1;32m     62\u001b[0m     \u001b[0;32mif\u001b[0m \u001b[0mname\u001b[0m \u001b[0;32mis\u001b[0m \u001b[0;32mnot\u001b[0m \u001b[0;32mNone\u001b[0m\u001b[0;34m:\u001b[0m\u001b[0;34m\u001b[0m\u001b[0;34m\u001b[0m\u001b[0m\n",
            "\u001b[0;31mKeyboardInterrupt\u001b[0m: "
          ]
        }
      ]
    },
    {
      "cell_type": "code",
      "metadata": {
        "id": "HKW5lJZngoyY",
        "colab_type": "code",
        "colab": {}
      },
      "source": [
        "model.evaluate(X_test, Y_test)"
      ],
      "execution_count": 0,
      "outputs": []
    },
    {
      "cell_type": "code",
      "metadata": {
        "id": "BLORCFxB1WC9",
        "colab_type": "code",
        "colab": {}
      },
      "source": [
        ""
      ],
      "execution_count": 0,
      "outputs": []
    },
    {
      "cell_type": "code",
      "metadata": {
        "id": "qkhBwRNngPJA",
        "colab_type": "code",
        "outputId": "3f7777f7-ebb6-4705-a8e9-f85577570112",
        "colab": {
          "base_uri": "https://localhost:8080/",
          "height": 1000
        }
      },
      "source": [
        "#кросс валидация\n",
        "from sklearn.model_selection import StratifiedKFold\n",
        "skf = StratifiedKFold(n_splits=10, shuffle=True)\n",
        "skf.get_n_splits(X_train, Y_train)\n",
        "print(skf)\n",
        "for train_index, test_index in skf.split(X_train, Y_train):\n",
        "  print(\"TRAIN:\", train_index, \"TEST:\", test_index)\n",
        "  X_train_skf, X_val_skf = X_train[train_index], X_train[test_index]\n",
        "  Y_train_skf, Y_val_skf = Y_train[train_index], Y_train[test_index]\n",
        "  history = model.fit(X_train_skf, Y_train_skf, validation_data=(X_val_skf, Y_val_skf), batch_size = 10, epochs=20)\n",
        "#     train_data = df[train]\n",
        "#     train_labels = labels[train]\n",
        "#     x_train = train_data[:int(-0.1*len(train))]\n",
        "#     y_train = train_labels[:int(-0.1*len(train))]\n",
        "#     x_val = train_data[int(-0.1*len(train)):]\n",
        "#     y_val = train_labels[int(-0.1*len(train)):]\n",
        "#     x_test = data[test]\n",
        "#     y_test = labels[test]\n",
        "#     model.fit(x_train, y_train, validation_data=(x_val, y_val), epochs=100, batch_size=500, callbacks=[early_stop, checkpoint])\n",
        "#     y_pred=loaded_model.predict(x_test, verbose=0) \n",
        "#     '''Loaded_model is the best model saved on the disk \n",
        "#     during the training process based on the validation dataset'''"
      ],
      "execution_count": 0,
      "outputs": [
        {
          "output_type": "stream",
          "text": [
            "2025/2025 [==============================] - 9s 5ms/step - loss: 823502569472.0000 - mae: 344709.9688 - val_loss: 1117713596416.0000 - val_mae: 357217.5000\n",
            "Epoch 4/20\n",
            "2025/2025 [==============================] - 9s 4ms/step - loss: 786366529536.0000 - mae: 331157.4375 - val_loss: 1078538600448.0000 - val_mae: 340941.6250\n",
            "Epoch 5/20\n",
            "2025/2025 [==============================] - 9s 4ms/step - loss: 753759420416.0000 - mae: 317373.6250 - val_loss: 1043088736256.0000 - val_mae: 328609.6875\n",
            "Epoch 6/20\n",
            "2025/2025 [==============================] - 9s 4ms/step - loss: 725074051072.0000 - mae: 306919.2812 - val_loss: 1006784020480.0000 - val_mae: 319355.8750\n",
            "Epoch 7/20\n",
            "2025/2025 [==============================] - 9s 4ms/step - loss: 697051840512.0000 - mae: 299904.6250 - val_loss: 979430539264.0000 - val_mae: 307400.2188\n",
            "Epoch 8/20\n",
            "2025/2025 [==============================] - 9s 5ms/step - loss: 672165003264.0000 - mae: 288410.9062 - val_loss: 942312980480.0000 - val_mae: 301946.4375\n",
            "Epoch 9/20\n",
            "2025/2025 [==============================] - 9s 5ms/step - loss: 647926906880.0000 - mae: 282143.7812 - val_loss: 917641887744.0000 - val_mae: 291977.5625\n",
            "Epoch 10/20\n",
            "2025/2025 [==============================] - 9s 4ms/step - loss: 624923181056.0000 - mae: 274550.5938 - val_loss: 885441429504.0000 - val_mae: 288558.1562\n",
            "Epoch 11/20\n",
            "2025/2025 [==============================] - 10s 5ms/step - loss: 604002254848.0000 - mae: 267470.4062 - val_loss: 860433088512.0000 - val_mae: 280950.0312\n",
            "Epoch 12/20\n",
            "2025/2025 [==============================] - 9s 5ms/step - loss: 584322842624.0000 - mae: 261221.5156 - val_loss: 830992547840.0000 - val_mae: 279166.2500\n",
            "Epoch 13/20\n",
            "2025/2025 [==============================] - 9s 4ms/step - loss: 567776247808.0000 - mae: 257825.0781 - val_loss: 820943323136.0000 - val_mae: 268892.3750\n",
            "Epoch 14/20\n",
            "2025/2025 [==============================] - 9s 5ms/step - loss: 550973538304.0000 - mae: 251530.0781 - val_loss: 802619654144.0000 - val_mae: 265029.3125\n",
            "Epoch 15/20\n",
            "2025/2025 [==============================] - 9s 5ms/step - loss: 536497651712.0000 - mae: 247186.7969 - val_loss: 769957822464.0000 - val_mae: 269021.2812\n",
            "Epoch 16/20\n",
            "2025/2025 [==============================] - 10s 5ms/step - loss: 523541577728.0000 - mae: 244022.7969 - val_loss: 758037479424.0000 - val_mae: 259686.4844\n",
            "Epoch 17/20\n",
            "2025/2025 [==============================] - 10s 5ms/step - loss: 507726397440.0000 - mae: 240803.9531 - val_loss: 751402024960.0000 - val_mae: 255784.5625\n",
            "Epoch 18/20\n",
            "2025/2025 [==============================] - 10s 5ms/step - loss: 495445671936.0000 - mae: 237523.7969 - val_loss: 724276281344.0000 - val_mae: 264860.0938\n",
            "Epoch 19/20\n",
            "2025/2025 [==============================] - 9s 4ms/step - loss: 483142729728.0000 - mae: 235706.5781 - val_loss: 704149061632.0000 - val_mae: 254198.0469\n",
            "Epoch 20/20\n",
            "2025/2025 [==============================] - 9s 4ms/step - loss: 471581196288.0000 - mae: 231873.7188 - val_loss: 699293827072.0000 - val_mae: 246111.4062\n",
            "TRAIN: [    0     1     3 ... 22493 22494 22495] TEST: [    2     6     7 ... 22467 22480 22487]\n",
            "Epoch 1/20\n",
            "2025/2025 [==============================] - 9s 4ms/step - loss: 471917068288.0000 - mae: 229570.2656 - val_loss: 590709850112.0000 - val_mae: 239546.8438\n",
            "Epoch 2/20\n",
            "2025/2025 [==============================] - 9s 5ms/step - loss: 460246712320.0000 - mae: 227958.6250 - val_loss: 583736229888.0000 - val_mae: 239181.1094\n",
            "Epoch 3/20\n",
            "2025/2025 [==============================] - 9s 5ms/step - loss: 450543616000.0000 - mae: 224932.1250 - val_loss: 573060939776.0000 - val_mae: 232936.6562\n",
            "Epoch 4/20\n",
            "2025/2025 [==============================] - 9s 5ms/step - loss: 440888393728.0000 - mae: 222031.8906 - val_loss: 560524427264.0000 - val_mae: 234567.1719\n",
            "Epoch 5/20\n",
            "2025/2025 [==============================] - 9s 5ms/step - loss: 429838598144.0000 - mae: 221739.3750 - val_loss: 553505456128.0000 - val_mae: 228950.3906\n",
            "Epoch 6/20\n",
            "2025/2025 [==============================] - 9s 4ms/step - loss: 421337792512.0000 - mae: 218174.5625 - val_loss: 541453811712.0000 - val_mae: 228133.2188\n",
            "Epoch 7/20\n",
            "2025/2025 [==============================] - 9s 4ms/step - loss: 411893891072.0000 - mae: 214986.3438 - val_loss: 531425624064.0000 - val_mae: 228547.7188\n",
            "Epoch 8/20\n",
            "2025/2025 [==============================] - 9s 4ms/step - loss: 401696555008.0000 - mae: 214230.0938 - val_loss: 522489757696.0000 - val_mae: 223797.9844\n",
            "Epoch 9/20\n",
            "2025/2025 [==============================] - 9s 4ms/step - loss: 394909220864.0000 - mae: 211380.0312 - val_loss: 515573350400.0000 - val_mae: 217432.1719\n",
            "Epoch 10/20\n",
            "2025/2025 [==============================] - 9s 4ms/step - loss: 384748191744.0000 - mae: 206965.5938 - val_loss: 527716417536.0000 - val_mae: 235512.3281\n",
            "Epoch 11/20\n",
            "2025/2025 [==============================] - 9s 5ms/step - loss: 381237493760.0000 - mae: 208263.3594 - val_loss: 487097303040.0000 - val_mae: 216317.3125\n",
            "Epoch 12/20\n",
            "2025/2025 [==============================] - 9s 5ms/step - loss: 372374011904.0000 - mae: 203993.3906 - val_loss: 480928923648.0000 - val_mae: 217052.2344\n",
            "Epoch 13/20\n",
            "2025/2025 [==============================] - 9s 5ms/step - loss: 363854757888.0000 - mae: 202406.5938 - val_loss: 474711523328.0000 - val_mae: 219307.0781\n",
            "Epoch 14/20\n",
            "2025/2025 [==============================] - 10s 5ms/step - loss: 355629006848.0000 - mae: 201281.0000 - val_loss: 461700136960.0000 - val_mae: 213926.9688\n",
            "Epoch 15/20\n",
            "2025/2025 [==============================] - 10s 5ms/step - loss: 348733767680.0000 - mae: 200004.6719 - val_loss: 450867757056.0000 - val_mae: 210321.4062\n",
            "Epoch 16/20\n",
            "2025/2025 [==============================] - 9s 5ms/step - loss: 337798430720.0000 - mae: 198219.7344 - val_loss: 443683209216.0000 - val_mae: 211374.3750\n",
            "Epoch 17/20\n",
            "2025/2025 [==============================] - 9s 5ms/step - loss: 329688088576.0000 - mae: 195954.1250 - val_loss: 430964637696.0000 - val_mae: 208280.7969\n",
            "Epoch 18/20\n",
            "2025/2025 [==============================] - 9s 5ms/step - loss: 319741132800.0000 - mae: 194560.9844 - val_loss: 423614742528.0000 - val_mae: 212628.1719\n",
            "Epoch 19/20\n",
            "2025/2025 [==============================] - 9s 5ms/step - loss: 311362813952.0000 - mae: 191885.2812 - val_loss: 404807811072.0000 - val_mae: 201709.5469\n",
            "Epoch 20/20\n",
            "2025/2025 [==============================] - 9s 5ms/step - loss: 302513225728.0000 - mae: 189242.5625 - val_loss: 415236390912.0000 - val_mae: 207717.4531\n",
            "TRAIN: [    0     1     2 ... 22493 22494 22495] TEST: [   18    27    32 ... 22473 22479 22491]\n",
            "Epoch 1/20\n",
            "2025/2025 [==============================] - 9s 5ms/step - loss: 308037615616.0000 - mae: 190309.7812 - val_loss: 308806254592.0000 - val_mae: 186798.3594\n",
            "Epoch 2/20\n",
            "2025/2025 [==============================] - 9s 4ms/step - loss: 300503236608.0000 - mae: 187399.4062 - val_loss: 291214721024.0000 - val_mae: 188096.4375\n",
            "Epoch 3/20\n",
            "2025/2025 [==============================] - 9s 4ms/step - loss: 293050646528.0000 - mae: 186023.5156 - val_loss: 280601853952.0000 - val_mae: 183526.6719\n",
            "Epoch 4/20\n",
            "2025/2025 [==============================] - 10s 5ms/step - loss: 286955798528.0000 - mae: 183033.7969 - val_loss: 280743673856.0000 - val_mae: 191618.1094\n",
            "Epoch 5/20\n",
            "2025/2025 [==============================] - 10s 5ms/step - loss: 279468179456.0000 - mae: 183071.8125 - val_loss: 282792656896.0000 - val_mae: 182711.2188\n",
            "Epoch 6/20\n",
            "2025/2025 [==============================] - 9s 5ms/step - loss: 275502301184.0000 - mae: 180027.8594 - val_loss: 260476469248.0000 - val_mae: 180229.2500\n",
            "Epoch 7/20\n",
            "2025/2025 [==============================] - 9s 4ms/step - loss: 270455390208.0000 - mae: 178491.9219 - val_loss: 253099622400.0000 - val_mae: 179653.0156\n",
            "Epoch 8/20\n",
            "2025/2025 [==============================] - 9s 5ms/step - loss: 262456983552.0000 - mae: 177615.1875 - val_loss: 246807085056.0000 - val_mae: 177795.8281\n",
            "Epoch 9/20\n",
            "2025/2025 [==============================] - 9s 4ms/step - loss: 256593739776.0000 - mae: 175477.1250 - val_loss: 243511738368.0000 - val_mae: 175857.3594\n",
            "Epoch 10/20\n",
            "2025/2025 [==============================] - 9s 5ms/step - loss: 252353085440.0000 - mae: 172688.3281 - val_loss: 234089693184.0000 - val_mae: 174010.0469\n",
            "Epoch 11/20\n",
            "2025/2025 [==============================] - 9s 5ms/step - loss: 247592321024.0000 - mae: 172297.9375 - val_loss: 231666024448.0000 - val_mae: 176171.6094\n",
            "Epoch 12/20\n",
            "2025/2025 [==============================] - 9s 5ms/step - loss: 243143049216.0000 - mae: 170276.1094 - val_loss: 222497357824.0000 - val_mae: 171788.1094\n",
            "Epoch 13/20\n",
            "2025/2025 [==============================] - 9s 5ms/step - loss: 237299695616.0000 - mae: 168203.6562 - val_loss: 230100434944.0000 - val_mae: 176502.7188\n",
            "Epoch 14/20\n",
            "2025/2025 [==============================] - 9s 5ms/step - loss: 232129429504.0000 - mae: 167511.7344 - val_loss: 215721230336.0000 - val_mae: 166902.7344\n",
            "Epoch 15/20\n",
            "2025/2025 [==============================] - 9s 5ms/step - loss: 228213096448.0000 - mae: 165856.8750 - val_loss: 215536566272.0000 - val_mae: 165205.7031\n",
            "Epoch 16/20\n",
            "2025/2025 [==============================] - 9s 5ms/step - loss: 225090404352.0000 - mae: 164362.1719 - val_loss: 207807987712.0000 - val_mae: 167107.2969\n",
            "Epoch 17/20\n",
            "2025/2025 [==============================] - 9s 4ms/step - loss: 218964180992.0000 - mae: 162788.8438 - val_loss: 208379674624.0000 - val_mae: 163631.6094\n",
            "Epoch 18/20\n",
            "2025/2025 [==============================] - 9s 5ms/step - loss: 217561694208.0000 - mae: 161979.9531 - val_loss: 197389434880.0000 - val_mae: 160151.1719\n",
            "Epoch 19/20\n",
            "2025/2025 [==============================] - 11s 5ms/step - loss: 210559975424.0000 - mae: 160492.4844 - val_loss: 194229420032.0000 - val_mae: 159396.2969\n",
            "Epoch 20/20\n",
            "2025/2025 [==============================] - 11s 5ms/step - loss: 208732061696.0000 - mae: 159877.2656 - val_loss: 192021348352.0000 - val_mae: 157659.9688\n",
            "TRAIN: [    0     1     2 ... 22493 22494 22495] TEST: [    3     9    10 ... 22471 22472 22481]\n",
            "Epoch 1/20\n",
            "2025/2025 [==============================] - 11s 5ms/step - loss: 210096144384.0000 - mae: 159093.0938 - val_loss: 135694245888.0000 - val_mae: 151679.3750\n",
            "Epoch 2/20\n",
            "2025/2025 [==============================] - 11s 5ms/step - loss: 208682434560.0000 - mae: 158490.0156 - val_loss: 133196480512.0000 - val_mae: 148120.2188\n",
            "Epoch 3/20\n",
            "2025/2025 [==============================] - 11s 5ms/step - loss: 202334535680.0000 - mae: 156708.6719 - val_loss: 132078223360.0000 - val_mae: 149585.0312\n",
            "Epoch 4/20\n",
            "2025/2025 [==============================] - 11s 5ms/step - loss: 201546153984.0000 - mae: 156143.5625 - val_loss: 122008846336.0000 - val_mae: 140087.3281\n",
            "Epoch 5/20\n",
            "2025/2025 [==============================] - 11s 5ms/step - loss: 198497501184.0000 - mae: 154548.7969 - val_loss: 121579397120.0000 - val_mae: 142627.6562\n",
            "Epoch 6/20\n",
            "2025/2025 [==============================] - 11s 5ms/step - loss: 195615965184.0000 - mae: 153310.2656 - val_loss: 120880300032.0000 - val_mae: 144861.8438\n",
            "Epoch 7/20\n",
            "2025/2025 [==============================] - 11s 5ms/step - loss: 186189119488.0000 - mae: 151486.0312 - val_loss: 152817483776.0000 - val_mae: 157019.5156\n",
            "Epoch 8/20\n",
            "2025/2025 [==============================] - 11s 5ms/step - loss: 188209758208.0000 - mae: 151432.3906 - val_loss: 118971039744.0000 - val_mae: 143118.3438\n",
            "Epoch 9/20\n",
            "2025/2025 [==============================] - 11s 5ms/step - loss: 185092112384.0000 - mae: 150152.3906 - val_loss: 112294412288.0000 - val_mae: 139071.0156\n",
            "Epoch 10/20\n",
            "2025/2025 [==============================] - 11s 5ms/step - loss: 181011234816.0000 - mae: 149451.1094 - val_loss: 108126502912.0000 - val_mae: 135681.1094\n",
            "Epoch 11/20\n",
            "2025/2025 [==============================] - 11s 5ms/step - loss: 180015824896.0000 - mae: 147204.5000 - val_loss: 109359915008.0000 - val_mae: 138889.2031\n",
            "Epoch 12/20\n",
            "2025/2025 [==============================] - 11s 5ms/step - loss: 175122726912.0000 - mae: 148099.2656 - val_loss: 110384209920.0000 - val_mae: 139053.7344\n",
            "Epoch 13/20\n",
            "2025/2025 [==============================] - 11s 5ms/step - loss: 172196446208.0000 - mae: 146285.5312 - val_loss: 103375183872.0000 - val_mae: 135032.6719\n",
            "Epoch 14/20\n",
            "2025/2025 [==============================] - 11s 5ms/step - loss: 169054044160.0000 - mae: 146248.4688 - val_loss: 99960487936.0000 - val_mae: 134460.2969\n",
            "Epoch 15/20\n",
            "2025/2025 [==============================] - 11s 6ms/step - loss: 167992393728.0000 - mae: 144092.5938 - val_loss: 101096579072.0000 - val_mae: 134626.8438\n",
            "Epoch 16/20\n",
            "2025/2025 [==============================] - 11s 6ms/step - loss: 164301946880.0000 - mae: 143360.0000 - val_loss: 113184374784.0000 - val_mae: 143649.8125\n",
            "Epoch 17/20\n",
            "2025/2025 [==============================] - 11s 5ms/step - loss: 159119212544.0000 - mae: 142148.3750 - val_loss: 99200057344.0000 - val_mae: 132520.2500\n",
            "Epoch 18/20\n",
            "2025/2025 [==============================] - 10s 5ms/step - loss: 158202445824.0000 - mae: 140848.0938 - val_loss: 93487915008.0000 - val_mae: 131274.8438\n",
            "Epoch 19/20\n",
            "2025/2025 [==============================] - 11s 5ms/step - loss: 154129547264.0000 - mae: 140751.3594 - val_loss: 94261338112.0000 - val_mae: 132975.5938\n",
            "Epoch 20/20\n",
            "2025/2025 [==============================] - 11s 5ms/step - loss: 150890086400.0000 - mae: 139662.1875 - val_loss: 91549368320.0000 - val_mae: 128356.0703\n",
            "TRAIN: [    1     2     3 ... 22493 22494 22495] TEST: [    0     4     8 ... 22407 22412 22445]\n",
            "Epoch 1/20\n",
            "2025/2025 [==============================] - 11s 5ms/step - loss: 148110327808.0000 - mae: 139454.5625 - val_loss: 88144748544.0000 - val_mae: 127529.2031\n",
            "Epoch 2/20\n",
            "2025/2025 [==============================] - 11s 5ms/step - loss: 146005704704.0000 - mae: 137283.7812 - val_loss: 84327727104.0000 - val_mae: 127003.3203\n",
            "Epoch 3/20\n",
            "2025/2025 [==============================] - 11s 5ms/step - loss: 140451348480.0000 - mae: 136777.7812 - val_loss: 87169368064.0000 - val_mae: 128451.1172\n",
            "Epoch 4/20\n",
            "2025/2025 [==============================] - 11s 5ms/step - loss: 141259898880.0000 - mae: 135876.8594 - val_loss: 83515785216.0000 - val_mae: 126386.6484\n",
            "Epoch 5/20\n",
            "2025/2025 [==============================] - 11s 5ms/step - loss: 137272279040.0000 - mae: 135142.8906 - val_loss: 81463091200.0000 - val_mae: 125303.5938\n",
            "Epoch 6/20\n",
            "2025/2025 [==============================] - 11s 5ms/step - loss: 134958915584.0000 - mae: 134648.6406 - val_loss: 89523970048.0000 - val_mae: 129353.3984\n",
            "Epoch 7/20\n",
            "2025/2025 [==============================] - 11s 5ms/step - loss: 133492637696.0000 - mae: 133886.7656 - val_loss: 81583161344.0000 - val_mae: 126761.0469\n",
            "Epoch 8/20\n",
            "2025/2025 [==============================] - 11s 5ms/step - loss: 130529943552.0000 - mae: 132237.4219 - val_loss: 80214171648.0000 - val_mae: 126814.7344\n",
            "Epoch 9/20\n",
            "2025/2025 [==============================] - 11s 5ms/step - loss: 129508876288.0000 - mae: 131721.8281 - val_loss: 82194087936.0000 - val_mae: 126732.8438\n",
            "Epoch 10/20\n",
            "2025/2025 [==============================] - 11s 5ms/step - loss: 125740900352.0000 - mae: 131021.7266 - val_loss: 73358475264.0000 - val_mae: 122557.0391\n",
            "Epoch 11/20\n",
            "2025/2025 [==============================] - 11s 5ms/step - loss: 123270488064.0000 - mae: 129913.3359 - val_loss: 71225942016.0000 - val_mae: 121519.1875\n",
            "Epoch 12/20\n",
            "2025/2025 [==============================] - 11s 5ms/step - loss: 120888631296.0000 - mae: 129565.8438 - val_loss: 73746980864.0000 - val_mae: 122244.6797\n",
            "Epoch 13/20\n",
            "2025/2025 [==============================] - 11s 5ms/step - loss: 120284225536.0000 - mae: 128416.6094 - val_loss: 70994477056.0000 - val_mae: 121348.4766\n",
            "Epoch 14/20\n",
            "2025/2025 [==============================] - 10s 5ms/step - loss: 117378859008.0000 - mae: 126784.2578 - val_loss: 67138084864.0000 - val_mae: 120079.1172\n",
            "Epoch 15/20\n",
            "2025/2025 [==============================] - 10s 5ms/step - loss: 113389633536.0000 - mae: 126874.6172 - val_loss: 67599364096.0000 - val_mae: 118765.5938\n",
            "Epoch 16/20\n",
            "2025/2025 [==============================] - 11s 5ms/step - loss: 110895407104.0000 - mae: 125767.0859 - val_loss: 67901726720.0000 - val_mae: 119325.6562\n",
            "Epoch 17/20\n",
            "2025/2025 [==============================] - 11s 5ms/step - loss: 109643956224.0000 - mae: 124377.6016 - val_loss: 70290055168.0000 - val_mae: 119907.2109\n",
            "Epoch 18/20\n",
            "2025/2025 [==============================] - 11s 5ms/step - loss: 109328736256.0000 - mae: 123789.6562 - val_loss: 64195571712.0000 - val_mae: 118282.5938\n",
            "Epoch 19/20\n",
            "2025/2025 [==============================] - 11s 5ms/step - loss: 105592291328.0000 - mae: 122940.3672 - val_loss: 66445574144.0000 - val_mae: 120748.3750\n",
            "Epoch 20/20\n",
            "2025/2025 [==============================] - 11s 5ms/step - loss: 104770273280.0000 - mae: 122325.4375 - val_loss: 64761200640.0000 - val_mae: 117634.8906\n",
            "TRAIN: [    0     1     2 ... 22493 22494 22495] TEST: [   36    37    43 ... 22485 22486 22488]\n",
            "Epoch 1/20\n",
            "2025/2025 [==============================] - 11s 5ms/step - loss: 103445487616.0000 - mae: 121401.0547 - val_loss: 61951594496.0000 - val_mae: 116580.0938\n",
            "Epoch 2/20\n",
            "2025/2025 [==============================] - 10s 5ms/step - loss: 101838462976.0000 - mae: 120312.5391 - val_loss: 58071048192.0000 - val_mae: 113489.3438\n",
            "Epoch 3/20\n",
            "2025/2025 [==============================] - 11s 5ms/step - loss: 97602953216.0000 - mae: 119385.3203 - val_loss: 58062893056.0000 - val_mae: 114246.0703\n",
            "Epoch 4/20\n",
            "2025/2025 [==============================] - 11s 5ms/step - loss: 96309338112.0000 - mae: 118646.3516 - val_loss: 59719458816.0000 - val_mae: 113850.7031\n",
            "Epoch 5/20\n",
            "2025/2025 [==============================] - 11s 6ms/step - loss: 96323411968.0000 - mae: 118099.3281 - val_loss: 56920928256.0000 - val_mae: 112097.4688\n",
            "Epoch 6/20\n",
            "2025/2025 [==============================] - 11s 5ms/step - loss: 94756028416.0000 - mae: 117166.5938 - val_loss: 54186614784.0000 - val_mae: 110786.2422\n",
            "Epoch 7/20\n",
            "2025/2025 [==============================] - 11s 5ms/step - loss: 92355969024.0000 - mae: 116008.4219 - val_loss: 55582834688.0000 - val_mae: 110288.7578\n",
            "Epoch 8/20\n",
            "2025/2025 [==============================] - 11s 5ms/step - loss: 91421040640.0000 - mae: 114936.9688 - val_loss: 55630172160.0000 - val_mae: 110998.1484\n",
            "Epoch 9/20\n",
            "2025/2025 [==============================] - 11s 5ms/step - loss: 88900476928.0000 - mae: 114185.6719 - val_loss: 54415466496.0000 - val_mae: 109557.0547\n",
            "Epoch 10/20\n",
            "2025/2025 [==============================] - 9s 5ms/step - loss: 87685996544.0000 - mae: 113112.6406 - val_loss: 50118365184.0000 - val_mae: 107555.7500\n",
            "Epoch 11/20\n",
            "2025/2025 [==============================] - 9s 4ms/step - loss: 85300183040.0000 - mae: 112543.6328 - val_loss: 53033631744.0000 - val_mae: 108204.7188\n",
            "Epoch 12/20\n",
            "2025/2025 [==============================] - 9s 5ms/step - loss: 83711647744.0000 - mae: 111369.8125 - val_loss: 55147200512.0000 - val_mae: 107936.4844\n",
            "Epoch 13/20\n",
            "2025/2025 [==============================] - 9s 4ms/step - loss: 82220367872.0000 - mae: 110900.5625 - val_loss: 50704252928.0000 - val_mae: 107910.2266\n",
            "Epoch 14/20\n",
            "2025/2025 [==============================] - 9s 5ms/step - loss: 81776410624.0000 - mae: 109521.4453 - val_loss: 47490248704.0000 - val_mae: 104510.5781\n",
            "Epoch 15/20\n",
            "2025/2025 [==============================] - 9s 5ms/step - loss: 79953264640.0000 - mae: 109265.4688 - val_loss: 48849219584.0000 - val_mae: 105862.1328\n",
            "Epoch 16/20\n",
            "2025/2025 [==============================] - 9s 4ms/step - loss: 78935891968.0000 - mae: 108232.5000 - val_loss: 53053751296.0000 - val_mae: 108418.1094\n",
            "Epoch 17/20\n",
            "2025/2025 [==============================] - 9s 4ms/step - loss: 77692510208.0000 - mae: 107365.1016 - val_loss: 49476665344.0000 - val_mae: 106331.0156\n",
            "Epoch 18/20\n",
            "2025/2025 [==============================] - 9s 5ms/step - loss: 76853927936.0000 - mae: 106731.0234 - val_loss: 45684043776.0000 - val_mae: 104198.8672\n",
            "Epoch 19/20\n",
            "2025/2025 [==============================] - 9s 5ms/step - loss: 75371503616.0000 - mae: 105492.6250 - val_loss: 47425314816.0000 - val_mae: 105231.6406\n",
            "Epoch 20/20\n",
            "2025/2025 [==============================] - 9s 5ms/step - loss: 72354496512.0000 - mae: 104866.5547 - val_loss: 48122171392.0000 - val_mae: 104972.5547\n",
            "TRAIN: [    0     1     2 ... 22493 22494 22495] TEST: [   17    31    33 ... 22474 22478 22492]\n",
            "Epoch 1/20\n",
            "2025/2025 [==============================] - 9s 5ms/step - loss: 74005381120.0000 - mae: 106634.4375 - val_loss: 42342617088.0000 - val_mae: 98510.8984\n",
            "Epoch 2/20\n",
            "2025/2025 [==============================] - 9s 4ms/step - loss: 70636068864.0000 - mae: 104124.5781 - val_loss: 40593416192.0000 - val_mae: 98768.6172\n",
            "Epoch 3/20\n",
            "2025/2025 [==============================] - 9s 4ms/step - loss: 69007278080.0000 - mae: 104087.6250 - val_loss: 41474412544.0000 - val_mae: 99422.3516\n",
            "Epoch 4/20\n",
            "2025/2025 [==============================] - 9s 5ms/step - loss: 69055717376.0000 - mae: 103033.0938 - val_loss: 41758314496.0000 - val_mae: 98766.2578\n",
            "Epoch 5/20\n",
            "2025/2025 [==============================] - 9s 4ms/step - loss: 67403509760.0000 - mae: 101767.8125 - val_loss: 41349574656.0000 - val_mae: 99305.7109\n",
            "Epoch 6/20\n",
            "2025/2025 [==============================] - 9s 4ms/step - loss: 67245903872.0000 - mae: 101839.9141 - val_loss: 41963438080.0000 - val_mae: 98946.3281\n",
            "Epoch 7/20\n",
            "2025/2025 [==============================] - 9s 5ms/step - loss: 63391707136.0000 - mae: 100230.7891 - val_loss: 38386843648.0000 - val_mae: 95680.7578\n",
            "Epoch 8/20\n",
            "2025/2025 [==============================] - 9s 5ms/step - loss: 63948148736.0000 - mae: 100236.8359 - val_loss: 38231838720.0000 - val_mae: 95730.7578\n",
            "Epoch 9/20\n",
            "2025/2025 [==============================] - 9s 5ms/step - loss: 62378872832.0000 - mae: 99325.2266 - val_loss: 36906352640.0000 - val_mae: 93320.5391\n",
            "Epoch 10/20\n",
            "2025/2025 [==============================] - 9s 5ms/step - loss: 61306327040.0000 - mae: 98132.5312 - val_loss: 53787754496.0000 - val_mae: 114673.6953\n",
            "Epoch 11/20\n",
            "2025/2025 [==============================] - 9s 5ms/step - loss: 60346589184.0000 - mae: 97397.8047 - val_loss: 40715489280.0000 - val_mae: 94366.6094\n",
            "Epoch 12/20\n",
            "2025/2025 [==============================] - 10s 5ms/step - loss: 58421993472.0000 - mae: 96374.8750 - val_loss: 54146260992.0000 - val_mae: 110775.7578\n",
            "Epoch 13/20\n",
            "2025/2025 [==============================] - 10s 5ms/step - loss: 59406868480.0000 - mae: 96752.1484 - val_loss: 35474489344.0000 - val_mae: 92167.6094\n",
            "Epoch 14/20\n",
            "2025/2025 [==============================] - 10s 5ms/step - loss: 57212039168.0000 - mae: 95191.8438 - val_loss: 37407047680.0000 - val_mae: 94890.9844\n",
            "Epoch 15/20\n",
            "2025/2025 [==============================] - 10s 5ms/step - loss: 56555487232.0000 - mae: 94998.1250 - val_loss: 36696260608.0000 - val_mae: 93103.9688\n",
            "Epoch 16/20\n",
            "2025/2025 [==============================] - 10s 5ms/step - loss: 53654634496.0000 - mae: 94061.2344 - val_loss: 37292953600.0000 - val_mae: 94111.1094\n",
            "Epoch 17/20\n",
            "2025/2025 [==============================] - 11s 5ms/step - loss: 54218424320.0000 - mae: 93726.1328 - val_loss: 34350469120.0000 - val_mae: 90557.2812\n",
            "Epoch 18/20\n",
            "2025/2025 [==============================] - 10s 5ms/step - loss: 54268641280.0000 - mae: 92916.7891 - val_loss: 34279350272.0000 - val_mae: 91218.0156\n",
            "Epoch 19/20\n",
            "2025/2025 [==============================] - 12s 6ms/step - loss: 51563786240.0000 - mae: 92072.7109 - val_loss: 34200641536.0000 - val_mae: 91186.9688\n",
            "Epoch 20/20\n",
            "2025/2025 [==============================] - 12s 6ms/step - loss: 51845455872.0000 - mae: 91979.1328 - val_loss: 35517984768.0000 - val_mae: 89659.7500\n",
            "TRAIN: [    0     1     2 ... 22492 22493 22495] TEST: [    5    16    23 ... 22462 22470 22494]\n",
            "Epoch 1/20\n",
            "2025/2025 [==============================] - 10s 5ms/step - loss: 49840295936.0000 - mae: 91214.6562 - val_loss: 37114609664.0000 - val_mae: 86453.4688\n",
            "Epoch 2/20\n",
            "2025/2025 [==============================] - 10s 5ms/step - loss: 49491648512.0000 - mae: 90620.3984 - val_loss: 36295233536.0000 - val_mae: 88581.7969\n",
            "Epoch 3/20\n",
            "2025/2025 [==============================] - 10s 5ms/step - loss: 49624313856.0000 - mae: 89584.8438 - val_loss: 38055833600.0000 - val_mae: 88638.8203\n",
            "Epoch 4/20\n",
            "2025/2025 [==============================] - 10s 5ms/step - loss: 47967866880.0000 - mae: 89261.9375 - val_loss: 37098459136.0000 - val_mae: 89161.2734\n",
            "Epoch 5/20\n",
            "2025/2025 [==============================] - 10s 5ms/step - loss: 47041310720.0000 - mae: 88450.4688 - val_loss: 37109379072.0000 - val_mae: 86669.5156\n",
            "Epoch 6/20\n",
            "2025/2025 [==============================] - 10s 5ms/step - loss: 46775205888.0000 - mae: 88021.5000 - val_loss: 33408796672.0000 - val_mae: 84463.0000\n",
            "Epoch 7/20\n",
            "2025/2025 [==============================] - 10s 5ms/step - loss: 44576219136.0000 - mae: 87225.0234 - val_loss: 37794713600.0000 - val_mae: 85692.5469\n",
            "Epoch 8/20\n",
            "2025/2025 [==============================] - 10s 5ms/step - loss: 43753168896.0000 - mae: 86160.7188 - val_loss: 39411343360.0000 - val_mae: 89831.2734\n",
            "Epoch 9/20\n",
            "2025/2025 [==============================] - 10s 5ms/step - loss: 43434434560.0000 - mae: 86049.8984 - val_loss: 33501247488.0000 - val_mae: 84043.7500\n",
            "Epoch 10/20\n",
            "2025/2025 [==============================] - 10s 5ms/step - loss: 43465498624.0000 - mae: 86001.1953 - val_loss: 31305150464.0000 - val_mae: 82553.0859\n",
            "Epoch 11/20\n",
            "2025/2025 [==============================] - 10s 5ms/step - loss: 42193047552.0000 - mae: 85136.2969 - val_loss: 37742256128.0000 - val_mae: 86182.0547\n",
            "Epoch 12/20\n",
            "2025/2025 [==============================] - 10s 5ms/step - loss: 39920734208.0000 - mae: 83492.0078 - val_loss: 68484014080.0000 - val_mae: 120799.4844\n",
            "Epoch 13/20\n",
            "2025/2025 [==============================] - 10s 5ms/step - loss: 41440911360.0000 - mae: 84433.9141 - val_loss: 29765693440.0000 - val_mae: 80787.8906\n",
            "Epoch 14/20\n",
            "2025/2025 [==============================] - 10s 5ms/step - loss: 40617828352.0000 - mae: 83551.0234 - val_loss: 30707705856.0000 - val_mae: 82315.7969\n",
            "Epoch 15/20\n",
            "2025/2025 [==============================] - 10s 5ms/step - loss: 40044294144.0000 - mae: 82539.8750 - val_loss: 30315773952.0000 - val_mae: 81117.3359\n",
            "Epoch 16/20\n",
            "2025/2025 [==============================] - 10s 5ms/step - loss: 37618913280.0000 - mae: 80886.6719 - val_loss: 43476045824.0000 - val_mae: 96073.9688\n",
            "Epoch 17/20\n",
            "2025/2025 [==============================] - 10s 5ms/step - loss: 38395363328.0000 - mae: 82212.6484 - val_loss: 28598882304.0000 - val_mae: 78267.6719\n",
            "Epoch 18/20\n",
            "2025/2025 [==============================] - 10s 5ms/step - loss: 37794004992.0000 - mae: 80738.6250 - val_loss: 31642105856.0000 - val_mae: 81730.8281\n",
            "Epoch 19/20\n",
            "2025/2025 [==============================] - 10s 5ms/step - loss: 37103218688.0000 - mae: 80637.2969 - val_loss: 30027767808.0000 - val_mae: 79166.3672\n",
            "Epoch 20/20\n",
            "2025/2025 [==============================] - 10s 5ms/step - loss: 36974895104.0000 - mae: 80899.7266 - val_loss: 29422004224.0000 - val_mae: 77741.8750\n",
            "TRAIN: [    0     1     2 ... 22492 22493 22494] TEST: [   20    21    30 ... 22489 22490 22495]\n",
            "Epoch 1/20\n",
            "2025/2025 [==============================] - 10s 5ms/step - loss: 34554925056.0000 - mae: 79285.4062 - val_loss: 47448379392.0000 - val_mae: 84387.0312\n",
            "Epoch 2/20\n",
            "2025/2025 [==============================] - 9s 4ms/step - loss: 34191855616.0000 - mae: 78234.8516 - val_loss: 56784105472.0000 - val_mae: 103369.1953\n",
            "Epoch 3/20\n",
            "2025/2025 [==============================] - 9s 4ms/step - loss: 32622426112.0000 - mae: 77082.8438 - val_loss: 43717959680.0000 - val_mae: 79929.0625\n",
            "Epoch 4/20\n",
            "2025/2025 [==============================] - 9s 4ms/step - loss: 33388480512.0000 - mae: 77337.6250 - val_loss: 43230961664.0000 - val_mae: 80186.6484\n",
            "Epoch 5/20\n",
            "2025/2025 [==============================] - 9s 5ms/step - loss: 32835037184.0000 - mae: 77090.7422 - val_loss: 42267856896.0000 - val_mae: 79573.4062\n",
            "Epoch 6/20\n",
            "2025/2025 [==============================] - 9s 4ms/step - loss: 31589279744.0000 - mae: 75646.0078 - val_loss: 41629675520.0000 - val_mae: 78454.7031\n",
            "Epoch 7/20\n",
            "2025/2025 [==============================] - 9s 5ms/step - loss: 33366321152.0000 - mae: 76470.0859 - val_loss: 40969940992.0000 - val_mae: 79984.2422\n",
            "Epoch 8/20\n",
            "2025/2025 [==============================] - 10s 5ms/step - loss: 30467870720.0000 - mae: 74918.3672 - val_loss: 42144083968.0000 - val_mae: 80837.9922\n",
            "Epoch 9/20\n",
            "2025/2025 [==============================] - 9s 4ms/step - loss: 31745284096.0000 - mae: 74599.4062 - val_loss: 38330408960.0000 - val_mae: 73519.4141\n",
            "Epoch 10/20\n",
            "2025/2025 [==============================] - 9s 4ms/step - loss: 30146988032.0000 - mae: 73633.8516 - val_loss: 48962293760.0000 - val_mae: 82419.0781\n",
            "Epoch 11/20\n",
            "2025/2025 [==============================] - 9s 5ms/step - loss: 30937458688.0000 - mae: 74307.3594 - val_loss: 39098699776.0000 - val_mae: 75598.7969\n",
            "Epoch 12/20\n",
            "2025/2025 [==============================] - 9s 4ms/step - loss: 29561247744.0000 - mae: 72798.4609 - val_loss: 40026140672.0000 - val_mae: 76093.3828\n",
            "Epoch 13/20\n",
            "2025/2025 [==============================] - 9s 5ms/step - loss: 28886081536.0000 - mae: 71657.1719 - val_loss: 41801428992.0000 - val_mae: 80202.6484\n",
            "Epoch 14/20\n",
            "2025/2025 [==============================] - 9s 4ms/step - loss: 27859886080.0000 - mae: 72398.9453 - val_loss: 46836133888.0000 - val_mae: 85222.7031\n",
            "Epoch 15/20\n",
            "2025/2025 [==============================] - 9s 4ms/step - loss: 29204668416.0000 - mae: 72013.2812 - val_loss: 36406276096.0000 - val_mae: 72080.9141\n",
            "Epoch 16/20\n",
            "2025/2025 [==============================] - 9s 5ms/step - loss: 28058648576.0000 - mae: 71016.8672 - val_loss: 42771165184.0000 - val_mae: 78321.3672\n",
            "Epoch 17/20\n",
            "2025/2025 [==============================] - 9s 5ms/step - loss: 28341299200.0000 - mae: 71255.0469 - val_loss: 36456185856.0000 - val_mae: 74143.4141\n",
            "Epoch 18/20\n",
            "2025/2025 [==============================] - 9s 5ms/step - loss: 27523897344.0000 - mae: 70920.1250 - val_loss: 39998574592.0000 - val_mae: 73943.5312\n",
            "Epoch 19/20\n",
            "2025/2025 [==============================] - 10s 5ms/step - loss: 27315703808.0000 - mae: 69632.2109 - val_loss: 41384603648.0000 - val_mae: 75926.1641\n",
            "Epoch 20/20\n",
            "2025/2025 [==============================] - 10s 5ms/step - loss: 26611849216.0000 - mae: 69167.2344 - val_loss: 34079825920.0000 - val_mae: 71474.2656\n",
            "TRAIN: [    0     2     3 ... 22492 22494 22495] TEST: [    1    12    38 ... 22468 22477 22493]\n",
            "Epoch 1/20\n",
            "2025/2025 [==============================] - 10s 5ms/step - loss: 26466902016.0000 - mae: 69076.1406 - val_loss: 35741622272.0000 - val_mae: 70803.9297\n",
            "Epoch 2/20\n",
            "2025/2025 [==============================] - 10s 5ms/step - loss: 26422282240.0000 - mae: 68515.5234 - val_loss: 36648300544.0000 - val_mae: 73494.0469\n",
            "Epoch 3/20\n",
            "2025/2025 [==============================] - 9s 4ms/step - loss: 25644316672.0000 - mae: 68307.0312 - val_loss: 34831089664.0000 - val_mae: 77920.2500\n",
            "Epoch 4/20\n",
            "2025/2025 [==============================] - 9s 4ms/step - loss: 26247522304.0000 - mae: 69041.2969 - val_loss: 32844144640.0000 - val_mae: 69352.1172\n",
            "Epoch 5/20\n",
            "2025/2025 [==============================] - 9s 5ms/step - loss: 25268146176.0000 - mae: 68059.3359 - val_loss: 37499441152.0000 - val_mae: 79178.3906\n",
            "Epoch 6/20\n",
            "2025/2025 [==============================] - 9s 5ms/step - loss: 25575397376.0000 - mae: 68443.6094 - val_loss: 32578275328.0000 - val_mae: 70633.2422\n",
            "Epoch 7/20\n",
            "2025/2025 [==============================] - 9s 4ms/step - loss: 25355905024.0000 - mae: 67259.8359 - val_loss: 28888883200.0000 - val_mae: 70432.6797\n",
            "Epoch 8/20\n",
            "2025/2025 [==============================] - 9s 5ms/step - loss: 24506126336.0000 - mae: 66705.2812 - val_loss: 29687592960.0000 - val_mae: 66956.5547\n",
            "Epoch 9/20\n",
            "2025/2025 [==============================] - 9s 5ms/step - loss: 25298405376.0000 - mae: 67148.6641 - val_loss: 32354662400.0000 - val_mae: 67540.1328\n",
            "Epoch 10/20\n",
            "2025/2025 [==============================] - 9s 4ms/step - loss: 25120608256.0000 - mae: 66406.3438 - val_loss: 27518087168.0000 - val_mae: 64705.0938\n",
            "Epoch 11/20\n",
            "2025/2025 [==============================] - 9s 4ms/step - loss: 24253992960.0000 - mae: 66250.1172 - val_loss: 27586574336.0000 - val_mae: 65558.1016\n",
            "Epoch 12/20\n",
            "2025/2025 [==============================] - 9s 5ms/step - loss: 24694659072.0000 - mae: 65574.4453 - val_loss: 26763319296.0000 - val_mae: 63725.5234\n",
            "Epoch 13/20\n",
            "2025/2025 [==============================] - 9s 5ms/step - loss: 22600138752.0000 - mae: 65101.2930 - val_loss: 27446431744.0000 - val_mae: 64560.3281\n",
            "Epoch 14/20\n",
            "2025/2025 [==============================] - 9s 4ms/step - loss: 22463213568.0000 - mae: 65209.3633 - val_loss: 28766208000.0000 - val_mae: 65959.3203\n",
            "Epoch 15/20\n",
            "2025/2025 [==============================] - 9s 5ms/step - loss: 22482585600.0000 - mae: 64409.0898 - val_loss: 26484004864.0000 - val_mae: 62713.7617\n",
            "Epoch 16/20\n",
            "2025/2025 [==============================] - 9s 5ms/step - loss: 21715300352.0000 - mae: 64162.6367 - val_loss: 27595655168.0000 - val_mae: 65014.6250\n",
            "Epoch 17/20\n",
            "2025/2025 [==============================] - 10s 5ms/step - loss: 22249553920.0000 - mae: 64336.7695 - val_loss: 27174260736.0000 - val_mae: 63323.8398\n",
            "Epoch 18/20\n",
            "2025/2025 [==============================] - 10s 5ms/step - loss: 22273142784.0000 - mae: 63105.8203 - val_loss: 28267833344.0000 - val_mae: 66190.2266\n",
            "Epoch 19/20\n",
            "2025/2025 [==============================] - 9s 5ms/step - loss: 23281577984.0000 - mae: 63980.9375 - val_loss: 25699086336.0000 - val_mae: 62945.1523\n",
            "Epoch 20/20\n",
            "2025/2025 [==============================] - 9s 5ms/step - loss: 22648616960.0000 - mae: 62836.1797 - val_loss: 39950737408.0000 - val_mae: 85727.4375\n"
          ],
          "name": "stdout"
        }
      ]
    },
    {
      "cell_type": "code",
      "metadata": {
        "id": "mp6hwjKnD-n-",
        "colab_type": "code",
        "colab": {}
      },
      "source": [
        ""
      ],
      "execution_count": 0,
      "outputs": []
    },
    {
      "cell_type": "code",
      "metadata": {
        "id": "WNHoPf0IGtTn",
        "colab_type": "code",
        "colab": {}
      },
      "source": [
        "X_test = scaler_X.transform(X_test)"
      ],
      "execution_count": 0,
      "outputs": []
    },
    {
      "cell_type": "code",
      "metadata": {
        "id": "7_tkp--zGtWw",
        "colab_type": "code",
        "colab": {}
      },
      "source": [
        ""
      ],
      "execution_count": 0,
      "outputs": []
    },
    {
      "cell_type": "code",
      "metadata": {
        "id": "zzXfib1hGtZL",
        "colab_type": "code",
        "colab": {}
      },
      "source": [
        ""
      ],
      "execution_count": 0,
      "outputs": []
    },
    {
      "cell_type": "markdown",
      "metadata": {
        "id": "0QvsiCM_LqZJ",
        "colab_type": "text"
      },
      "source": [
        "# Нейросеть для определённого производителя"
      ]
    },
    {
      "cell_type": "code",
      "metadata": {
        "id": "FKK8PQnFLvnC",
        "colab_type": "code",
        "colab": {}
      },
      "source": [
        "df=pd.read_csv('/content/drive/My Drive/Курсач/Colab Notebooks/autoRuBmw.csv', sep = ';')"
      ],
      "execution_count": 0,
      "outputs": []
    },
    {
      "cell_type": "code",
      "metadata": {
        "id": "Oi0nHSo9MOBt",
        "colab_type": "code",
        "colab": {}
      },
      "source": [
        "df"
      ],
      "execution_count": 0,
      "outputs": []
    },
    {
      "cell_type": "code",
      "metadata": {
        "id": "LEGbxzxSMOiB",
        "colab_type": "code",
        "colab": {}
      },
      "source": [
        "df = df.drop(['Mark_info'], axis = 1)"
      ],
      "execution_count": 0,
      "outputs": []
    },
    {
      "cell_type": "code",
      "metadata": {
        "id": "z3N80ez7Mal8",
        "colab_type": "code",
        "colab": {}
      },
      "source": [
        "df"
      ],
      "execution_count": 0,
      "outputs": []
    },
    {
      "cell_type": "code",
      "metadata": {
        "id": "mmdOkxstMdgk",
        "colab_type": "code",
        "colab": {}
      },
      "source": [
        "#Заполняем пропуски\n",
        "df['Vin_resolution'].fillna(True, inplace=True)\n",
        "df['Owners_number'].fillna(2, inplace=True)\n",
        "df['PTS'].fillna(False, inplace=True)\n",
        "df['Trunk_volume_min'].fillna(458, inplace=True)\n",
        "df['Auto_class'].fillna('J', inplace=True)"
      ],
      "execution_count": 0,
      "outputs": []
    },
    {
      "cell_type": "code",
      "metadata": {
        "id": "sN9QreIKMs2q",
        "colab_type": "code",
        "colab": {}
      },
      "source": [
        "#Bool значение к бинарным\n",
        "df[\"Vin_resolution\"] = df[\"Vin_resolution\"].astype(float)\n",
        "df[\"PTS\"] = df[\"PTS\"].astype(float)\n",
        "df[\"Salon\"] = df[\"Salon\"].astype(float)"
      ],
      "execution_count": 0,
      "outputs": []
    },
    {
      "cell_type": "code",
      "metadata": {
        "id": "EaAbhVDZMvUH",
        "colab_type": "code",
        "colab": {}
      },
      "source": [
        "#Кодируем категориальные признаки числами\n",
        "\n",
        "model_encoder = preprocessing.LabelEncoder() \n",
        "model_encoder.fit(df['Model_info']) \n",
        "df['Model_info'] = model_encoder.transform(df['Model_info']) \n",
        "\n",
        "color_encoder = preprocessing.LabelEncoder() \n",
        "color_encoder.fit(df['Color_hex']) \n",
        "df['Color_hex'] = color_encoder.transform(df['Color_hex']) \n",
        "\n",
        "region_encoder = preprocessing.LabelEncoder() \n",
        "region_encoder.fit(df['Region']) \n",
        "df['Region'] = region_encoder.transform(df['Region'])\n",
        "\n",
        "\n",
        "body_type_encoder = preprocessing.LabelEncoder() \n",
        "body_type_encoder.fit(df['Body_type']) \n",
        "df['Body_type'] = body_type_encoder.transform(df['Body_type']) \n",
        "\n",
        "auto_class_encoder = preprocessing.LabelEncoder() \n",
        "auto_class_encoder.fit(df['Auto_class']) \n",
        "df['Auto_class'] = auto_class_encoder.transform(df['Auto_class']) "
      ],
      "execution_count": 0,
      "outputs": []
    },
    {
      "cell_type": "code",
      "metadata": {
        "id": "N52cc4-mMxY7",
        "colab_type": "code",
        "colab": {}
      },
      "source": [
        "#OneHotEncoding\n",
        "df = pd.get_dummies(df, columns=['Model_info','Body_type','Auto_class'], drop_first=True)"
      ],
      "execution_count": 0,
      "outputs": []
    },
    {
      "cell_type": "code",
      "metadata": {
        "id": "enKMhh4BMzdY",
        "colab_type": "code",
        "colab": {}
      },
      "source": [
        "df.describe()"
      ],
      "execution_count": 0,
      "outputs": []
    },
    {
      "cell_type": "code",
      "metadata": {
        "id": "FSsJOYheM7q9",
        "colab_type": "code",
        "colab": {}
      },
      "source": [
        "#разделение на предикторов и на целевую переменную\n",
        "X=df.drop(columns=['Price_rub'])\n",
        "Y=df[['Price_rub']]\n",
        "X_train, X_test, Y_train, Y_test = train_test_split(X, Y, test_size=0.2, random_state = 0) "
      ],
      "execution_count": 0,
      "outputs": []
    },
    {
      "cell_type": "code",
      "metadata": {
        "id": "mt9c_mJZNDpU",
        "colab_type": "code",
        "colab": {}
      },
      "source": [
        "#нормализация данных\n",
        "scaler_X = StandardScaler() \n",
        "X_train = scaler_X.fit_transform(X_train)\n",
        "\n",
        "# scaler_Y = StandardScaler()\n",
        "# Y_train = scaler_Y.fit_transform(Y_train)"
      ],
      "execution_count": 0,
      "outputs": []
    },
    {
      "cell_type": "code",
      "metadata": {
        "id": "5Qhwqz6vNF1X",
        "colab_type": "code",
        "colab": {}
      },
      "source": [
        "#архитектура нейронной сети\n",
        "model = keras.Sequential()\n",
        "\n",
        "model.add(keras.layers.Dense(64, activation = 'relu', input_shape = (55,)))\n",
        "model.add(keras.layers.Dense(64, activation = 'relu'))\n",
        "model.add(keras.layers.Dense(1))\n",
        "\n",
        "model.compile(optimizer='adam', loss='mean_squared_error', metrics=['mae'])"
      ],
      "execution_count": 0,
      "outputs": []
    },
    {
      "cell_type": "code",
      "metadata": {
        "id": "KRCyUf0oNJSK",
        "colab_type": "code",
        "colab": {}
      },
      "source": [
        "hist = model.fit(X_train, Y_train, batch_size = 1, epochs=100)"
      ],
      "execution_count": 0,
      "outputs": []
    },
    {
      "cell_type": "code",
      "metadata": {
        "id": "IwRwRnfXNLrw",
        "colab_type": "code",
        "colab": {}
      },
      "source": [
        ""
      ],
      "execution_count": 0,
      "outputs": []
    }
  ]
}